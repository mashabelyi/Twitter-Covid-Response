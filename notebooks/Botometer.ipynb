{
 "cells": [
  {
   "cell_type": "markdown",
   "metadata": {},
   "source": [
    "# Testing Botometer\n",
    "\n",
    "[Rapid API Dashboard](https://rapidapi.com/developer/security/Covid19-Twitter) sign in with github\n",
    "\n",
    "The response object has five main pieces:\n",
    "\n",
    "- **User** is exactly the user object from the request. We return this to you untouched with asynchronous workflows in mind, so that you don't have to worry about keeping the user data and matching it up to the appropriate response later.\n",
    "- **Scores** contains the overall classification results. The english score uses all six categories of features, while the universal score omits sentiment and content features, both of which are English-specific.\n",
    "- **Categories** gives subscores for each of the six feature classes.\n",
    "- **CAP** Complete Automation Probability (CAP) is the probability, according to our models, that this account is completely automated, i.e., a bot. This probability calculation uses Bayes' theorem to take into account an estimate of the overall prevalence of bots, so as to balance false positives with false negatives.\n",
    "- **Display_scores** are bascially the corresponding original scores multiplied by 5. Display scores are shown on https://botometer.iuni.iu.edu/ ."
   ]
  },
  {
   "cell_type": "code",
   "execution_count": 18,
   "metadata": {},
   "outputs": [
    {
     "ename": "ModuleNotFoundError",
     "evalue": "No module named 'botometer'",
     "output_type": "error",
     "traceback": [
      "\u001b[0;31m---------------------------------------------------------------------------\u001b[0m",
      "\u001b[0;31mModuleNotFoundError\u001b[0m                       Traceback (most recent call last)",
      "\u001b[0;32m<ipython-input-18-bbf28b7e3d6b>\u001b[0m in \u001b[0;36m<module>\u001b[0;34m\u001b[0m\n\u001b[0;32m----> 1\u001b[0;31m \u001b[0;32mimport\u001b[0m \u001b[0mbotometer\u001b[0m\u001b[0;34m\u001b[0m\u001b[0;34m\u001b[0m\u001b[0m\n\u001b[0m\u001b[1;32m      2\u001b[0m \u001b[0;34m\u001b[0m\u001b[0m\n\u001b[1;32m      3\u001b[0m \u001b[0mbotometer_api_url\u001b[0m \u001b[0;34m=\u001b[0m \u001b[0;34m'botometer-pro.p.rapidapi.com'\u001b[0m\u001b[0;34m\u001b[0m\u001b[0;34m\u001b[0m\u001b[0m\n\u001b[1;32m      4\u001b[0m \u001b[0;34m\u001b[0m\u001b[0m\n\u001b[1;32m      5\u001b[0m \u001b[0mrapidapi_key\u001b[0m \u001b[0;34m=\u001b[0m \u001b[0;34m\"e347deb455msha49d2421717ce37p14d25djsnd0a886875693\"\u001b[0m \u001b[0;31m# now it's called rapidapi key\u001b[0m\u001b[0;34m\u001b[0m\u001b[0;34m\u001b[0m\u001b[0m\n",
      "\u001b[0;31mModuleNotFoundError\u001b[0m: No module named 'botometer'"
     ]
    }
   ],
   "source": [
    "import botometer\n",
    "\n",
    "botometer_api_url = 'botometer-pro.p.rapidapi.com'\n",
    "\n",
    "rapidapi_key = \"e347deb455msha49d2421717ce37p14d25djsnd0a886875693\" # now it's called rapidapi key\n",
    "twitter_app_auth = {\n",
    "    'consumer_key': 'phUthlyGshmPYD4Z1Hd72DPUU',\n",
    "    'consumer_secret': 'mrkyBIIUjFatLmhxU4hLjcaznWQRFxWleivEyPvR1HyasAJI4P',\n",
    "    'access_token': '717748976926085120-Kn9RWiTxFQn6nmrgrKAK2Sgnsdp4Por',\n",
    "    'access_token_secret': '2unbfGZbmGX24We8zkCobkL3osdROBSM2dCDSFSTdLvQu',\n",
    "  }\n",
    "\n",
    "botometer_api_url = 'https://botometer-pro.p.rapidapi.com'\n",
    "bom = botometer.Botometer(botometer_api_url=botometer_api_url,\n",
    "                          wait_on_ratelimit=True,\n",
    "                          rapidapi_key=rapidapi_key,\n",
    "                          **twitter_app_auth)\n",
    "\n",
    "# Check a single account by screen name\n",
    "result = bom.check_account('@girlziplocked')\n",
    "result\n",
    "\n",
    "# # Check a single account by id\n",
    "# result = bom.check_account(1234567890)\n",
    "# result\n",
    "\n",
    "# # Check a sequence of accounts\n",
    "# accounts = [15221598, 4921782693, '@canadanewsmedia']\n",
    "# for screen_name, result in bom.check_accounts_in(accounts):\n",
    "#     print(screen_name, result)"
   ]
  },
  {
   "cell_type": "code",
   "execution_count": 17,
   "metadata": {},
   "outputs": [
    {
     "ename": "NameError",
     "evalue": "name 'bom' is not defined",
     "output_type": "error",
     "traceback": [
      "\u001b[0;31m---------------------------------------------------------------------------\u001b[0m",
      "\u001b[0;31mNameError\u001b[0m                                 Traceback (most recent call last)",
      "\u001b[0;32m<ipython-input-17-dc2cff9bc907>\u001b[0m in \u001b[0;36m<module>\u001b[0;34m\u001b[0m\n\u001b[0;32m----> 1\u001b[0;31m \u001b[0mresult\u001b[0m \u001b[0;34m=\u001b[0m \u001b[0mbom\u001b[0m\u001b[0;34m.\u001b[0m\u001b[0mcheck_account\u001b[0m\u001b[0;34m(\u001b[0m\u001b[0;34m'@girlziplocked'\u001b[0m\u001b[0;34m)\u001b[0m\u001b[0;34m\u001b[0m\u001b[0;34m\u001b[0m\u001b[0m\n\u001b[0m\u001b[1;32m      2\u001b[0m \u001b[0mresult\u001b[0m\u001b[0;34m\u001b[0m\u001b[0;34m\u001b[0m\u001b[0m\n",
      "\u001b[0;31mNameError\u001b[0m: name 'bom' is not defined"
     ]
    }
   ],
   "source": [
    "result = bom.check_account('@girlziplocked')\n",
    "result"
   ]
  },
  {
   "cell_type": "markdown",
   "metadata": {},
   "source": [
    "## Load all unique userIds"
   ]
  },
  {
   "cell_type": "code",
   "execution_count": 15,
   "metadata": {},
   "outputs": [],
   "source": [
    "from collections import Counter\n",
    "all_users = Counter()\n",
    "\n",
    "with open('../data/tweets.0301-0331.usa.csv', 'r') as f:\n",
    "    for line in f:\n",
    "        if line.startswith('tweetId'):\n",
    "            continue\n",
    "        data = line.split(',')\n",
    "        if len(data) != 21:\n",
    "            continue\n",
    "        \n",
    "        userId = data[2]\n",
    "        userHandle = data[3]\n",
    "        \n",
    "        all_users[(userId, userHandle)] += 1"
   ]
  },
  {
   "cell_type": "code",
   "execution_count": 31,
   "metadata": {},
   "outputs": [
    {
     "name": "stdout",
     "output_type": "stream",
     "text": [
      "509532 unique users\n"
     ]
    }
   ],
   "source": [
    "print(f\"{len(all_users)} unique users\")"
   ]
  },
  {
   "cell_type": "code",
   "execution_count": 55,
   "metadata": {},
   "outputs": [
    {
     "name": "stdout",
     "output_type": "stream",
     "text": [
      "3614 users with >20 tweets in March\n"
     ]
    }
   ],
   "source": [
    "thresh = 20\n",
    "print(f\"{len([u for u in all_users if all_users[u]>=thresh])} users with >{thresh} tweets in March\")"
   ]
  },
  {
   "cell_type": "code",
   "execution_count": 16,
   "metadata": {},
   "outputs": [
    {
     "name": "stdout",
     "output_type": "stream",
     "text": [
      "478427 users with <5 tweets in March\n"
     ]
    }
   ],
   "source": [
    "thresh = 5\n",
    "print(f\"{len([u for u in all_users if all_users[u]<thresh])} users with <{thresh} tweets in March\")"
   ]
  },
  {
   "cell_type": "code",
   "execution_count": 45,
   "metadata": {},
   "outputs": [],
   "source": [
    "with open('../data/users.csv', 'w') as f:\n",
    "    for (uid, handle), n in all_users.most_common():\n",
    "        f.write(\"{},{},{}\\n\".format(uid, handle, n))"
   ]
  },
  {
   "cell_type": "markdown",
   "metadata": {},
   "source": [
    "## Most retweeted accounts"
   ]
  },
  {
   "cell_type": "code",
   "execution_count": 2,
   "metadata": {},
   "outputs": [
    {
     "name": "stdout",
     "output_type": "stream",
     "text": [
      "414279 accounts\n",
      "1475487 retweeters\n"
     ]
    }
   ],
   "source": [
    "from collections import Counter\n",
    "\n",
    "accounts = Counter()\n",
    "retweeters = Counter()\n",
    "with open('../data/retweets.0301-0331.usa.csv', 'r') as f:\n",
    "    for line in f:\n",
    "        if line.startswith('tweetId'):\n",
    "            continue\n",
    "            \n",
    "        data = line.split(',')       \n",
    "        re_userId = data[4]\n",
    "        re_userHandle = data[5]\n",
    "        \n",
    "        accounts[(re_userId, re_userHandle)] += 1\n",
    "        \n",
    "        retweeters[(data[2], data[3])] += 1\n",
    "        \n",
    "print(len(accounts), \"accounts\")\n",
    "print(len(retweeters), \"retweeters\")"
   ]
  },
  {
   "cell_type": "code",
   "execution_count": 14,
   "metadata": {},
   "outputs": [
    {
     "data": {
      "text/plain": [
       "15152"
      ]
     },
     "execution_count": 14,
     "metadata": {},
     "output_type": "execute_result"
    }
   ],
   "source": [
    "len([a for a in accounts if accounts[a]>30])"
   ]
  },
  {
   "cell_type": "markdown",
   "metadata": {},
   "source": [
    "run Botometer on top 15,000 most retweeted accounts (because we are limited to 1700k per day)"
   ]
  },
  {
   "cell_type": "code",
   "execution_count": 12,
   "metadata": {},
   "outputs": [],
   "source": [
    "with open('../data/retweet_top_accounts.csv', 'w') as f:\n",
    "    for (uid, handle), n in accounts.most_common(15000):\n",
    "        f.write(\"{},{},{}\\n\".format(uid, handle, n))"
   ]
  },
  {
   "cell_type": "code",
   "execution_count": 5,
   "metadata": {},
   "outputs": [
    {
     "data": {
      "text/plain": [
       "[(('21059255', 'tedlieu'), 52410),\n",
       " (('25073877', 'realDonaldTrump'), 51210),\n",
       " (('78523300', 'RealJamesWoods'), 44211),\n",
       " (('292929271', 'charliekirk11'), 44072),\n",
       " (('966500444632596480', 'into_the_brush'), 36754),\n",
       " (('813286', 'BarackObama'), 31892),\n",
       " (('1651522832', 'DrDenaGrayson'), 29538),\n",
       " (('14247236', 'funder'), 28365),\n",
       " (('4207961', 'chrislhayes'), 23966),\n",
       " (('19739126', 'GOPLeader'), 23566),\n",
       " (('16129920', 'maddow'), 21680),\n",
       " (('759251', 'CNN'), 20167),\n",
       " (('17980523', 'mitchellvii'), 18459),\n",
       " (('32871086', 'kylegriffin1'), 17895),\n",
       " (('830908366377611266', 'waltshaub'), 17497),\n",
       " (('2985479932', 'BNODesk'), 16222),\n",
       " (('817661098988019712', 'Education4Libs'), 15682),\n",
       " (('15464697', 'JuddLegum'), 15648),\n",
       " (('224805342', 'ROSNALJU'), 15398),\n",
       " (('288277167', 'atrupar'), 14173),\n",
       " (('2421067430', 'TeaPainUSA'), 13924),\n",
       " (('970402920087908352', 'hollaa_backk'), 13911),\n",
       " (('190318791', 'galeforcerob'), 13530),\n",
       " (('39344374', 'DonaldJTrumpJr'), 13308),\n",
       " (('22771961', 'Acosta'), 13165),\n",
       " (('2863558530', 'stayfrea_'), 13014),\n",
       " (('1969808197', 'adazzlinhaze'), 12886),\n",
       " (('65497475', 'eugenegu'), 12609),\n",
       " (('822215673812119553', 'WhiteHouse'), 12506),\n",
       " (('807095', 'nytimes'), 12177),\n",
       " (('232268199', 'NYGovCuomo'), 11879),\n",
       " (('3223426134', 'SethAbramson'), 11490),\n",
       " (('939091', 'JoeBiden'), 11462),\n",
       " (('166751745', 'RyanAFournier'), 11439),\n",
       " (('15976705', 'Amy_Siskind'), 11345),\n",
       " (('15212187', 'bennyjohnson'), 11329),\n",
       " (('2876041031', 'B52Malmet'), 11058),\n",
       " (('14529929', 'jaketapper'), 10882),\n",
       " (('1652541', 'Reuters'), 10811),\n",
       " (('471677441', 'gtconway3d'), 10536),\n",
       " (('1108472017144201216', 'TrumpWarRoom'), 10483),\n",
       " (('2467791', 'washingtonpost'), 10469),\n",
       " (('11134252', 'GOP'), 10381),\n",
       " (('341194704', 'SteveGuest'), 10347),\n",
       " (('44196397', 'elonmusk'), 10245),\n",
       " (('2769334650', 'TopShotMilX2'), 10239),\n",
       " (('27493883', 'joncoopertweets'), 10105),\n",
       " (('4832275484', 'Fleektoria_'), 10093),\n",
       " (('14499829', 'WHO'), 10014),\n",
       " (('138203134', 'AOC'), 9810),\n",
       " (('14173315', 'NBCNews'), 9770),\n",
       " (('965406583911014403', 'GorillaPimpin_'), 9602),\n",
       " (('28785486', 'ABC'), 9477),\n",
       " (('927180702948450304', 'GirlNamedMarley'), 9414),\n",
       " (('216776631', 'BernieSanders'), 9393),\n",
       " (('49698134', 'JoyAnnReid'), 9368),\n",
       " (('117865176', 'OriginalDWoods'), 9272),\n",
       " (('324703658', 'RexChapman'), 9003),\n",
       " (('580312540', 'girlsreallyrule'), 8975),\n",
       " (('150078976', 'ChrisMurphyCT'), 8841),\n",
       " (('14298769', 'MollyJongFast'), 8806),\n",
       " (('1917731', 'thehill'), 8481),\n",
       " (('232901331', 'dbongino'), 8345),\n",
       " (('963790885937995777', 'HKrassenstein'), 8310),\n",
       " (('818927131883356161', 'PressSec'), 8248),\n",
       " (('4091551984', 'tribelaw'), 8221),\n",
       " (('34713362', 'business'), 8206),\n",
       " (('39349894', 'EricTrump'), 8099),\n",
       " (('592730371', 'JackPosobiec'), 8089),\n",
       " (('264501955', 'MichaelCoudrey'), 8014),\n",
       " (('836612413755691012', 'Pog_llins'), 8012),\n",
       " (('22461427', 'alyankovic'), 7985),\n",
       " (('18831926', 'DrEricDing'), 7895),\n",
       " (('963480595', 'RepMarkMeadows'), 7880),\n",
       " (('878247600096509952', 'RealCandaceO'), 7790),\n",
       " (('146569971', 'CDCgov'), 7788),\n",
       " (('2874187354', 'KarenFlemingPhD'), 7575),\n",
       " (('29501253', 'RepAdamSchiff'), 7559),\n",
       " (('357606935', 'ewarren'), 7534),\n",
       " (('22677397', 'atensnut'), 7315),\n",
       " (('2836421', 'MSNBC'), 7280),\n",
       " (('455024343', 'Surgeon_General'), 7247),\n",
       " (('95485773', 'jillboard'), 7232),\n",
       " (('548384458', 'JoyceWhiteVance'), 7144),\n",
       " (('89887215', 'Yamiche'), 7095),\n",
       " (('812135885328236551', 'RealSaavedra'), 6920),\n",
       " (('1626294277', 'spectatorindex'), 6872),\n",
       " (('17494010', 'SenSchumer'), 6822),\n",
       " (('148529707', 'RBReich'), 6739),\n",
       " (('40156330', 'ScottGottliebMD'), 6642),\n",
       " (('50772918', 'ClayTravis'), 6588),\n",
       " (('2353605901', 'GOPChairwoman'), 6571),\n",
       " (('51241574', 'AP'), 6529),\n",
       " (('729676086632656900', 'TeamTrump'), 6512),\n",
       " (('2316383071', 'RVAwonk'), 6360),\n",
       " (('5392522', 'NPR'), 6335),\n",
       " (('21619519', 'JoeNBC'), 6292),\n",
       " (('282695161', 'WayneDupreeShow'), 6280),\n",
       " (('25202268', 'SaraCarterDC'), 6215),\n",
       " (('942156122', 'RepSwalwell'), 6162)]"
      ]
     },
     "execution_count": 5,
     "metadata": {},
     "output_type": "execute_result"
    }
   ],
   "source": [
    "accounts.most_common(100)"
   ]
  }
 ],
 "metadata": {
  "kernelspec": {
   "display_name": "Python [conda env:DMA]",
   "language": "python",
   "name": "conda-env-DMA-py"
  },
  "language_info": {
   "codemirror_mode": {
    "name": "ipython",
    "version": 3
   },
   "file_extension": ".py",
   "mimetype": "text/x-python",
   "name": "python",
   "nbconvert_exporter": "python",
   "pygments_lexer": "ipython3",
   "version": "3.6.9"
  }
 },
 "nbformat": 4,
 "nbformat_minor": 2
}
