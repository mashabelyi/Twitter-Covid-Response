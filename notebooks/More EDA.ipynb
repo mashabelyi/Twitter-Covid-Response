{
 "cells": [
  {
   "cell_type": "markdown",
   "metadata": {},
   "source": [
    "Save a lighter version of march tweets - only date, time, state, sentiment"
   ]
  },
  {
   "cell_type": "code",
   "execution_count": 4,
   "metadata": {},
   "outputs": [
    {
     "name": "stdout",
     "output_type": "stream",
     "text": [
      "0 tweetId\n",
      "1 lang\n",
      "2 userId\n",
      "3 user_screen_name\n",
      "4 year\n",
      "5 month\n",
      "6 date\n",
      "7 day\n",
      "8 hour\n",
      "9 minute\n",
      "10 utc_offset\n",
      "11 text\n",
      "12 hashtags\n",
      "13 user_mentions\n",
      "14 symbols\n",
      "15 urls\n",
      "16 emojis\n",
      "17 sentiment\n",
      "18 retweet_cont\n",
      "19 favorite_count\n",
      "20 state\n"
     ]
    }
   ],
   "source": [
    "cols = 'tweetId,lang,userId,user_screen_name,year,month,date,day,hour,minute,utc_offset,text,hashtags,user_mentions,symbols,urls,emojis,sentiment,retweet_cont,favorite_count,state'.split(',')\n",
    "for i,name in enumerate(cols):\n",
    "    print(i, name)"
   ]
  },
  {
   "cell_type": "code",
   "execution_count": 43,
   "metadata": {},
   "outputs": [
    {
     "data": {
      "text/plain": [
       "'sd'"
      ]
     },
     "execution_count": 43,
     "metadata": {},
     "output_type": "execute_result"
    }
   ],
   "source": [
    "\"asda\".replace('a', '')"
   ]
  },
  {
   "cell_type": "code",
   "execution_count": 46,
   "metadata": {
    "scrolled": true
   },
   "outputs": [
    {
     "data": {
      "text/plain": [
       "102"
      ]
     },
     "execution_count": 46,
     "metadata": {},
     "output_type": "execute_result"
    }
   ],
   "source": [
    "from collections import defaultdict\n",
    "# load election data\n",
    "results = defaultdict(int)\n",
    "with open('../data/1976-2016-president.csv', 'r') as f:\n",
    "    for line in f:\n",
    "        if line.startswith('2016'):\n",
    "            data = line.strip().split(',')\n",
    "            if data[-6]=='\"republican\"' or data[-6]=='\"democrat\"':\n",
    "                \n",
    "                results[(data[2].replace('\"', ''), data[-6].replace('\"', ''))] = data[-4]\n",
    "#             # if majority voted for candidate\n",
    "#             if int(data[-4])/int(data[-3]) >= 0.5:\n",
    "#                 results.append((data[1], data[2], data[7], int(data[-4])/int(data[-3])))\n",
    "len(results)"
   ]
  },
  {
   "cell_type": "code",
   "execution_count": 54,
   "metadata": {
    "scrolled": true
   },
   "outputs": [
    {
     "name": "stdout",
     "output_type": "stream",
     "text": [
      "AL democrat\n",
      "AK republican\n",
      "AZ democrat\n",
      "AR republican\n",
      "CA democrat\n",
      "CO democrat\n",
      "CT democrat\n",
      "DE democrat\n",
      "DC democrat\n",
      "FL republican\n",
      "GA republican\n",
      "HI democrat\n",
      "ID republican\n",
      "IL democrat\n",
      "IN republican\n",
      "IA republican\n",
      "KS republican\n",
      "KY democrat\n",
      "LA democrat\n",
      "ME democrat\n",
      "MD democrat\n",
      "MA democrat\n",
      "MI republican\n",
      "MN democrat\n",
      "MS republican\n",
      "MO republican\n",
      "MT republican\n",
      "NE republican\n",
      "NV democrat\n",
      "NH democrat\n",
      "NJ democrat\n",
      "NM democrat\n",
      "NY democrat\n",
      "NC republican\n",
      "ND democrat\n",
      "OH republican\n",
      "OK republican\n",
      "OR republican\n",
      "PA republican\n",
      "RI democrat\n",
      "SC democrat\n",
      "SD republican\n",
      "TN democrat\n",
      "TX republican\n",
      "UT republican\n",
      "VT republican\n",
      "VA democrat\n",
      "WA democrat\n",
      "WV republican\n",
      "WI republican\n",
      "WY democrat\n"
     ]
    }
   ],
   "source": [
    "state_vote = {}\n",
    "for st in states:\n",
    "    if results[(st,'republican')] + results[(st,'democrat')] == 0:\n",
    "        continue\n",
    "    vote = 'republican' if results[(st,'republican')] > results[(st,'democrat')] else 'democrat'\n",
    "    print(st, vote)\n",
    "    state_vote[st] = vote\n"
   ]
  },
  {
   "cell_type": "code",
   "execution_count": 23,
   "metadata": {},
   "outputs": [],
   "source": [
    "states = [\"AL\",\"AK\",\"AS\",\"AZ\",\"AR\",\"CA\",\"CO\",\"CT\",\"DE\",\"DC\",\n",
    "          \"FM\",\"FL\",\"GA\",\"GU\",\"HI\",\"ID\",\"IL\",\"IN\",\"IA\",\"KS\",\n",
    "          \"KY\",\"LA\",\"ME\",\"MH\",\"MD\",\"MA\",\"MI\",\"MN\",\"MS\",\"MO\",\n",
    "          \"MT\",\"NE\",\"NV\",\"NH\",\"NJ\",\"NM\",\"NY\",\"NC\",\"ND\",\"MP\",\n",
    "          \"OH\",\"OK\",\"OR\",\"PW\",\"PA\",\"PR\",\"RI\",\"SC\",\"SD\",\"TN\",\n",
    "          \"TX\",\"UT\",\"VT\",\"VI\",\"VA\",\"WA\",\"WV\",\"WI\",\"WY\", \"\"]\n",
    "# len(states)\n",
    "stateidx = {k:i for i,k in enumerate(states)}\n",
    "cols = 8\n",
    "rows = 8"
   ]
  },
  {
   "cell_type": "code",
   "execution_count": 19,
   "metadata": {},
   "outputs": [
    {
     "data": {
      "text/plain": [
       "(0, 7)"
      ]
     },
     "execution_count": 19,
     "metadata": {},
     "output_type": "execute_result"
    }
   ],
   "source": [
    "def get_row(st):\n",
    "    return int(stateidx[st.strip()]/cols)\n",
    "def get_col(st):\n",
    "    return int(stateidx[st.strip()]%cols)\n",
    "\n",
    "get_row('CT'), get_col('CT')"
   ]
  },
  {
   "cell_type": "code",
   "execution_count": 56,
   "metadata": {},
   "outputs": [],
   "source": [
    "out = open('../data/tweets.0301-0331.usa.light.csv', 'w')\n",
    "out.write('tweetId,year,month,date,day,hour,minute,sentiment,state,2016Vote,rowidx,colidx\\n')\n",
    "\n",
    "with open('../data/tweets.0301-0331.usa.csv', 'r') as f:\n",
    "    for line in f:\n",
    "        if line.startswith('tweetId'):\n",
    "            continue\n",
    "        data = line.split(',')\n",
    "        if len(data) != 21:\n",
    "            continue\n",
    "        \n",
    "        state = data[20].strip()\n",
    "        if state not in states:\n",
    "            continue\n",
    "            \n",
    "        writeout = [data[0], data[4], data[5], data[6], \n",
    "                    data[7], data[8], data[9], data[17], \n",
    "                    state, state_vote[state] if state in state_vote else '', str(get_row(state)), str(get_col(state))]\n",
    "\n",
    "        out.write(','.join(writeout) + '\\n')\n",
    "\n"
   ]
  },
  {
   "cell_type": "code",
   "execution_count": 21,
   "metadata": {},
   "outputs": [],
   "source": [
    "from collections import Counter\n",
    "import json\n",
    "\n",
    "state_tweet_counts = Counter()\n",
    "\n",
    "with open('../data/tweets-march/json/tweets.0301-0331.jsonl', 'r') as f:\n",
    "    for line in f:\n",
    "        data = json.loads(line)\n",
    "        state_tweet_counts[data['location']] += 1"
   ]
  },
  {
   "cell_type": "code",
   "execution_count": 23,
   "metadata": {},
   "outputs": [],
   "source": [
    "# add retweets\n",
    "with open('../data/retweets.0301-0331.usa.jsonl', 'r') as f:\n",
    "    for line in f:\n",
    "        data = json.loads(line)\n",
    "        state_tweet_counts[data['location']] += 1"
   ]
  },
  {
   "cell_type": "code",
   "execution_count": 24,
   "metadata": {
    "scrolled": true
   },
   "outputs": [
    {
     "data": {
      "text/plain": [
       "[('CA', 1425110),\n",
       " ('TX', 838376),\n",
       " ('NY', 707983),\n",
       " ('FL', 678174),\n",
       " ('', 490111),\n",
       " ('IN', 374297),\n",
       " ('WA', 372534),\n",
       " ('PA', 296712),\n",
       " ('OH', 288434),\n",
       " ('IL', 285952),\n",
       " ('GA', 247219),\n",
       " ('NC', 223937),\n",
       " ('MA', 221482),\n",
       " ('MI', 201060),\n",
       " ('AZ', 200843),\n",
       " ('VA', 191950),\n",
       " ('NJ', 190277),\n",
       " ('CO', 168246),\n",
       " ('OR', 165963),\n",
       " ('DC', 163641),\n",
       " ('TN', 149605),\n",
       " ('MD', 141383),\n",
       " ('LA', 139349),\n",
       " ('MO', 123324),\n",
       " ('MN', 117029),\n",
       " ('SC', 111035),\n",
       " ('AL', 108215),\n",
       " ('NV', 104269),\n",
       " ('CT', 97547),\n",
       " ('WI', 86815),\n",
       " ('DE', 76213),\n",
       " ('NH', 75582),\n",
       " ('KY', 75284),\n",
       " ('OK', 64896),\n",
       " ('KS', 60344),\n",
       " ('ME', 54817),\n",
       " ('UT', 47931),\n",
       " ('IA', 46576),\n",
       " ('AR', 42114),\n",
       " ('NM', 41314),\n",
       " ('NE', 37984),\n",
       " ('HI', 34836),\n",
       " ('MS', 34769),\n",
       " ('ID', 31071),\n",
       " ('WV', 27051),\n",
       " ('MT', 26293),\n",
       " ('RI', 25537),\n",
       " ('AK', 22494),\n",
       " ('VT', 16733),\n",
       " ('SD', 11334),\n",
       " ('WY', 9323),\n",
       " ('ND', 8713),\n",
       " ('İN', 1)]"
      ]
     },
     "execution_count": 24,
     "metadata": {},
     "output_type": "execute_result"
    }
   ],
   "source": [
    "state_tweet_counts.most_common()"
   ]
  },
  {
   "cell_type": "markdown",
   "metadata": {},
   "source": [
    "### Sentiment By Date for D3\n",
    "\n",
    "Reformat the sentiment file again for imprt to D3"
   ]
  },
  {
   "cell_type": "code",
   "execution_count": 19,
   "metadata": {},
   "outputs": [
    {
     "name": "stdout",
     "output_type": "stream",
     "text": [
      "retweets.0322-0331.jsonl\n"
     ]
    }
   ],
   "source": [
    "# Cleanup and combine retweet files\n",
    "import os, json\n",
    "\n",
    "for file in os.listdir('../data/retweets-march'):\n",
    "    if file.endswith('0331.jsonl'):\n",
    "        print(file)\n",
    "#         retweets  = []\n",
    "        with open(os.path.join('../data/retweets-march', file), 'r') as f:\n",
    "            for line in f:\n",
    "                data = json.loads(line)\n",
    "                # reformat from string into json\n",
    "                data['retweeted_status'] = json.loads(data['retweeted_status'])\n",
    "#                 retweets.append(data)\n",
    "                \n",
    "                with open('../data/retweets.0301-0331.usa.jsonl', 'a') as f:\n",
    "#                     for rt in retweets:\n",
    "                    f.write(json.dumps(data) + '\\n')"
   ]
  },
  {
   "cell_type": "code",
   "execution_count": 26,
   "metadata": {},
   "outputs": [],
   "source": [
    "from collections import defaultdict, Counter"
   ]
  },
  {
   "cell_type": "code",
   "execution_count": 48,
   "metadata": {},
   "outputs": [],
   "source": [
    "by_state_by_day = defaultdict(lambda: defaultdict(lambda: defaultdict(int)))\n",
    "vals_by_state_by_day = defaultdict(lambda: defaultdict(list))\n",
    "# TODO: average with window = 2days?\n",
    "\n",
    "with open('../data/tweets.0301-0331.usa.light.csv', 'r') as f:\n",
    "    for line in f:\n",
    "        if line.startswith('tweetId'):\n",
    "            continue\n",
    "        \n",
    "        data = line.split(',')\n",
    "        state = data[-4]\n",
    "        sentiment = float(data[-5])\n",
    "        date = int(data[3])\n",
    "        \n",
    "        by_state_by_day[state][date]['sentiment'] += sentiment\n",
    "        by_state_by_day[state][date]['total'] += 1\n",
    "        \n",
    "        by_state_by_day['ALL'][date]['sentiment'] += sentiment\n",
    "        by_state_by_day['ALL'][date]['total'] += 1\n",
    "        \n",
    "        vals_by_state_by_day[state][date].append(sentiment)\n",
    "        vals_by_state_by_day['ALL'][date].append(sentiment)\n",
    "        "
   ]
  },
  {
   "cell_type": "markdown",
   "metadata": {},
   "source": [
    "**Loading new jsonl file format + Retweets**"
   ]
  },
  {
   "cell_type": "code",
   "execution_count": 155,
   "metadata": {
    "scrolled": true
   },
   "outputs": [],
   "source": [
    "n = 0\n",
    "tmp = []\n",
    "pos_tok = Counter()\n",
    "neg_tok = Counter()\n",
    "\n",
    "with open('../data/tweets-march/json/tweets.0301-0331.jsonl', 'r') as f:\n",
    "    for line in f:\n",
    "        data = json.loads(line)\n",
    "        \n",
    "        sentiment = data['sentiment']\n",
    "        date = data['date']\n",
    "        state = data['location']\n",
    "        tweet = data['text']\n",
    "        \n",
    "        emojis = data['emojis']\n",
    "        tokens = tweet.lower().strip().split()\n",
    "        \n",
    "        if sentiment > 0.5:\n",
    "            for t in tokens:\n",
    "                pos_tok[t] += 1\n",
    "            for e in emojis:\n",
    "                pos_tok[e] += 1\n",
    "                \n",
    "        if sentiment < -0.5:\n",
    "            for t in tokens:\n",
    "                neg_tok[t] += 1\n",
    "            for e in emojis:\n",
    "                neg_tok[e] += 1\n",
    "        \n",
    "        tmp.append((tweet, date, state, sentiment))\n",
    "        \n",
    "        \n",
    "#         if abs(sentiment) > 0.8:\n",
    "#             print(tweet, date, state, sentiment)\n",
    "#             print()\n",
    "#             n+=1\n",
    "            \n",
    "#             if n > 50:\n",
    "#                 break\n",
    "        "
   ]
  },
  {
   "cell_type": "code",
   "execution_count": 149,
   "metadata": {
    "collapsed": true
   },
   "outputs": [
    {
     "data": {
      "text/plain": [
       "[('Corona virus is honestly fucking with us now  they’ve cancelled Formula 1 😭😭😭😭😭😭😭😭😭😭😭😭😭😭😭😭😭😭😭😭😭😭😭😭😭💔💔💔💔💔💔💔💔💔💔💔💔💔💔💔💔💔💔💔💔💔💔💔💔💔💔💔💔💔',\n",
       "  13,\n",
       "  'ME',\n",
       "  -0.9994),\n",
       " ('@Kristenn_2 Hey lets HATE   HATE   HATE   HATE   HATE   HATE   HATE   HATE   HATE   HATE   HATE   HATE   HATE   HATE   HATE   HATE   HATE   HATE   HATE   HATE   HATE   HATE   HATE   HATE   HATE   HATE   HATE   HATE   HATE   HATE   HATE   HATE  Trump. That will sure get rid of Coronavirus.',\n",
       "  21,\n",
       "  'AR',\n",
       "  -0.9994),\n",
       " ('This covid19 dick fuckin me so hard 😫😫😫😫😫😫😫😫😫😫😫😫😫😫😫😫😫😫😫😫😫😫😫😫😫😫😫😫😫😫😫😫😫😫😫😫😫😫😫😫😫😫😫😫😫😫😫😫😪',\n",
       "  26,\n",
       "  'OH',\n",
       "  -0.9992),\n",
       " (\"@JamesRHarrigan \\U0001f97a😢😱😢\\U0001f97a😢😱😢\\U0001f97a😱😢\\U0001f97a😢😱😢\\U0001f97a😢😱😢\\U0001f97a😢😱😢\\U0001f97a😢😱😢\\U0001f97a😢😱😢\\U0001f97a Screw Corona Virus!  Without sports  I might as well be dead!  I'm taking to YOU @marchmadness @NCAA @pac12 @MLB @NBA @Pac12Network @Rjeff24 @xfl2020 @espn 💔\\U0001f92c💔\\U0001f92c💔\\U0001f92c💔\\U0001f92c💔\\U0001f92c💔\\U0001f92c\",\n",
       "  14,\n",
       "  'AZ',\n",
       "  -0.9988),\n",
       " (\"Tiffany Young One Of TaeYeon Sones Got Upset Because You Were Not In South Korea For TaeYeon I'm Not Mad At You Tiffany I'm Upset At Everything The Coronavirus Crap I Can't Stand It All It Pissing Me Off Really Bad?? 😠😭😭😭😭😭😭😭😭😭😭😭😭😭😭😭😭😭😭😭😭😭😭😭😭😭😭😭😭😭😭\",\n",
       "  11,\n",
       "  'TN',\n",
       "  -0.9986),\n",
       " ('CLASS WAR CLASS WAR CLASS WAR CLASS WAR CLASS WAR CLASS WAR CLASS WAR CLASS WAR CLASS WAR CLASS WAR CLASS WAR CLASS WAR CLASS WAR CLASS WAR CLASS WAR CLASS WAR CLASS WAR CLASS WAR CLASS WAR CLASS WAR CLASS WAR CLASS WAR CLASS WAR CLASS WAR',\n",
       "  31,\n",
       "  'GA',\n",
       "  -0.9985),\n",
       " (\"my country's handling covid 19 like it's some type of terrorist or warlord i hate it here what the fuck 😭😭😭😭😭😭😭😭😭😭😭😭😭😭😭😭😭😭😭😭😭😭😭😭\",\n",
       "  14,\n",
       "  'UT',\n",
       "  -0.9978),\n",
       " ('🔥🔥🔥🔥🔥🔥🔥🔥🔥🔥🔥🔥🔥🔥🔥🔥🔥🔥🔥🔥🔥🔥🔥🔥🔥🔥🔥🔥🔥🔥🔥🔥🔥🔥🔥🔥🔥🔥🔥Money Man “24” Prod by Nflated (EPIDEMIC)',\n",
       "  4,\n",
       "  'TN',\n",
       "  -0.9974),\n",
       " ('This fuckimg happemed im dec 19 china confess at that time ugh...!!!!!if more americans die its on mr45 hands 😠😠😠😠😠😠😠😠😠😠😠😠😠😠😠😠😠😠😠😠😠',\n",
       "  10,\n",
       "  'IL',\n",
       "  -0.9973),\n",
       " ('Just realised there is a thing called #coronashaming and people are doing it to other people 😱😱😱😱😱😱😱😱😱😱😱😱😱 #coronavirus',\n",
       "  9,\n",
       "  'OH',\n",
       "  -0.9969),\n",
       " ('Can we just get over this corona virus thing already I want to be able to see @OfficialMonstaX @ShoWareCenter July 1st from my front row seat without worries 😭😭😭😭😭😭😭😭😭😭😭😭😭😭😭😭😭😭😭😭😭😭😭😭😭',\n",
       "  2,\n",
       "  'WA',\n",
       "  -0.9967),\n",
       " ('@MotherJones 😭😭😭😭😭🙏🙏🙏🙏🙏💔💔💔💔💔SO SAD💔💔💔💔💔🙏🙏🙏🙏🙏😭😭😭😭😭SO SAD LETS PRAY FOR ALL WHO WERE AFFECTED #CORONOVIRUS #COVID19 #COVID_19',\n",
       "  23,\n",
       "  'AR',\n",
       "  -0.9966),\n",
       " (\"@NanciGuestRDPhD Well  Nanci  I have no words for this but I'll reply with this. 😱😱😱😱😱😱😱😱  We are hearing of confirmed Coronavirus cases in multiple #Chicago hospitals  and one team who did a bronchoscopy is ALL quarantined in their houses including a pulmonary doc I know for 14 days.\",\n",
       "  3,\n",
       "  'IL',\n",
       "  -0.9964),\n",
       " ('@zlj517   China lied  people died China lied  people died China lied  people died China lied  people died China lied  people died China lied  people died China lied  people died China lied  people died China lied  people died China lied  people died  #ChinaLiedPeopleDied',\n",
       "  18,\n",
       "  '',\n",
       "  -0.9958),\n",
       " (\"🔥🔥🔥🔥🔥🔥🔥🔥🔥🔥🔥🔥🔥 #HOTTDAMM💯 #BIZZYBONE👑 #CORONAVIRUS #GODZILLA EM CAN'T PHUKK WIT THIZ!!!🔥🔥🔥🔥🔥🔥🔥🔥🔥🔥🔥🔥🔥🔥🔥\",\n",
       "  2,\n",
       "  'OR',\n",
       "  -0.9954),\n",
       " ('Coronavirus fuck nigga 😭😭😭😭😭😭😭😭😭😭😭😭😭😭😭😭😭', 5, 'FL', -0.9949),\n",
       " ('@BelkissObadia Too busy?  😂😂😂😂😂😂😂😂  Let’s see!   Tweeting Golfing Watching Fox Propaganda TV Executive Time ( Doing Nothing) Rallies where he lies non stop  This is why we have a Coronavirus Nightmare!  Trump Is UNFIT to lead!👿👿👿👿👿👿👿👿👿👿👿👿👿🔥🔥🔥🔥🔥🔥🔥🔥🔥🔥🔥🔥🔥',\n",
       "  4,\n",
       "  '',\n",
       "  -0.9948),\n",
       " ('Pardon my language for a moment but   Fuck coronavirus Fuck racism Fuck cancer Fuck mental illness Fuck income inequality Fuck misogyny Fuck U.S healthcare system  My thoughts closing out this week.',\n",
       "  7,\n",
       "  'CA',\n",
       "  -0.9948),\n",
       " ('Finna GeT uS KiLLed oveR here 😂😂🤣🤣😭😭😭😭😭😭😭😭😭😭😭😭😭😭😭😭😭😭😭😭😭😭 • • • #hair #irs #taxes #tax #funny #lol #funnymemes #china #smh #crackingthefuckup #MAKESMELAUGH #hilarious #getuskilled #where #w2 #incometaxreturn',\n",
       "  3,\n",
       "  'NY',\n",
       "  -0.9947),\n",
       " ('@Mokeji5 Me that is concerned about the weed nuts😭😭😭😭😭 Corona wont let someone😭😭😭😭😭😭💔💔💔💔💔 God!!!!!!! Heal the world pls😭',\n",
       "  31,\n",
       "  'IN',\n",
       "  -0.9945),\n",
       " ('Poor old Tony boy Sounded rough on the twitter yo But he infected a few in quarantine  Our mothers coughed along  who’s to blame them  You’re dead (so dead) So dead (so dead) More dead than SARS could ever (Covid-19) (Can’t sing too wheezy) Much more deadly than our fathers flu',\n",
       "  4,\n",
       "  'VA',\n",
       "  -0.9943),\n",
       " ('@timothyjwhite78 They are wrong on Russia  wrong on Ukraine  wrong on Soleimani  wrong on NoKo  wrong on China tariffs  wrong on USMCA  wrong on Covington  wrong on Kavanaugh  wrong on impeachment  wrong on Avenatti  wrong on Cohen  wrong on borders - wrong  wrong  wrong  wrong  wrong. @MSNBC',\n",
       "  8,\n",
       "  'HI',\n",
       "  -0.9942),\n",
       " ('STAY THE FUCK HOME. STAY THE FUCK HOME. STAY THE FUCK HOME. STAY THE FUCK HOME. STAY THE FUCK HOME. STAY THE FUCK HOME. STAY THE FUCK HOME. STAY THE FUCK HOME. STAY THE FUCK HOME. STAY THE FUCK HOME. STAY THE FUCK HOME. STAY THE FUCK HOME. STAY THE FUCK HOME. STAY THE FUCK HOME.',\n",
       "  26,\n",
       "  'CA',\n",
       "  -0.9939),\n",
       " ('WISH Ppl China ALL THE BEST  BUT Leadership &amp; POLITICIANS  In response to ur INJUSTICE  V Prayed for DESTRUCTION of ur Economy &amp; Power 3K to 4K dead  If U Continue ur INJUSTICE  V PRAY 10K - 14K dead TOTAL DESTRUCTION of UR POWER &amp; ECONOMY  Die ROBIN Die',\n",
       "  1,\n",
       "  'IL',\n",
       "  -0.9938),\n",
       " ('@EssexCanning Coronavirus goes anal😱😱😱😱😱😱😱😱😱', 3, 'IN', -0.9936),\n",
       " ('Man my sister dad just died from the Coronavirus this shit is sooo fucked up and sad man he died alone mane😭😭😭😭😭😭😭😭😭',\n",
       "  27,\n",
       "  'LA',\n",
       "  -0.9935),\n",
       " ('Toda mi TL es Bad Bunny coronavirus Bad Bunny Bad Bunny coronavirus Bad bunny Bad Bunny coronavirus Bad Bunny meme random coronavirus  Bad Bunny Bad Bunny coronavirus Bad bunny Bad Bunny porno Bad bunny Bad Bunny  He dicho ya Bad Bunny?? Y coronavirus???  Que pereza',\n",
       "  1,\n",
       "  'IN',\n",
       "  -0.9934),\n",
       " (\"Planned Parenthood's agenda:  1 Kill babies 2 Kill babies 3 Kill babies 4 Kill babies 5 Kill babies 6 Kill babies 7 Kill babies 8 Kill babies 9. Kill babies  Planned Parenthood Sues Texas to Keep Doing Abortions Instead of Helping Stop Coronavirus\",\n",
       "  28,\n",
       "  '',\n",
       "  -0.9933),\n",
       " (\"Planned Parenthood's agenda:  1 Kill babies 2 Kill babies 3 Kill babies 4 Kill babies 5 Kill babies 6 Kill babies 7 Kill babies 8 Kill babies 9. Kill babies  Planned Parenthood Sues Texas to Keep Doing Abortions Instead of Helping Stop Coronavirus\",\n",
       "  28,\n",
       "  '',\n",
       "  -0.9933),\n",
       " ('🔥🔥🔥🔥🔥🔥🔥🔥🔥🔥🔥🔥🔥🔥🔥🔥🔥🔥🔥🔥🔥🔥🔥 Student in #coronavirus quarantine after classmates shook hands with Mike Pence',\n",
       "  4,\n",
       "  'CO',\n",
       "  -0.993)]"
      ]
     },
     "execution_count": 149,
     "metadata": {},
     "output_type": "execute_result"
    }
   ],
   "source": [
    "sorted(tmp, key=lambda x:x[-1])[:30]"
   ]
  },
  {
   "cell_type": "code",
   "execution_count": 152,
   "metadata": {},
   "outputs": [
    {
     "data": {
      "text/plain": [
       "['Blessings', '🙏🙏😇🙏🙏', 'all.']"
      ]
     },
     "execution_count": 152,
     "metadata": {},
     "output_type": "execute_result"
    }
   ],
   "source": [
    "\"Blessings 🙏🙏😇🙏🙏 all.\".split()"
   ]
  },
  {
   "cell_type": "code",
   "execution_count": 151,
   "metadata": {
    "scrolled": true
   },
   "outputs": [
    {
     "data": {
      "text/plain": [
       "[('@HustusMichael @davidf4444 @Jones17Charlene @Jeanetteisback @LindaSt18683783 @PersevereEver @Mattytwo2 @Lynda63986855 @MaxGibs62013817 @Ley_Mouse @Quin4Trump @realTrumpSquad @suzor_david @traveler002 @JACKLARKIN1 @MarlaineDettlo1 @RobertP60779724 @richard_landes @my2gr8girls @MemeMercenary @kit_bramat @realalvel @lcook74 @LivingDeadNerd @Scott73132483 @Lawsen_Webb @Islandworlds1 @Dannybr18041504 @ItsOnlyDawn @ReElect20 @dannybr57097439 @tneeb475 @usvetram @Whiskey100Proof @MJoeTeedoff @renowncook @velezusmc @stlpcs @Jali_Cat @MischievousLiz @AngelWarrior321 @The_Bull_1 @MelanieMetz6 @RPowell2011 @Jana__Howser @chuck_rowland @Dawson6211 @tagruber @Italianmike @AskmoreNorman 😄😄😄😄😄😄😄😄😄😄😄😄😄😄😄😄😄😄😄😄😄😄😄😄😄😄😄😄😄😄😄😄😄😄😄😄😄😄😄😄😄😄😄😄😄😄😄😄😄😄😄😄😄😄😄😄😄😄😄😄 So I hear your taking a cruise to Wuhan to see this guy? 🤣🤣🤣🤣🤣🤣🤣🤣🤣🤣🤣🤣🤣🤣🤣',\n",
       "  10,\n",
       "  'NJ',\n",
       "  0.9999),\n",
       " ('@GOP @realDonaldTrump @Mike_Pence 🤣😂😆😂🤣😂😆😂🤣😂😆😂🤣😂😆😂🤣😆😆😂🤣😂😆😆😂🤣😂😆😆🤣🤣😆😆😆🤣🤣😂😆😆😂🤣🤣😆😆😆😂😂😂😆😆😂🤣😂😆😆😂🤣😆😆😂🤣🤣😆😆🤣🤣😂😆😆🤣😂😆😆🤣🤣😂😂😆😂😂🤣🤣😆😂😆😂🤣😂😆😂😆😆😆🤣😂😂🤣🤣😆😂Before or after the #Hoax Covid-19 designed specifically to take down #TrumPutin',\n",
       "  2,\n",
       "  'OR',\n",
       "  0.9998),\n",
       " ('that picture your aunt shared on facebook of corona light beers with surgical masks around them 😂😂😂😂😂😂😂😂😂😂😂😂😂😂😂😂😂😂😂😂😂😂😂😂😂😂😂😂😂😂😂😂😂😂😂😂😂😂😂😂😂😂😂😂😂😂😂😂😂 😂😂😂😂😂😂😂😂😂😂😂😂😂😂😂😂😂😂😂😂😂😂😂😂😂😂😂😂😂😂😂😂😂😂😂😂😂',\n",
       "  4,\n",
       "  'FL',\n",
       "  0.9997),\n",
       " ('@realDonaldTrump @VP @SecAzar @CDCgov @CDCDirector Yeah? Did you screen these ppl? That “laying of hands” won’t protect you from the coronavirus  DOTARD. In fact  I HOPE SOMEBODY GIVES IT TO YOU  YOU HEATHEN 🤣🤣🤣🤣🤣🤣🤣🤣🤣🤣🤣🤣🤣🤣🤣🤣🤣🤣🤣🤣🤣🤣🤣🤣🤣🤣🤣🤣🤣🤣🤣🤣🤣🤣🤣🤣🤣🤣🤣🤣🤣🤣🤣🤣🤣🤣🤣🤣🤣🤣🤣🤣🤣🤣🤣🤣🤣🤣🤣🤣🤣',\n",
       "  1,\n",
       "  'CA',\n",
       "  0.9996),\n",
       " (\"@realDonaldTrump What other countries  who are handling their Coronavirus pandemic well  think of how the US is handling it.  We aren't even testing 😂😂😂😂😂😂😂😂😂😂😂😂😂😂😂😂😂😂😂😂😂😂😂😂😂😂😂😂😂😂😂😂😂😂😂😂😂😂😂😂😂😂😂😂😂😂😂😂😂😂😂😂😂😂😂😂😂😂😂😂\",\n",
       "  3,\n",
       "  'MI',\n",
       "  0.9994),\n",
       " ('@BrandonBeckham_ @realDonaldTrump @JoeBiden “Trump...  responding  based on science.” 😂🤣😂🤣😂🤣😂🤣😂🤣😂🤣😂🤣😂🤣😂🤣😂🤣😂🤣😂🤣😂🤣😂🤣😂🤣😂🤣😂🤣.   I‘ll stick with the advice of epidemiologists...',\n",
       "  17,\n",
       "  '',\n",
       "  0.9985),\n",
       " ('Trump urged Mnuchin to pressure Fed’s Powell on economic stimulus in explosive tirade about coronavirus 🤣🤣🤣🤣🤣🤣🤣🤣🤣🤣🤣🤣🤣🤣🤣🤣🤣🤣🤣🤣🤣🤣🤣🤣🤣🤣🤣🤣🤣🤣🤣🤣',\n",
       "  11,\n",
       "  'KY',\n",
       "  0.9984),\n",
       " ('@JinCao12 @JackGoldsmithNY @TheEconomist That’s even worse. You’ve seen the outside world but still brain washed. You are better off inside the wall. I don’t get it...if china is so great why are you not there 🤣🤣🤣🤣🤣🤣🤣🤣🤣🤣🤣🤣🤣🤣🤣🤣🤣🤣',\n",
       "  31,\n",
       "  'MO',\n",
       "  0.9984),\n",
       " ('The Coronavirus Gonna Disappear One Day 😒 Just Like Swine Flu   Ebola   Ya Taxes   Ya Baby Daddy and Ya Edges 🙄😭😭😭😭😭😂😂😂😂😂😂😂😂😂😂😂😂😂😂😂😂😂😂😂😂😂😂😂😂😂😂😂😂😂😂😂😂😂😂😂😂😂😂😂😂😂 #repost',\n",
       "  19,\n",
       "  'NJ',\n",
       "  0.9983),\n",
       " (\"🤣🤣🤣🤣😂😂😂😂 Reposted from @iamreadavis Sisters how y'all feel  brothers y'all alright? 🤣🤣🤣🤣🤣🤣🤣🤣🤣🤣🤣🤣🤣🤣🤣🤣🤣🤣🤣🤣🤣🤣 Sex during the pandemic. @LeslieJ33683764  - #regrann\",\n",
       "  26,\n",
       "  'TX',\n",
       "  0.9983),\n",
       " ('My mama boiling turkey necks and I came to taste one  she said “ GET YOUR CORONA FUCKING HANDS OUT MY POT BI*CH!”😂😂😂😂😂😭😭😭😂😂😂 dawg she never called me a bitch before! This virus got people changing !!😂😂😂😂😂😂😂😂😂😂😂😂😂😂😂😂😂😂😂😂😂😂😂😂😂😂😂😂😂😂😂',\n",
       "  23,\n",
       "  'LA',\n",
       "  0.9983),\n",
       " (\"@realDonaldTrump Wait ... there's a Chinese Virus too??? I only know about the COVID-19 virus  and of course the #TrumpVirus that's infected our country for the past 3+ years😂😂😂😂😂😂😂😂😂😂😂😂😂😂😂😂😂😂😂😂😂😂😂😂😂😂😂😂😂😂😂😂😂😂\",\n",
       "  18,\n",
       "  'IL',\n",
       "  0.9981),\n",
       " ('To all of the Artists that was flexing on others because you made it onto SXSW this year 🤣🤣🤣😂🤣😂😂😂😂🤣😂😂😂😂😂😂😂😂😂😂😂😂😂😂😂😂😂😂😂😂😂 drink a Corona',\n",
       "  6,\n",
       "  'OH',\n",
       "  0.998),\n",
       " (\"@WhiteHouse Ah HA HA HA HA HA HA HA HA HA HA HA HA HA HA 'buying lots of medical' HA HA HA HA HA prayed your way into an avoidable AIDS epidemic HA HA HA HA HA FALSE BELIEVERS WILL GO FIRST HA HA HA HA HA\",\n",
       "  1,\n",
       "  'CA',\n",
       "  0.998),\n",
       " ('When you have to change to online school bc of the corona and then your laptop decides to break and you’re currently unemployed bc the virus 😊😊😊😊😊😊😊😊😊😊😊😊😊😊😊',\n",
       "  28,\n",
       "  'AZ',\n",
       "  0.9979),\n",
       " (\"@SharonA_Krueger @OMGno2trump @DaikonForTurnip @realDonaldTrump 😂😂😂😂😂😂😂😂😂😂😂😂😂💖💖💖💖💖💖💖💖🦄🦄🦄🦄🦄🦄😇😇😇😇 Amazing! I'm home with coronavirus and you've had me laughing more in 1/2 hour than all week! Thank you so much! 😂😂😂\",\n",
       "  28,\n",
       "  'CO',\n",
       "  0.9976),\n",
       " ('@Jeffrey_Marty @SpeakerPelosi But wait!!!  We have a coronavirus emergency!! 😂😂😂😂😂😂😂😂😂😂😂😂😂😂😂😂😂😂',\n",
       "  1,\n",
       "  'CA',\n",
       "  0.997),\n",
       " (\"don't take this the wrong way  but Lol Lol lol hahahahaha 🤣🤣🤣🤣🤣🤣🤣🤣🤣🤣🤣🤣  (not laugjing at the student).   Coronavirus: Student in quarantine after classmates shook hands with Mike Pence\",\n",
       "  4,\n",
       "  'CA',\n",
       "  0.9965),\n",
       " ('COVID19 does not say you  cannot randomly speak to strangers 🤣🤣🤣🤣🤣🤣🤣🤣🤣🤣🤣🤣🤣🤣🤣🤣🤣🤣🤣🤣🤣',\n",
       "  12,\n",
       "  'ID',\n",
       "  0.9965),\n",
       " ('Paid sick days?  😂😂😂😂😂😂😂😂😂😂😂😂😂😂😂😂😂😂😂😂😂😂😂😂😂💀', 3, '', 0.9963),\n",
       " (\"Trump telling y'all to get a Flu Shot to prevent y'all from getting the Coronavirus. 🤣🤣🤣🤣🤣🤣🤣🤣🤣🤣🤣🤣🤣🤣🤣🤣🤣🤣🤣🤣🤣\",\n",
       "  3,\n",
       "  'VA',\n",
       "  0.9963),\n",
       " ('Do not let the Corona virus or anything take away your smile. Because today is International Day of Happiness. 🙂☺😊😀😃😁😄🤓😎🤠😉😇 🤗🤗🤗🤗🤗🤗🤗🤗🤗🤗🤗🤗 #InternationalDayofHappiness',\n",
       "  20,\n",
       "  'MI',\n",
       "  0.9962),\n",
       " ('@Spray_UK Cronus? More like  coronavirus! 😂😂😂😂😂😂😂😂😂😂😂😂😂😂😂😂😂😂😂😂😂😂',\n",
       "  13,\n",
       "  'PA',\n",
       "  0.9961),\n",
       " ('Que just said “I love you I hope you don’t catch the coronavirus kissing these fuck niggas” 😂😂😂😂😂😂😂😂😂😂😂😂😂😂😂😂😂😂😂 I love my lame ass Bestfriend omg 😂💀',\n",
       "  19,\n",
       "  'FL',\n",
       "  0.9958),\n",
       " ('This #QuarantineLife is great 4 @icp Shaggy I think 😂😂😂😂😂😂😂😂😂😂😂😂😂😂😂😂😂😂😂😂',\n",
       "  27,\n",
       "  'MI',\n",
       "  0.9956),\n",
       " ('@davidgura 🤣🤣😂🤣😂🤣😂🤣 you said racist😂🤣😂🤣😂😂🤣😂🤣😂🤣🤣😂 WUHAN VIRUS! such a Tool',\n",
       "  9,\n",
       "  '',\n",
       "  0.9955),\n",
       " ('How To Schmooze Your Way Into Some Free Groceries During Social Distancing. I Might Actually Try This Just To See If It Works. ♥️📽🎬 🤣🤣🤣🤣🤣🤣🤣🤣🤣🤣🤣🤣🤣🤣🤣🤣🤣🙌',\n",
       "  27,\n",
       "  'NC',\n",
       "  0.9953),\n",
       " ('Trump should let the experts do their job. Does he really know what social distancing means? Fake doctor Trump.  🙄🙄🙄🙄🙄🤣🤣🤣🤣🤣🤣🤣🤣🤣🤣🤣🤣🤣🤣🤣🤣🤣🤣🤣✍#coronavirus',\n",
       "  29,\n",
       "  'MA',\n",
       "  0.9953),\n",
       " (\"@om_eye_goodness as soon as I can find toilet paper I'm going to wrap it and Christmas rap and write I bought this during the coronavirus outbreak and handed out as Christmas presents this upcoming Christmas 🤣😂🤣😂🤣😂🤣😂🤣😂🤣😂🤣😂🤣😂🤣🤣🤣\",\n",
       "  14,\n",
       "  'HI',\n",
       "  0.9952),\n",
       " (\"The Corona virus isn't killing people  it's actually Chuck Norris in disguise 😎😎😎😎😎😎😎😎😎😎😎😎😎😎😎😎😎😎  This joke was brought to you by The Year 2007\",\n",
       "  1,\n",
       "  'IN',\n",
       "  0.9951),\n",
       " ('INSTEAD OF GOING CRAZY  OVER A DEFEATED CORONAVIRUS.... IN JESUS NAME!! THINK ... &amp; FEEL &amp; TOUCH THIS!! BEAUTIFUL DAYS OF  LOVE ARE STILL HERE!!!!!!!! CLAIM THEM!!!❤💋💘❤💋💘❤💋💘❤💋💘❤💋💘❤💋💘❤💋💘❤💋💘❤💋💘❤💋💘❤💋💘❤💋💘❤💋💘❤💋💘❤💋💘❤💋💘❤💋💘❤💋💘❤💋',\n",
       "  17,\n",
       "  '',\n",
       "  0.9951),\n",
       " ('@ShannonSharpe GAWN AHEAD BROTHA SHARPE.... PREACH BUT DONT REACH ... #SocialDistancing 🤣🤣🤣🤣🤣🤣🤣🤣🤣🤣🤣🤣',\n",
       "  18,\n",
       "  'WA',\n",
       "  0.995),\n",
       " (\"I can't this our president 😂😂😂😂😂😂😂😂😂🤣🤣🤣🤣🤣🤣🤣🤣🤣🤣🤣😩😩😩 #Coronavirus\",\n",
       "  13,\n",
       "  'AZ',\n",
       "  0.9948),\n",
       " ('Stay Home and Be Safe \\U0001f970\\U0001f970\\U0001f970😍😍😍😊😊😊😊😊😊',\n",
       "  30,\n",
       "  'CA',\n",
       "  0.9948),\n",
       " ('I just LOVE all the ppl in the shopping ctr parking lot on the news yelling at ppl to Stay Home!!😂🤣😂🤣😂🤣😂🤣😂🤣😂🤣😂🤣🤣',\n",
       "  30,\n",
       "  'PA',\n",
       "  0.9941),\n",
       " ('@whatshaniwants 🤣🤣🤣🤣🤣🤣🤣🤣🤣🤣🤣🤣🤣🤣🤣🤣 “but its really the corona”',\n",
       "  27,\n",
       "  'MS',\n",
       "  0.994),\n",
       " (\"I'm sorry...  😂🤣😂🤣😂😅😂🤣😂😅😂🤣😂😅🤣😂🤣😆😆😆  Man locks wife in bathroom over fear she might have coronavirus\",\n",
       "  3,\n",
       "  'CA',\n",
       "  0.9939),\n",
       " ('what if 😏🤔 both of us 👨👦 contracted 🤧😷the coronavirus 🚑💊🔬then got indefinitely 🕛🕟🕟🕡❔🔗quarantined 🛂🔐🚫☢️together 👬👨\\u200d❤️\\u200d👨💋😙😍😏..?? Hah hahaahA jkjk...😂😂 but what if..maybe....?..🤔🤔😁..LOL HAhA..ahaha.. 😁😁😆im just kidding..!! 🤣😂🤣🤣😅🙈.........unless?😳😳',\n",
       "  7,\n",
       "  'CA',\n",
       "  0.9938),\n",
       " ('@yumcoconutmilk @shoghicp TOO ALL THE PEOPLE WHO HAVE MOVED TO EUROPE YOU ARE GOING TO BE DEAD BY THE CORONAVIRUS IT STARTED IN CHINA🤣🤣🤣🤣😂😂😂😂😂😂NOW THEIR ARE LESS DUMB IDIOTS IN THE U.S.A. BECAUSE THEY MOVED TO EUROPE 😂😂😂😂😂😂🤣🤣🤣🤣🤣🤣',\n",
       "  3,\n",
       "  'OH',\n",
       "  0.9938),\n",
       " ('@JamesSi13329537 @afneil @maddow @MSNBC 🤣🤣🤣 so funny. And remember when Trump ignored Puerto Rico after the hurricane? And put kids in cages?  🙃🤣🤣. Sided with Putin? Demonized the free press. 🤣🤣😂 And when he downplayed the Coronavirus for a month instead of getting the country prepared?  🤣🤣🤣. SO FUNNY!',\n",
       "  30,\n",
       "  'WA',\n",
       "  0.9937),\n",
       " ('@robert_mcleroy @BreitbartNews Ok Ivan. 13 followers. 🤣🤣🤣🤣🤣🤣🤣🤣🤣🤣🤣🤣🤣🤣🤣',\n",
       "  16,\n",
       "  'IN',\n",
       "  0.9936),\n",
       " ('😂😂😂😂😂😂😂😂😂😂😂😂😂😂😂😂😂😂😂😂  FED CUTS RATES BY HALF A PERCENTAGE POINT TO COMBAT CORONAVIRUS SLOWDOWN @CNBC',\n",
       "  3,\n",
       "  'OR',\n",
       "  0.9935),\n",
       " ('#CoronaVirus Said “Big Opp Season On All You Niggas...” 😂🤣😂🤣😂🤣😂🤣😂🤣😂🤣 #Bruh #CmonSon #NYC #Brooklyn #Queens #Manhattan #TheBronx #StatenIsland #ItsOver #LOL #LMFAO #DWL #Comedy #Comedian #PaulBeBuggin #TheseAintJokes #PremiumDisrespect',\n",
       "  4,\n",
       "  'NY',\n",
       "  0.9934),\n",
       " ('Let’s call this guy😂😂Trump’s coronavirus expert😂😂🤣🤣🤣🤣🤣🤣🤣🤣🤣🤣🤣🤣🤣',\n",
       "  8,\n",
       "  '',\n",
       "  0.9933),\n",
       " ('@waltshaub Pence has been exposed to coronavirus. Now everyone stupidly standing around him in this photo has been  too. 🤣😂🤣😂🤣😂🤣😂🤣😂🤣😂😊😂🤣😂 #COVIDー19 #PencePandemic',\n",
       "  4,\n",
       "  'NC',\n",
       "  0.9929),\n",
       " ('Hey  Beautiful Braves!💛💙This pic was from last year (we are still social distancing!)  but I wanted to share that all of these amazing teachers are missing our students. We love you and hope you are doing well.  Love  love Turtle Doves! 😊#BravesKMS \\u2066@Dr_TCL\\u2069 \\u2066',\n",
       "  25,\n",
       "  'VA',\n",
       "  0.9929),\n",
       " ('@Elrond9_9 @business Lol exactly if they can catch it drinking Corona beer 🤦🏾\\u200d♀️ no sense in taking chances with updates.🤣🤣🤣🤣🤣🤣🤣🤣🤣🤣🤣🤣🤣🤣',\n",
       "  6,\n",
       "  'GA',\n",
       "  0.9928),\n",
       " ('It took the corona virus for @MTA to clean the trains @NYCMayor 😂😂😂😂😂😂😂😂😂😂😂😂😂😂😂😂',\n",
       "  3,\n",
       "  'NY',\n",
       "  0.9928),\n",
       " ('@CDCgov @realDonaldTrump Being anti social is paying off 🤣🤣🤣🤣🤣🤣🤣🤣🤣🤣🤣🤣🤣🤣🤣',\n",
       "  18,\n",
       "  'MN',\n",
       "  0.9926),\n",
       " ('happy 20th to one of my very best friends @BaileyGipson 💛 b I love you so much!! we always have the best talks and laughs! You are no doubt one of my favorite people!! I hope you had the best day possible!! Can this lock down be over so we can hang out or what?! 💛💛🎉🎉🎉',\n",
       "  25,\n",
       "  'MI',\n",
       "  0.9926),\n",
       " ('@FBaipi @HongKongFP Te worlds asshole is China... So... Keep telling your self. 😆😆😆😆😆😆😆😆😆😆😆😆🤣🤣🤣🤣🤣🤣',\n",
       "  24,\n",
       "  'IL',\n",
       "  0.9924),\n",
       " ('@MarieRoss57 @MSNBC Ya’ll cried when Trump banned travel to China as too early now the funding is too late. BAHAHAHAHAHAHA 😂🤣😂🤣😂🤣😂🤣😂🤣😂🤣😂🤣😂😂🤣',\n",
       "  4,\n",
       "  'FL',\n",
       "  0.9923),\n",
       " ('🤣🤣🤣🤣🤣🤣🤣🤣🤣🤣 #LOL #LMAO #CoronaVirus #BloodSport #Jokes #Hilarious #TheInternetWinsAgain #JeanClaudeVanDamme #ImDead #FuckedUp @ 3333 Bway',\n",
       "  4,\n",
       "  'NY',\n",
       "  0.9922),\n",
       " ('@JYHeffect Good night our handsome super talented bright shining Star!🌟How was your trip? I hope you’re doing good! I was worried about you with all this corona virus going around! Please stay healthy! We’re so proud of you! Sweet dreams!😊❤️🙆\\u200d♀️🌻🌴🤙🏻',\n",
       "  3,\n",
       "  '',\n",
       "  0.9919),\n",
       " ('@LoveEnergyMe CORONA CLOWNS! 😅😂😂😂😂😂😂😂😂😂😂😂😂😂😂😂', 3, 'TX', 0.9919),\n",
       " ('Corona Virus Expert Barber! 😜😂👌🤣🤣🤣🤣😂😂😂😂 ***For more FUNNY photos and videos visit ***AND Only for the people in the US and Canada...  💰💰💰💲💲🏆🏅💯 Get my free Step-By-Step Digital Marketing…',\n",
       "  5,\n",
       "  'NE',\n",
       "  0.9918),\n",
       " ('@3phibotticelli @Lexiedew @Ginj_Taz @Peppino2005 @Jack4Presidente @_ChiliBean @ginatheminpin Good morning beautiful friends!! We miss you. ♥️🙏🏻We pray all of you Snuggie pals and your humans stay healthy and safe especially during the pandemic. We love you all!!!! 😘😘😘😘😘😘😘😘',\n",
       "  21,\n",
       "  'TN',\n",
       "  0.9918),\n",
       " ('If You Ever #Violated I #Forgive You #Dinner On Me Just #DM Me 😘💪🏾✅😂🤣😂🤣😂🤣😂🤣😂🤣 #CoronaVirus #ChineseFood #ItsLit #GetUpWithMe #LOL #LMFAO #DWL #Comedy #Comedian #PaulBeBuggin #TheseAintJokes #PremiumDisrespect',\n",
       "  3,\n",
       "  'NY',\n",
       "  0.9917),\n",
       " ('Hey guys  there is this drink called “Corona” and the current virus that’s doing the rounds is also called “corona” I think there’s a joke in there somewhere. 😂😂😂😂😂😂😂😂\\U0001f975\\U0001f975😂😂😂😂😂😂😂',\n",
       "  4,\n",
       "  'IN',\n",
       "  0.9916),\n",
       " (\"Yes  please don't do your OWN RESEARCH on a variety of websites about the #Coronavirus. Darwin will take care of you. 😂😂😂😂😂😂😂🤣🤣🤣🤣🤣\",\n",
       "  4,\n",
       "  'NJ',\n",
       "  0.9915),\n",
       " ('I guess #coronavirus  wanted us to see the natural side of some of u ladies  HOPE UR HAIR NAILS AND MAKE UP GOT DONE BEFORE DAH LOcK DOWN 🤣🤣🤣😆😆😆😂😂😂😂🤣🤣🤣',\n",
       "  21,\n",
       "  'PA',\n",
       "  0.9915),\n",
       " ('Predator @realDonaldTrump just said this:  “My administration leapt into action and undertook the quickest and most aggressive response to a foreign outbreak in modern history.\"  😂😂😂😂😂  🤣🤣🤣🤣🤣  😂😂🤣😂😂  Except for one major thing...  ...That literally never happened.',\n",
       "  4,\n",
       "  'CA',\n",
       "  0.9914),\n",
       " ('Think I need to start knitting again 🤔🤓😁🤣🤣🤣🤣🤣🤣🤣🤣🤣🤣🤣🤣🤣 #coronavirus #upshipcreek street #Australia @ Murray Bridge  South Australia',\n",
       "  4,\n",
       "  'UT',\n",
       "  0.9914),\n",
       " ('#COVID #Covid_19 #CoronaVirus #Corona #CoronaVirusUpdate PROTECT YOURSELF &amp; YOUR FAMILY  FRIENDS  CONTACTS  NEIGHBORS &amp; ASSOCIATES!!!  WASH \\U0001f9fc🚿YOUR HANDS‼️🖐🖐🖐🖐🖐🖐🖐🖐🖐🖐🖐 AVOID 🤝SHAKING HANDS‼️ 🤝🤝🤝🤝🤝🤝🤝🤝🤝🤝🤝 NO SOAP \\U0001f9fc &amp; WATER\\U0001f9f4USE A POCKET HAND SANITIZER 💦 \\U0001f9f4',\n",
       "  11,\n",
       "  'GA',\n",
       "  0.9914),\n",
       " (\"I just gotta an email - I'll be fine mate  😁🤣🤣🤣🤣🤣🤣🤣🤣🤣🤣🤣🤣 #Adelaidedirectstationers #coronavirus  #upshipcreek #Australia @ Murray Bridge  South Australia\",\n",
       "  4,\n",
       "  'UT',\n",
       "  0.9913),\n",
       " ('@camwhiteastro 😂😂😂😂 I’m a Leo and ordered hair clippers off amazon so I could cut my hair in this pandemic. They should arrive Monday. Thank God for Amazon. 😂😂🤣😂🤣🤣😂🤣🤣',\n",
       "  28,\n",
       "  'NC',\n",
       "  0.9911),\n",
       " ('@strahinjagov She definitely created bad fanfiction from her own material. Incredible! 😂😂😂😂😂 Steph is wilding when she thought that. Someone should steal her phone. 😂😂😂😂 Oh god! Same! 😂😂😂😂 And apparently  corona virus hit here in Texas yesterday and the memes are insane! 😂😂😂',\n",
       "  3,\n",
       "  'TX',\n",
       "  0.991),\n",
       " ('#RT with your #Opinion   😂🤣😂🤣😂🤣😂🤣🤣😂🤣😂🤣😂  #Follow @ChicagoPD19 ⬅️🚨  #SocialDistancing #COVID2019 #coronavirus #COVIDー19 #PickupLines',\n",
       "  27,\n",
       "  'IL',\n",
       "  0.991),\n",
       " ('I finally got to visit my absolute favorite place in Skyrim but on @TESOnline  💞💞💞 I love Blackreach 😍😍😍😍😍 Thank you TESO for bringing this beautiful place back to life on ESO  #TESO #Khajiit #Blackreach #GreymorePrologue #StayAtHome #TheLockdown',\n",
       "  31,\n",
       "  'TX',\n",
       "  0.9909),\n",
       " ('Mike Pence shook hands with 44 cadets whose fellow student is being quarantined for coronavirus  Oh  please let there be a God... 🤣🤣🤣🤣🤣🤣🤣🤣🤣🤣🤣🤣',\n",
       "  4,\n",
       "  'IL',\n",
       "  0.9908),\n",
       " ('the corona virus should be called the boomer virus because it only takes out old people  Stupid old people 😂😂😂😂😂😂😂😂😂😂😂😂😂😂😂😂😳😳😳',\n",
       "  9,\n",
       "  '',\n",
       "  0.9906),\n",
       " ('@FredoCuomo5 @zlj517 Hong Kong belongs to China  but the idiot people there may not  that’s fine.  Haters gonna hate... Your life is getting easier and better once you quarantine yourself from “made in China”  😂😂😂😂😂  Good luck!  I’m honor my country and I’m so proud we don’t have religions.',\n",
       "  13,\n",
       "  'CA',\n",
       "  0.9904),\n",
       " ('@Samantita711 Myself and family are all okay thank you. It sure is uncertain times  but if we can do our best to be safe  stay home and do what needs to be done  then we are really thinking of everyone’s wellbeing and health. Glad you liked it  I really adore our friendship ❤️😘 be safe 🙏',\n",
       "  23,\n",
       "  'FL',\n",
       "  0.9904),\n",
       " ('Happy birthday  my dear BebeKath 💕 Your beautiful face radiates love and kindness...so genuine!  May God bless you with a healthy  happy life.  Be safe.  I miss you and your Tangi💙💙  Enjoy your day together😍  Ooooops!  Social distancing nga pala😉\\U0001f970🤗  #KathrynBlessedAt24',\n",
       "  25,\n",
       "  'CA',\n",
       "  0.9903),\n",
       " ('Feeling EXTREMELY BLESSED and THANKFUL for all the birthday love today! From the bottom of my heart I am truly thankful for all the beautiful relationships I’ve made in my life. Cheers to better days ahead and to fucking ENDING COVID-19😤😤👊🏾👊🏾 CHEERS!🍻',\n",
       "  30,\n",
       "  'CA',\n",
       "  0.9903),\n",
       " ('Only I would find a way to try and sell a house during a pandemic. Seriously if its not the hard way I will find a way to make it the hard way. 🤣😂🤣🤣🤣😂 Thank God my boyfriend is a rock and is capable of keeping me centered \"well as best as I can be\". Hurry home baby 😘😘😘😘',\n",
       "  23,\n",
       "  'WA',\n",
       "  0.9902),\n",
       " ('I’m here to help somebody today 🤷🏾\\u200d♂️😈🤦🏾\\u200d♂️🤣KMSL.........  #Repost @plies with @get_repost ・・・ 🤣🤣🤣🤣🤣 Sweet Pwussy Satday!!!!!! (Corona Edition).....😂😂😂😂😂 U Gotta Self Distancesenseeee (Y’all Know What I’m Tryin 2…',\n",
       "  21,\n",
       "  'LA',\n",
       "  0.9901),\n",
       " (\"Falling inlove is easy  But staying inlove is very special.💏   Happy 4th Anniversary my man  you know how much i love youuu 💘💯 No more drama's nasabe ko naman na sayo hehe. Keep safe &amp; Godbless us always.😇 Iloveyouu!!! \\U0001f970  Anniversary lockdown 🤣 i miss you so much 🤦💗\",\n",
       "  29,\n",
       "  'CA',\n",
       "  0.9901),\n",
       " ('@silverf22330551 @hemantmehta Okay. Best one I’ve seen today!!!!!  I’m spreading the coronavirus news!!!!!!🤣🤣🤣🤣🤣🤣🤣🤣🤣🤣',\n",
       "  30,\n",
       "  'SC',\n",
       "  0.9901),\n",
       " (\"☕️❤️🦄 We've only talked a little  but you've been so helpful and kind and I'm glad we got to meet on here! I can't wait to follow &amp; see more of your writing career. Also  I'm SO HAPPY YOU'RE IN YOUR HOME NOW! Stay safe and amazing!\",\n",
       "  26,\n",
       "  'TX',\n",
       "  0.99),\n",
       " ('they really put tampa on a 24hour weekend lock down 😂😂😂😂😂😂😂😂😂😂😂😂😂😂  a g finna go for $50 on sat &amp; sun they finna be risking it all to step outside 😂',\n",
       "  27,\n",
       "  'FL',\n",
       "  0.99),\n",
       " ('@realDonaldTrump @SteveDaines @GOPLeader “U.S. markets post big gains as Joe Biden’s Super Tuesday surge offers coronavirus respite” OH THAT’S GOTTA SUCK BIGLY!!!!!🤣🤣🤣🤣🤣🤣🤣🤣🤣🤣🤣🤣Lahoooserrrrr!',\n",
       "  4,\n",
       "  'CA',\n",
       "  0.9899),\n",
       " ('Thanks Obama  Obamacare Would Make The Coronavirus Vaccine Free to twump: 😂😂😂😂😂😂😂😂😂😂😂😂',\n",
       "  1,\n",
       "  'TX',\n",
       "  0.9899),\n",
       " (\"🤣🤣🤣🤣  #Trump in 2018 - what is a pandemic?! and why do we have a response team for it?! We Don't need it cut it save some money!   2020  #Coronavirus nearing a #Pandemic US not prepared.  ....Oops   🤣🤣🤣🤣🤣  Your Fearless Leader!  #Potus Is A Joke\",\n",
       "  1,\n",
       "  'IL',\n",
       "  0.9897),\n",
       " ('@ty_dontsin They better make a Drink Corona commercial at an American factor 😂😂😂😂😂😂😂😂😂😂😂😂😂',\n",
       "  1,\n",
       "  'SC',\n",
       "  0.9896),\n",
       " ('Me and my coworker talking about the corona virus- “imma have to download one of them apps real quick so I can get dicked down before I die.” 😂😂😂😂😂😂😂😂😂😂😂😂😂😂 I AM WEAAAAKKKK',\n",
       "  12,\n",
       "  'LA',\n",
       "  0.9896),\n",
       " ('@brendajlopez @zlj517 Haters gonna hate... Your life is getting easier and better once you quarantine yourself from “made in China”  😂😂😂😂😂  Good luck!  Let’s see how it looks like in the US in 2 weeks  by the way  request your president to take a test!  May God bless you  😂😂😂😂😂',\n",
       "  13,\n",
       "  'CA',\n",
       "  0.9896),\n",
       " ('them chinese niggas like “made in china” pussies 😂😂😂😂😂😂😂😂😂😂😂😂😂😂',\n",
       "  15,\n",
       "  'FL',\n",
       "  0.9896),\n",
       " ('✨ WIN IT WEDNESDAY✨  WIN a stay home and snuggle tee  All you need to do is these easy steps... ✨ LIKE this post ✨ LIKE 5 of our posts ✨ TAG a mate ✨ SHOUT about it (share everywhere) ✨ Winner will be chosen at 9pm…',\n",
       "  24,\n",
       "  'CT',\n",
       "  0.9895),\n",
       " ('@PuppyGueira GOOD. MUST PROTEC TY (•̀ᴗ•́)✨ definitely like ??? suddenly ur home is now OFFICE and it’s like???? ????? but i’m glad that you’ll be safe bean at home :3 i’m doing my best to be safe...! trying to stay in good spirits bc i’m regular-sick but that’s just me hhhh',\n",
       "  24,\n",
       "  'ME',\n",
       "  0.9895),\n",
       " ('2nd quarantine @iamRashmika 💖  💟💟💟💟💟💟💟💟💟💟💟  Love you @iamRashmika madam         Stay home stay safe 😍  💟💟💟💟💟💟💟💟💟💟💟 Mam i had done a big mistake 😍 😍 😍 😍 😍 Why you born so cute. You was making me to fall in love with you😘😘 #RashmikaMandanna #rashmika',\n",
       "  26,\n",
       "  'IN',\n",
       "  0.9895),\n",
       " ('@DrEricDing @IDesa12 @andreafeigl1 Thanks for all the hard work you do  sir! God bless and best wishes to you and your loved ones. And thank you for helping flatten the curve!  I am doing it too  and great to see!  Stay healthy and safe and sending all my best prayers or anything I can 😇',\n",
       "  29,\n",
       "  'DE',\n",
       "  0.9895),\n",
       " (\"@alcolley8 How's about Minutemen by Corona? just saying.DH. 🤣🤣🤣🤣🤣🤣🤣🤣🤣🤣🤣🤣 #coronvirusuk  #COVIDー19\",\n",
       "  7,\n",
       "  'IN',\n",
       "  0.9894),\n",
       " ('Being in this life with what’s going on with corona virus has made me feel so blessed to have the loving family I have and the most beautiful wife. I am the luckiest man ever to have such an amazing perfect family 😘🦋🦈🦐🦄💚 #blessed #family #love',\n",
       "  20,\n",
       "  'CA',\n",
       "  0.9894),\n",
       " ('🤣🤣🤣🤣🤣🤣🤣🤣🤣🤣🤣🤣 Its NOT funny &amp; VERY funny at the same damn time  #coronavirus #nickiminaj #nicki',\n",
       "  3,\n",
       "  'GA',\n",
       "  0.9893),\n",
       " ('That Coronavirus is outchea. Don’t have time to play games 😂😂😂😂😂😂😂😂😂😂😂😂😂',\n",
       "  8,\n",
       "  'FL',\n",
       "  0.9892),\n",
       " ('@JeffreeStar Cleaning walls and trinkets with bleach  water .. hands are getting dryer.. by the day. But hanging in .. I’m home bound With IBS.. lots to clean though. God bless stay safe and healthy 🙏🏻🤗🤗 and a precious 7yr old grand to raise! Hard times I pray those hard times end! 🙏🏻🙏🏻',\n",
       "  25,\n",
       "  'TX',\n",
       "  0.9892),\n",
       " (\"@lark_maria Hi Maria! I'm sitting at home  watching reruns of MEDIUM and loving it. You were SO AWESOME  adorable  funny and just overall great on that show. So glad to see you posting away on Twitter. Stay well! I hope and pray you have enough books to get you through this!\",\n",
       "  28,\n",
       "  'WA',\n",
       "  0.9892),\n",
       " ('Good morning 🌞😘😊 people Twitter amazing day to everyone God Father Energy Supreming Amen to that 🙏🙏 blessing all 🙏 please stay safe and take care of coronavirus in ours country and State yeah. Blessings 🙏🙏😇🙏🙏 all. AMEN.',\n",
       "  3,\n",
       "  'FL',\n",
       "  0.9891),\n",
       " ('@realDonaldTrump Congratulations on your new Nuke deal   with Russia  China and other   blessed are those who seek peace   thanks to our celestial and majestic father of All Heavens  under the command  yeshua his only Son  prayers for peace  ✌\\U0001f970✌🇺🇲\\U0001f970✌🤠🤠🤠\\U0001f970✌🇺🇲🇺🇲🇺🇲🇺🇲🇺🇲🇺🇲🇺🇲🇺🇲🇺🇲🇺🇲🇺🇲🇺🇲💖',\n",
       "  4,\n",
       "  'WA',\n",
       "  0.9891)]"
      ]
     },
     "execution_count": 151,
     "metadata": {},
     "output_type": "execute_result"
    }
   ],
   "source": [
    "sorted(tmp, key=lambda x:x[-1], reverse=True)[:100]"
   ]
  },
  {
   "cell_type": "code",
   "execution_count": 122,
   "metadata": {},
   "outputs": [
    {
     "name": "stdout",
     "output_type": "stream",
     "text": [
      "Loading Retweets\n",
      "done\n"
     ]
    }
   ],
   "source": [
    "# by_state_by_day = defaultdict(lambda: defaultdict(lambda: defaultdict(int)))\n",
    "# vals_by_state_by_day = defaultdict(lambda: defaultdict(list))\n",
    "\n",
    "# TWEETS\n",
    "# print(\"Loading Tweets...\")\n",
    "# with open('../data/tweets-march/json/tweets.0301-0331.jsonl', 'r') as f:\n",
    "#     for line in f:\n",
    "#         data = json.loads(line)\n",
    "#         state_tweet_counts[data['location']] += 1\n",
    "        \n",
    "#         sentiment = data['sentiment']\n",
    "#         date = data['date']\n",
    "#         state = data['location']\n",
    "        \n",
    "#         by_state_by_day[state][date]['sentiment'] += sentiment\n",
    "#         by_state_by_day[state][date]['total'] += 1\n",
    "        \n",
    "#         by_state_by_day['ALL'][date]['sentiment'] += sentiment\n",
    "#         by_state_by_day['ALL'][date]['total'] += 1\n",
    "        \n",
    "#         vals_by_state_by_day[state][date].append(sentiment)\n",
    "#         vals_by_state_by_day['ALL'][date].append(sentiment)\n",
    "\n",
    "# print(\"done\")\n",
    "re_by_state_by_day = defaultdict(lambda: defaultdict(lambda: defaultdict(int)))\n",
    "re_vals_by_state_by_day = defaultdict(lambda: defaultdict(list))\n",
    "\n",
    "print(\"Loading Retweets\")\n",
    "with open('../data/retweets.0301-0331.usa.jsonl', 'r') as f:\n",
    "    for line in f:\n",
    "        data = json.loads(line)\n",
    "        \n",
    "        sentiment = data['retweeted_status']['sentiment']\n",
    "        date = data['date']\n",
    "        state = data['location']\n",
    "        \n",
    "        re_by_state_by_day[state][date]['sentiment'] += sentiment\n",
    "        re_by_state_by_day[state][date]['total'] += 1\n",
    "        \n",
    "        re_by_state_by_day['ALL'][date]['sentiment'] += sentiment\n",
    "        re_by_state_by_day['ALL'][date]['total'] += 1\n",
    "        \n",
    "        re_vals_by_state_by_day[state][date].append(sentiment)\n",
    "        re_vals_by_state_by_day['ALL'][date].append(sentiment)\n",
    "        \n",
    "print(\"done\")"
   ]
  },
  {
   "cell_type": "markdown",
   "metadata": {},
   "source": [
    "**Apply Smoothing to increase statistical significance**"
   ]
  },
  {
   "cell_type": "code",
   "execution_count": 52,
   "metadata": {},
   "outputs": [
    {
     "name": "stdout",
     "output_type": "stream",
     "text": [
      "defaultdict(<class 'list'>, {0: [0, 1, 2, 3, 4], 1: [5, 6, 7, 8, 9], 2: [10, 11, 12, 13, 14], 3: [15, 16, 17, 18, 19], 4: [20, 21, 22, 23, 24], 5: [25, 26, 27, 28, 29], 6: [30]})\n"
     ]
    },
    {
     "data": {
      "text/plain": [
       "{0: 2.0,\n",
       " 1: 2.0,\n",
       " 2: 2.0,\n",
       " 3: 2.0,\n",
       " 4: 2.0,\n",
       " 5: 7.0,\n",
       " 6: 7.0,\n",
       " 7: 7.0,\n",
       " 8: 7.0,\n",
       " 9: 7.0,\n",
       " 10: 12.0,\n",
       " 11: 12.0,\n",
       " 12: 12.0,\n",
       " 13: 12.0,\n",
       " 14: 12.0,\n",
       " 15: 17.0,\n",
       " 16: 17.0,\n",
       " 17: 17.0,\n",
       " 18: 17.0,\n",
       " 19: 17.0,\n",
       " 20: 22.0,\n",
       " 21: 22.0,\n",
       " 22: 22.0,\n",
       " 23: 22.0,\n",
       " 24: 22.0,\n",
       " 25: 27.0,\n",
       " 26: 27.0,\n",
       " 27: 27.0,\n",
       " 28: 27.0,\n",
       " 29: 27.0,\n",
       " 30: 30.0}"
      ]
     },
     "execution_count": 52,
     "metadata": {},
     "output_type": "execute_result"
    }
   ],
   "source": [
    "import math\n",
    "def get_bins(arr, size):\n",
    "    bins = defaultdict(list)\n",
    "    for i, el in enumerate(arr):\n",
    "        bins[math.floor(i/size)].append(el)\n",
    "    print(bins)\n",
    "    idxmap = {}\n",
    "    for k,v in bins.items():\n",
    "        center = np.mean(v)\n",
    "        for el in v:\n",
    "            idxmap[el] = center\n",
    "    return idxmap\n",
    "get_bins(np.arange(31), 5)"
   ]
  },
  {
   "cell_type": "code",
   "execution_count": 63,
   "metadata": {},
   "outputs": [],
   "source": [
    "import math\n",
    "def get_bins(arr, size):\n",
    "    bins = defaultdict(list)\n",
    "    for i, el in enumerate(arr):\n",
    "        bins[math.floor(i/size)].append(el)\n",
    "    idxmap = {}\n",
    "    for k,v in bins.items():\n",
    "        center = np.mean(v)\n",
    "        for el in v:\n",
    "            idxmap[el] = center\n",
    "    return idxmap\n",
    "    \n",
    "def smooth(vals, size=2):\n",
    "    \"\"\"\n",
    "    SIZE = num days to smooth\n",
    "    \"\"\"\n",
    "    dates = np.arange(1,32)\n",
    "    datebins = get_bins(dates, size)\n",
    "    smoothed = defaultdict(lambda: defaultdict(list))\n",
    "    for state in vals:\n",
    "        for date in dates:\n",
    "            smoothed[state][datebins[date]] += vals[state][date]\n",
    "    return smoothed\n",
    "        "
   ]
  },
  {
   "cell_type": "code",
   "execution_count": 119,
   "metadata": {},
   "outputs": [],
   "source": [
    "vals_by_state_w2 = smooth(vals_by_state_by_day, size=2)"
   ]
  },
  {
   "cell_type": "code",
   "execution_count": 123,
   "metadata": {},
   "outputs": [],
   "source": [
    "re_vals_by_state_w2 = smooth(re_vals_by_state_by_day, size=2)"
   ]
  },
  {
   "cell_type": "code",
   "execution_count": 124,
   "metadata": {},
   "outputs": [
    {
     "data": {
      "text/plain": [
       "227494"
      ]
     },
     "execution_count": 124,
     "metadata": {},
     "output_type": "execute_result"
    }
   ],
   "source": [
    "len(re_vals_by_state_w2['TX'][3.5])"
   ]
  },
  {
   "cell_type": "markdown",
   "metadata": {},
   "source": [
    "**Check for Statistical Significance**"
   ]
  },
  {
   "cell_type": "code",
   "execution_count": 29,
   "metadata": {},
   "outputs": [],
   "source": [
    "from scipy import stats\n",
    "import numpy as np\n",
    "from matplotlib import pyplot as plt"
   ]
  },
  {
   "cell_type": "code",
   "execution_count": 86,
   "metadata": {
    "collapsed": true
   },
   "outputs": [
    {
     "data": {
      "image/png": "[encoded data removed]",
      "text/plain": [
       "<Figure size 432x288 with 1 Axes>"
      ]
     },
     "metadata": {
      "needs_background": "light"
     },
     "output_type": "display_data"
    }
   ],
   "source": [
    "mu, sigma = 0, 0.3\n",
    "plt.hist(np.random.normal(mu, sigma, 1000))\n",
    "plt.show()"
   ]
  },
  {
   "cell_type": "code",
   "execution_count": 108,
   "metadata": {},
   "outputs": [],
   "source": [
    "def check_sig(vals):\n",
    "    sig_by_state_by_date = defaultdict(lambda: defaultdict(float))\n",
    "    for state in vals:\n",
    "#         for date in range(1,32):\n",
    "        for date in vals[state]:\n",
    "#             print(state, date)\n",
    "            tmp = vals[state][date]\n",
    "            \n",
    "#             control = np.random.uniform(-1.0, 1.0, len(tmp))\n",
    "\n",
    "            mu, sigma = 0, 0.3\n",
    "            control = np.random.normal(mu, sigma, len(tmp))\n",
    "\n",
    "            s,p = stats.ttest_ind(tmp, control)\n",
    "\n",
    "            sig_by_state_by_date[state][date] = p\n",
    "    \n",
    "    return sig_by_state_by_date\n",
    "        \n",
    "        \n",
    "# stats.ttest_ind([-0.2,0.2],[0,0])"
   ]
  },
  {
   "cell_type": "code",
   "execution_count": 79,
   "metadata": {
    "collapsed": true
   },
   "outputs": [
    {
     "name": "stdout",
     "output_type": "stream",
     "text": [
      "20674\n",
      "42009\n",
      "11972\n",
      "10651\n",
      "9359\n",
      "8492\n",
      "6873\n",
      "6834\n",
      "6877\n",
      "8154\n",
      "6791\n",
      "7657\n",
      "8801\n",
      "8818\n",
      "8440\n",
      "4983\n"
     ]
    },
    {
     "data": {
      "text/plain": [
       "[None,\n",
       " None,\n",
       " None,\n",
       " None,\n",
       " None,\n",
       " None,\n",
       " None,\n",
       " None,\n",
       " None,\n",
       " None,\n",
       " None,\n",
       " None,\n",
       " None,\n",
       " None,\n",
       " None,\n",
       " None]"
      ]
     },
     "execution_count": 79,
     "metadata": {},
     "output_type": "execute_result"
    }
   ],
   "source": [
    "[print(len(vals_by_state_w2['CA'][x])) for x in vals_by_state_w2['CA'].keys()]"
   ]
  },
  {
   "cell_type": "code",
   "execution_count": 110,
   "metadata": {
    "scrolled": true
   },
   "outputs": [],
   "source": [
    "sig_by_state_w2 = check_sig(vals_by_state_w2)"
   ]
  },
  {
   "cell_type": "code",
   "execution_count": 125,
   "metadata": {},
   "outputs": [],
   "source": [
    "re_sig_by_state_w2 = check_sig(re_vals_by_state_w2)"
   ]
  },
  {
   "cell_type": "code",
   "execution_count": 128,
   "metadata": {
    "collapsed": true
   },
   "outputs": [
    {
     "data": {
      "text/plain": [
       "defaultdict(float,\n",
       "            {1.5: 0.0,\n",
       "             3.5: 0.0,\n",
       "             5.5: 0.0,\n",
       "             7.5: 0.0,\n",
       "             9.5: 0.0,\n",
       "             11.5: 0.0,\n",
       "             13.5: 0.0,\n",
       "             15.5: 4.204489771511841e-69,\n",
       "             17.5: 0.0,\n",
       "             19.5: 0.0,\n",
       "             21.5: 2.8016111381165342e-95,\n",
       "             23.5: 6.23976893099743e-116,\n",
       "             25.5: 2.0385757346917263e-36,\n",
       "             27.5: 1.778286332366897e-95,\n",
       "             29.5: 0.0,\n",
       "             31.0: 1.942624880747263e-221})"
      ]
     },
     "execution_count": 128,
     "metadata": {},
     "output_type": "execute_result"
    }
   ],
   "source": [
    "re_sig_by_state_w2['ALL']"
   ]
  },
  {
   "cell_type": "code",
   "execution_count": 136,
   "metadata": {},
   "outputs": [
    {
     "data": {
      "text/plain": [
       "3.044757257771858e-60"
      ]
     },
     "execution_count": 136,
     "metadata": {},
     "output_type": "execute_result"
    }
   ],
   "source": [
    "sig_by_state_w2['TX'][1.5]"
   ]
  },
  {
   "cell_type": "code",
   "execution_count": 94,
   "metadata": {
    "collapsed": true
   },
   "outputs": [
    {
     "data": {
      "text/plain": [
       "defaultdict(float,\n",
       "            {1: 8.37161672395143e-298,\n",
       "             2: 1.67820657139818e-23,\n",
       "             3: 4.662670843125251e-138,\n",
       "             4: 2.0475477302164143e-23,\n",
       "             5: 1.4795551757358696e-17,\n",
       "             6: 1.121970332681647e-36,\n",
       "             7: 7.748231503747326e-40,\n",
       "             8: 3.0534023073078454e-18,\n",
       "             9: 9.798466322399351e-20,\n",
       "             10: 6.773215787567054e-06,\n",
       "             11: 2.5948320798268186e-08,\n",
       "             12: 1.0265110522365345e-06,\n",
       "             13: 7.161396642378775e-07,\n",
       "             14: 0.023679135420804125,\n",
       "             15: 0.5080596172280296,\n",
       "             16: 0.7712707498889773,\n",
       "             17: 0.17112651657150912,\n",
       "             18: 0.03815094836792747,\n",
       "             19: 0.00010791333927676138,\n",
       "             20: 0.004019454327570808,\n",
       "             21: 0.10843561039157751,\n",
       "             22: 0.24466093201102326,\n",
       "             23: 0.6187186759763807,\n",
       "             24: 0.014818745141915947,\n",
       "             25: 0.3255663913642647,\n",
       "             26: 0.0023694059196660033,\n",
       "             27: 0.27329054455462864,\n",
       "             28: 0.47677983415960656,\n",
       "             29: 0.00017357155536976685,\n",
       "             30: 0.003068676007201982,\n",
       "             31: 0.0458165539000651})"
      ]
     },
     "execution_count": 94,
     "metadata": {},
     "output_type": "execute_result"
    }
   ],
   "source": [
    "sig_by_state_by_date['WA']"
   ]
  },
  {
   "cell_type": "code",
   "execution_count": 35,
   "metadata": {},
   "outputs": [],
   "source": [
    "for state in by_state_by_day:\n",
    "    for date in by_state_by_day[state]:\n",
    "        if by_state_by_day[state][date]['total'] > 0:\n",
    "            by_state_by_day[state][date]['sentiment'] /= by_state_by_day[state][date]['total']\n"
   ]
  },
  {
   "cell_type": "code",
   "execution_count": 36,
   "metadata": {},
   "outputs": [],
   "source": [
    "# get row, col values for each state\n",
    "# grid map layout from https://bl.ocks.org/officeofjane/2c3ed88c4be050d92765de912d71b7c4\n",
    "state_rc = {}\n",
    "with open('../data/publications_grid.csv', 'r') as f:\n",
    "    for line in f:\n",
    "        if line.startswith('id'):\n",
    "            continue\n",
    "        \n",
    "        row = line.strip().split(',')\n",
    "        pub = row[1]\n",
    "        if pub == 'New York Times 2':\n",
    "            state = row[-3]\n",
    "            r = int(row[-1])\n",
    "            c = int(row[-2])\n",
    "\n",
    "            state_rc[state] = (r,c)\n",
    "state_rc['ALL'] = (0,0)"
   ]
  },
  {
   "cell_type": "code",
   "execution_count": 141,
   "metadata": {},
   "outputs": [
    {
     "name": "stdout",
     "output_type": "stream",
     "text": [
      "\n",
      "İN\n"
     ]
    }
   ],
   "source": [
    "with open('../data/tweets-smoothed.0301-0331.usa.sentiment.d3.csv', 'w') as f:\n",
    "    f.write('state,date,sentiment,p25,p75,median,total,row,col,pval\\n')\n",
    "    for state in vals_by_state_w2:\n",
    "        if state not in state_rc:\n",
    "            print(state)\n",
    "            continue\n",
    "        if len(state)==0:\n",
    "            continue\n",
    "#         for date in range(1,32):\n",
    "        for date in sorted(vals_by_state_w2[state].keys()):\n",
    "            f.write(\"{},{},{},{},{},{},{},{},{:.4}\\n\".format(\n",
    "                state,date,\n",
    "                np.mean(vals_by_state_w2[state][date]),\n",
    "                np.percentile(vals_by_state_w2[state][date],25),\n",
    "                np.percentile(vals_by_state_w2[state][date],75),\n",
    "                len(vals_by_state_w2[state][date]),\n",
    "                state_rc[state][0], state_rc[state][1],\n",
    "                sig_by_state_w2[state][date]))"
   ]
  },
  {
   "cell_type": "code",
   "execution_count": 130,
   "metadata": {},
   "outputs": [
    {
     "name": "stdout",
     "output_type": "stream",
     "text": [
      "\n"
     ]
    }
   ],
   "source": [
    "with open('../data/retweets-smoothed.0301-0331.usa.sentiment.d3.csv', 'w') as f:\n",
    "    f.write('state,date,sentiment,total,row,col,pval\\n')\n",
    "    for state in re_vals_by_state_w2:\n",
    "        if state not in state_rc:\n",
    "            print(state)\n",
    "            continue\n",
    "        if len(state)==0:\n",
    "            continue\n",
    "#         for date in range(1,32):\n",
    "        for date in sorted(re_vals_by_state_w2[state].keys()):\n",
    "            f.write(\"{},{},{},{},{},{},{:.4}\\n\".format(\n",
    "                state,date,\n",
    "                np.mean(re_vals_by_state_w2[state][date]),\n",
    "                len(re_vals_by_state_w2[state][date]),\n",
    "                state_rc[state][0], state_rc[state][1],\n",
    "                re_sig_by_state_w2[state][date]))"
   ]
  },
  {
   "cell_type": "code",
   "execution_count": 39,
   "metadata": {},
   "outputs": [
    {
     "name": "stdout",
     "output_type": "stream",
     "text": [
      "\n",
      "İN\n"
     ]
    }
   ],
   "source": [
    "with open('../data/tweets-retweets.0301-0331.usa.sentiment.d3.csv', 'w') as f:\n",
    "    f.write('state,date,sentiment,total,row,col,pval\\n')\n",
    "    for state in by_state_by_day:\n",
    "        if state not in state_rc:\n",
    "            print(state)\n",
    "            continue\n",
    "        if len(state)==0:\n",
    "            continue\n",
    "        for date in range(1,32):\n",
    "#         for date in by_state_by_day[state]:\n",
    "            f.write(\"{},{},{},{},{},{},{:.4}\\n\".format(\n",
    "                state,date,\n",
    "                by_state_by_day[state][date]['sentiment'],\n",
    "                by_state_by_day[state][date]['total'],\n",
    "                state_rc[state][0], state_rc[state][1],\n",
    "                sig_by_state_by_date[state][date]))\n",
    "            "
   ]
  },
  {
   "cell_type": "code",
   "execution_count": 44,
   "metadata": {},
   "outputs": [
    {
     "data": {
      "text/plain": [
       "True"
      ]
     },
     "execution_count": 44,
     "metadata": {},
     "output_type": "execute_result"
    }
   ],
   "source": [
    "a = 0.\n",
    "a == 0"
   ]
  },
  {
   "cell_type": "markdown",
   "metadata": {},
   "source": [
    "## Pos vs Neg Words by state by day"
   ]
  },
  {
   "cell_type": "code",
   "execution_count": 171,
   "metadata": {},
   "outputs": [],
   "source": [
    "stopwords = set()\n",
    "with open('../data/stopwords.txt', 'r') as f:\n",
    "    for line in f:\n",
    "        stopwords.add(line.strip())"
   ]
  },
  {
   "cell_type": "code",
   "execution_count": 175,
   "metadata": {},
   "outputs": [],
   "source": [
    "words_by_state_by_day = defaultdict(lambda: defaultdict(lambda: defaultdict(Counter)))\n",
    "\n",
    "with open('../data/tweets.0301-0331.usa.csv', 'r') as f:\n",
    "    for line in f:\n",
    "        if line.startswith('tweetId'):\n",
    "            continue\n",
    "            \n",
    "        data = line.split(',')\n",
    "        state = data[-1].strip()\n",
    "        sentiment = float(data[-4])\n",
    "        if sentiment == 0:\n",
    "            continue\n",
    "        else:\n",
    "            sentiment = 'pos' if sentiment > 0 else 'neg'\n",
    "        date = int(data[6])\n",
    "        \n",
    "        words = data[11].split()\n",
    "\n",
    "#         print(state, sentiment, date, words)\n",
    "#         break\n",
    "        for w in words:\n",
    "            if w.lower() in stopwords:\n",
    "                continue\n",
    "            words_by_state_by_day[state][date][sentiment][w.lower()] += 1\n",
    "            words_by_state_by_day['ALL'][date][sentiment][w.lower()] += 1"
   ]
  },
  {
   "cell_type": "code",
   "execution_count": 114,
   "metadata": {
    "collapsed": true
   },
   "outputs": [
    {
     "data": {
      "text/plain": [
       "[('the', 1171),\n",
       " ('to', 979),\n",
       " ('and', 664),\n",
       " ('a', 576),\n",
       " ('of', 506),\n",
       " ('is', 446),\n",
       " ('in', 412),\n",
       " ('for', 376),\n",
       " ('i', 369),\n",
       " ('you', 324),\n",
       " ('this', 313),\n",
       " ('are', 244),\n",
       " ('be', 227),\n",
       " ('coronavirus', 220),\n",
       " ('we', 220),\n",
       " ('that', 219),\n",
       " ('on', 203),\n",
       " ('it', 199),\n",
       " ('with', 193),\n",
       " ('have', 184),\n",
       " ('not', 178),\n",
       " ('all', 169),\n",
       " ('at', 154),\n",
       " ('like', 151),\n",
       " ('social', 147),\n",
       " ('my', 145),\n",
       " ('your', 138),\n",
       " ('people', 136),\n",
       " ('but', 133),\n",
       " ('from', 132),\n",
       " ('will', 132),\n",
       " ('if', 128),\n",
       " ('as', 128),\n",
       " ('&amp;', 121),\n",
       " ('so', 118),\n",
       " ('our', 118),\n",
       " ('how', 117),\n",
       " ('about', 117),\n",
       " ('#coronavirus', 110),\n",
       " ('can', 107),\n",
       " ('they', 106),\n",
       " ('#covidー19', 100),\n",
       " ('distancing', 100),\n",
       " ('what', 99),\n",
       " ('pandemic', 93),\n",
       " ('-', 92),\n",
       " ('out', 92),\n",
       " ('get', 92),\n",
       " ('corona', 90),\n",
       " ('just', 89)]"
      ]
     },
     "execution_count": 114,
     "metadata": {},
     "output_type": "execute_result"
    }
   ],
   "source": [
    "words_by_state_by_day['CA'][15]['pos'].most_common(50)"
   ]
  },
  {
   "cell_type": "code",
   "execution_count": 132,
   "metadata": {},
   "outputs": [
    {
     "data": {
      "text/plain": [
       "763930"
      ]
     },
     "execution_count": 132,
     "metadata": {},
     "output_type": "execute_result"
    }
   ],
   "source": [
    "sum(words_by_state_by_day['ALL'][1]['neg'].values())"
   ]
  },
  {
   "cell_type": "code",
   "execution_count": 161,
   "metadata": {},
   "outputs": [],
   "source": [
    "from scipy.stats import chi2_contingency\n",
    "\n",
    "def chi_day(data):\n",
    "    \n",
    "    most_pos = Counter()\n",
    "    most_neg = Counter()\n",
    "    \n",
    "    most_pos = []\n",
    "    most_neg = []\n",
    "    \n",
    "\n",
    "    Npos = sum(data['pos'].values())\n",
    "    Nneg = sum(data['neg'].values())\n",
    "    \n",
    "    keys = set(list(data['pos'].keys()) + list(data['neg'].keys()))\n",
    "    \n",
    "    for key in keys:\n",
    "        \n",
    "        table = np.array([[data['pos'][key], Npos - data['pos'][key]],\n",
    "                    [data['neg'][key], Nneg - data['neg'][key]]])\n",
    "        \n",
    "        chi2, p, dof, expected = chi2_contingency(table)\n",
    "        if table[0,0] > expected[0,0]:\n",
    "#             most_pos[key] = p\n",
    "            most_pos.append((key, chi2, p, data['pos'][key]))\n",
    "        else:\n",
    "#             most_neg[key] = p\n",
    "            most_neg.append((key, chi2, p, data['neg'][key]))\n",
    "            \n",
    "    return most_pos, most_neg\n",
    "        \n",
    "        "
   ]
  },
  {
   "cell_type": "code",
   "execution_count": 166,
   "metadata": {},
   "outputs": [],
   "source": [
    "p = Counter({k:v for k,v in pos_tok.most_common(10000)})\n",
    "n = Counter({k:v for k,v in neg_tok.most_common(10000)})"
   ]
  },
  {
   "cell_type": "code",
   "execution_count": 167,
   "metadata": {},
   "outputs": [],
   "source": [
    "pos, neg = chi_day({'pos':p, 'neg':n})"
   ]
  },
  {
   "cell_type": "code",
   "execution_count": 168,
   "metadata": {
    "scrolled": true
   },
   "outputs": [
    {
     "data": {
      "text/plain": [
       "[('positive', 13701.615707663721, 0.0, 15667),\n",
       " ('😂', 12001.935700467888, 0.0, 14941),\n",
       " ('great', 6982.575238913686, 0.0, 9068),\n",
       " ('help', 6976.891350703158, 0.0, 12874),\n",
       " ('best', 6631.11096973351, 0.0, 8340),\n",
       " ('free', 6290.329254996987, 0.0, 7662),\n",
       " ('🤣', 6171.408916166182, 0.0, 6933),\n",
       " ('please', 5921.350659693262, 0.0, 11190),\n",
       " (' ', 5552.281872866918, 0.0, 51051),\n",
       " ('good', 5332.79605092614, 0.0, 11200),\n",
       " ('love', 5287.894744664676, 0.0, 6671),\n",
       " ('safe', 4715.327424132159, 0.0, 6128),\n",
       " ('thank', 4661.930562421206, 0.0, 6231),\n",
       " ('hand', 3738.6451373256828, 0.0, 5729),\n",
       " ('like', 3706.6861229928018, 0.0, 21545),\n",
       " ('hope', 3224.077112527306, 0.0, 6048),\n",
       " ('support', 3038.248291488677, 0.0, 4811),\n",
       " ('care', 2713.980923501061, 0.0, 7821),\n",
       " ('thanks', 2607.403494934797, 0.0, 3902),\n",
       " ('our', 2511.8128152067625, 0.0, 21635),\n",
       " ('better', 2267.780927102713, 0.0, 5324),\n",
       " ('friends', 2250.5947258762208, 0.0, 3532),\n",
       " ('happy', 2179.2008106869957, 0.0, 2852),\n",
       " ('share', 2148.6910095554654, 0.0, 3058),\n",
       " ('protect', 2023.724070348761, 0.0, 4506),\n",
       " ('super', 1946.4002089859039, 0.0, 2552),\n",
       " ('stay', 1944.6365022098619, 0.0, 12016),\n",
       " ('❤', 1879.0348990648197, 0.0, 2670),\n",
       " ('safety', 1699.6029933289126, 0.0, 2514),\n",
       " ('social', 1657.0426900338869, 0.0, 8746),\n",
       " ('for', 1597.2535950318997, 0.0, 75173),\n",
       " ('pretty', 1583.1103606530753, 0.0, 2814),\n",
       " ('well', 1438.9011719838938, 0.0, 5581),\n",
       " ('sure', 1424.5474000503468, 9.733291985573e-312, 5066),\n",
       " ('sanitizer', 1338.8945633896578, 3.990090468947863e-293, 2276),\n",
       " ('🙏', 1327.0078362737954, 1.5278696023581973e-290, 2765),\n",
       " ('distancing', 1304.792314286293, 1.027510087093402e-285, 5498),\n",
       " ('join', 1302.6959260256592, 2.9333214272682284e-285, 1742),\n",
       " ('save', 1253.804121760819, 1.2370116428400445e-274, 2670),\n",
       " ('fun', 1218.2056737302617, 6.7409796436306505e-267, 1760),\n",
       " ('#socialdistancing', 1201.6732976679173, 2.640250192363444e-263, 2237),\n",
       " ('relief', 1182.8361964748976, 3.2771385694503905e-259, 1766),\n",
       " ('healthy', 1162.7176653575643, 7.724976571740571e-255, 2325),\n",
       " ('amazing', 1147.6396329959432, 1.4617724667656512e-251, 1473),\n",
       " ('tested', 1132.734121624805, 2.5374895720340196e-248, 6387),\n",
       " ('important', 1105.3643177178578, 2.2541535158116537e-242, 2906),\n",
       " ('😊', 1096.1190762900605, 2.3034707996409521e-240, 1098),\n",
       " ('lol', 1090.6861554563493, 3.493039395026833e-239, 2337),\n",
       " ('tests', 1066.5922575896502, 6.025161088023663e-234, 5438),\n",
       " ('safe.', 1040.293277060419, 3.1342295203033986e-228, 1416)]"
      ]
     },
     "execution_count": 168,
     "metadata": {},
     "output_type": "execute_result"
    }
   ],
   "source": [
    "sorted(pos, key = lambda x: x[1], reverse=True)[:50]"
   ]
  },
  {
   "cell_type": "code",
   "execution_count": 169,
   "metadata": {
    "scrolled": true
   },
   "outputs": [
    {
     "data": {
      "text/plain": [
       "[('death', 15939.397550548729, 0.0, 17215),\n",
       " ('flu', 13483.181123937698, 0.0, 17041),\n",
       " ('the', 13270.134051985837, 0.0, 290249),\n",
       " ('coronavirus', 9439.351354703682, 0.0, 79913),\n",
       " ('no', 8688.042353525594, 0.0, 23890),\n",
       " ('is', 8597.61017744824, 0.0, 107307),\n",
       " ('people', 8445.652560707143, 0.0, 39280),\n",
       " ('crisis', 7582.511436514227, 0.0, 9125),\n",
       " ('trump', 7361.849807022984, 0.0, 25501),\n",
       " ('die', 7182.1221882647205, 0.0, 8588),\n",
       " ('sick', 7059.138655828133, 0.0, 10046),\n",
       " ('died', 7025.922792713923, 0.0, 7741),\n",
       " ('rate', 6136.857541216852, 0.0, 8928),\n",
       " ('shit', 5696.378663689514, 0.0, 7918),\n",
       " ('infected', 5362.243762148994, 0.0, 6641),\n",
       " ('bad', 4786.768718484224, 0.0, 6958),\n",
       " ('panic', 4725.220823257579, 0.0, 7126),\n",
       " ('fuck', 4688.14572713199, 0.0, 5781),\n",
       " ('000', 4614.063669356585, 0.0, 8298),\n",
       " ('stop', 4472.193662368807, 0.0, 10093),\n",
       " ('😭', 4362.509457410559, 0.0, 5535),\n",
       " ('virus', 4080.0278031541693, 0.0, 25128),\n",
       " ('kill', 3947.2111715341844, 0.0, 5331),\n",
       " ('toll', 3864.7430323092944, 0.0, 4371),\n",
       " ('of', 3714.7531789799195, 0.0, 120639),\n",
       " ('killed', 3622.5544919079125, 0.0, 3899),\n",
       " ('dead', 3355.369522862529, 0.0, 3764),\n",
       " ('@realdonaldtrump', 3342.609770471565, 0.0, 14874),\n",
       " ('than', 3246.228508473567, 0.0, 15642),\n",
       " ('emergency', 3234.47128318943, 0.0, 5266),\n",
       " ('he', 3153.1978999310413, 0.0, 21170),\n",
       " ('fear', 3004.070114371587, 0.0, 4601),\n",
       " ('worse', 2825.6839765749546, 0.0, 3781),\n",
       " ('threat', 2806.6088784926797, 0.0, 3493),\n",
       " ('war', 2739.4803131701383, 0.0, 3232),\n",
       " ('deaths', 2728.625974867383, 0.0, 5516),\n",
       " ('racist', 2646.5103429944684, 0.0, 3277),\n",
       " ('in', 2645.7385646591065, 0.0, 96836),\n",
       " ('ass', 2574.5911532692903, 0.0, 3326),\n",
       " ('fears', 2549.578185066107, 0.0, 3293),\n",
       " ('china', 2536.669251078096, 0.0, 20819),\n",
       " ('lying', 2528.572996515961, 0.0, 2900),\n",
       " ('worst', 2525.99572594803, 0.0, 3055),\n",
       " ('that', 2498.742711405465, 0.0, 53965),\n",
       " ('stupid', 2448.1223428610256, 0.0, 3115),\n",
       " ('because', 2441.2069180433755, 0.0, 14421),\n",
       " ('over', 2438.417823099139, 0.0, 11970),\n",
       " ('hell', 2331.7638967170706, 0.0, 2744),\n",
       " ('kills', 2255.6696469992953, 0.0, 2654),\n",
       " ('it', 2239.290026260856, 0.0, 46152)]"
      ]
     },
     "execution_count": 169,
     "metadata": {},
     "output_type": "execute_result"
    }
   ],
   "source": [
    "sorted(neg, key = lambda x: x[1], reverse=True)[:50]"
   ]
  },
  {
   "cell_type": "code",
   "execution_count": 181,
   "metadata": {},
   "outputs": [],
   "source": [
    "def calc_odds(p, n):\n",
    "    \n",
    "    \n",
    "    \n",
    "    odds_pos = Counter()\n",
    "    odds_neg = Counter()\n",
    "    \n",
    "#     odds_pos = []\n",
    "#     odds_neg = []\n",
    "    \n",
    "\n",
    "    Npos = sum(p.values())\n",
    "    Nneg = sum(n.values())\n",
    "    \n",
    "    keys = set(list(p.keys()) + list(n.keys()))\n",
    "    \n",
    "    for key in keys:\n",
    "        if n[key]==0 or p[key]==0:\n",
    "            continue\n",
    "        odds_pos[key] = (p[key]/ (Nneg - n[key])) * ((Npos - p[key])/n[key])\n",
    "        odds_neg[key] = (n[key]/ (Npos - p[key])) * ((Nneg - n[key])/p[key])\n",
    "        \n",
    "    return odds_pos, odds_neg\n",
    "        \n",
    "\n",
    "odds_pos, odds_neg = calc_odds(p, n)\n",
    "    "
   ]
  },
  {
   "cell_type": "code",
   "execution_count": 188,
   "metadata": {},
   "outputs": [
    {
     "name": "stdout",
     "output_type": "stream",
     "text": [
      "neg,killed,50.03526894483518\n",
      "neg,death,46.644988483977265\n",
      "neg,3.4%,42.85621567978035\n",
      "neg,😱,38.75012876905858\n",
      "neg,died,37.72663266007455\n",
      "neg,incompetent,32.74336940694489\n",
      "neg,incompetence,32.663023331213466\n",
      "neg,dead,32.09029599524789\n",
      "neg,toll,29.935152304262196\n",
      "neg,declares,28.07465006019771\n"
     ]
    }
   ],
   "source": [
    "# odds_neg.most_common()\n",
    "for w, odds  in odds_neg.most_common()[:10]:\n",
    "    print(\"neg,{},{}\".format(w,odds))"
   ]
  },
  {
   "cell_type": "code",
   "execution_count": 187,
   "metadata": {},
   "outputs": [
    {
     "name": "stdout",
     "output_type": "stream",
     "text": [
      "pos,🤣,21.17884772323574\n",
      "pos,excellent,18.67991802880654\n",
      "pos,positive,18.240994287940477\n",
      "pos,beautiful,17.640400583471042\n",
      "pos,😁,16.792505012633814\n",
      "pos,grateful,12.816486759242554\n",
      "pos,free,12.569309366790659\n",
      "pos,😂,11.2781982386306\n",
      "pos,:),11.275578813986243\n",
      "pos,😆,11.14753107823186\n"
     ]
    }
   ],
   "source": [
    "for w, odds  in odds_pos.most_common()[:10]:\n",
    "    print(\"pos,{},{}\".format(w,odds))"
   ]
  },
  {
   "cell_type": "code",
   "execution_count": 178,
   "metadata": {},
   "outputs": [
    {
     "name": "stdout",
     "output_type": "stream",
     "text": [
      "positive 18.240994287940477\n",
      "😂 11.2781982386306\n",
      "great 9.526718738806903\n",
      "help 4.182379124216546\n",
      "best 10.835440287495228\n",
      "free 12.569309366790659\n",
      "death 0.02143853032236258\n",
      "flu 0.06365727759136564\n",
      "coronavirus 0.47056570959583904\n",
      "people 0.3652596094745808\n",
      "crisis 0.05028731899888059\n",
      "\n",
      "positive 0.05482157300280072\n",
      "😂 0.08866664504750009\n",
      "great 0.10496793569925808\n",
      "help 0.2390983625109124\n",
      "best 0.09228974305308683\n",
      "free 0.07955886602983117\n",
      "death 46.644988483977265\n",
      "flu 15.709122944579686\n",
      "coronavirus 2.1251017224754496\n",
      "people 2.737778758068765\n",
      "crisis 19.88572904477688\n"
     ]
    }
   ],
   "source": [
    "Npos = sum(p.values())\n",
    "Nneg = sum(n.values())\n",
    "    \n",
    "for key in ['positive','😂', 'great', 'help', 'best', 'free', 'death', 'flu', 'coronavirus', 'people', 'crisis']:\n",
    "    odds = (p[key]/ (Nneg - n[key])) * ((Npos - p[key])/n[key])\n",
    "    print(key, odds)\n",
    "    \n",
    "print()\n",
    "for key in ['positive','😂', 'great', 'help', 'best', 'free', 'death', 'flu', 'coronavirus', 'people', 'crisis']:\n",
    "    odds = (n[key]/ (Npos - p[key])) * ((Nneg - n[key])/p[key])\n",
    "    print(key, odds)"
   ]
  },
  {
   "cell_type": "code",
   "execution_count": 177,
   "metadata": {},
   "outputs": [
    {
     "name": "stdout",
     "output_type": "stream",
     "text": [
      "31/31\r"
     ]
    }
   ],
   "source": [
    "distinct_words_by_day = defaultdict(lambda: {'pos':[], 'neg':[]})\n",
    "for date in range(1,32):\n",
    "    print(\"{}/31\".format(date), end='\\r')\n",
    "    pos, neg = chi_day(words_by_state_by_day['ALL'][date])\n",
    "    \n",
    "    distinct_words_by_day[date]['pos'] = sorted(pos, key = lambda x: x[1], reverse=True)[:50]\n",
    "    distinct_words_by_day[date]['neg'] = sorted(neg, key = lambda x: x[1], reverse=True)[:50]"
   ]
  },
  {
   "cell_type": "code",
   "execution_count": 162,
   "metadata": {},
   "outputs": [],
   "source": [
    "pos, neg = chi_day(words_by_state_by_day['ALL'][30])"
   ]
  },
  {
   "cell_type": "code",
   "execution_count": 188,
   "metadata": {
    "scrolled": true
   },
   "outputs": [
    {
     "data": {
      "text/plain": [
       "{'pos': [('support', 56.62422665149838, 5.2757828020780496e-14, 72),\n",
       "  ('safe', 55.804781750555414, 8.00366317860765e-14, 83),\n",
       "  ('stay', 49.93107494793437, 1.592425987522141e-12, 320),\n",
       "  ('love', 41.10576413430954, 1.442104129413025e-10, 63),\n",
       "  ('free', 37.79841264575133, 7.844557762844492e-10, 55),\n",
       "  ('friends', 36.04857320643541, 1.9245965785043423e-09, 70),\n",
       "  ('care', 35.56114898469153, 2.471683254706416e-09, 107),\n",
       "  ('relief', 33.8831394573493, 5.8523682387935556e-09, 77),\n",
       "  ('protect', 29.828462588545616, 4.7201129100271084e-08, 59),\n",
       "  ('social', 28.94004948545202, 7.465331780186843e-08, 224),\n",
       "  ('hope', 26.53405921866285, 2.5893249157177364e-07, 80),\n",
       "  ('home', 25.51043399030299, 4.399969804291466e-07, 243),\n",
       "  ('distancing', 23.979271376472596, 9.737846867948178e-07, 163),\n",
       "  ('healthy', 22.40949784965776, 2.2028197783238015e-06, 32),\n",
       "  ('share', 21.799641200901974, 3.0265672752497857e-06, 40),\n",
       "  ('fun', 21.049340877001452, 4.4760680109764655e-06, 23),\n",
       "  ('save', 17.531023320247495, 2.8265775032920774e-05, 39),\n",
       "  ('happy', 16.966880419529595, 3.8037598113543246e-05, 24),\n",
       "  ('#stayhome', 16.615205664959937, 4.5782495465136864e-05, 63),\n",
       "  ('play', 16.577014327632238, 4.671377433438342e-05, 36),\n",
       "  ('#socialdistancing', 16.24222404105644, 5.573788675356083e-05, 64),\n",
       "  ('#covid19', 14.364270566817268, 0.00015063363826898918, 229),\n",
       "  ('#stayathome', 14.264045606014706, 0.0001588707617706464, 42),\n",
       "  ('health', 13.517901687234058, 0.00023629847854932782, 114),\n",
       "  ('top', 13.231409013811485, 0.0002752967864015509, 32),\n",
       "  ('proud', 13.069040553907023, 0.0003002168751646698, 15),\n",
       "  ('friend', 12.9080714133033, 0.00032716822400512296, 26),\n",
       "  ('safety', 12.416120162815744, 0.0004256436232620029, 31),\n",
       "  ('strong', 12.193577003228283, 0.00047954342066818033, 19),\n",
       "  ('online', 11.610605892502573, 0.0006557678580380656, 30),\n",
       "  ('join', 11.118885354294903, 0.0008545312601144797, 22),\n",
       "  ('lol', 10.622020377942565, 0.0011174888519421026, 27),\n",
       "  ('sharing', 10.564546896952667, 0.0011527728765866692, 15),\n",
       "  ('😂', 10.3249293951518, 0.0013124528087064223, 23),\n",
       "  ('visit', 10.229998083991639, 0.001381748069449495, 19),\n",
       "  ('time', 10.177756858556304, 0.001421450042128539, 138),\n",
       "  ('safe!', 10.084798792106708, 0.0014949748602092249, 12),\n",
       "  ('follow', 10.03215120286016, 0.0015383127534332167, 28),\n",
       "  ('community', 9.76094375489606, 0.0017825837820825059, 31),\n",
       "  ('providing', 9.601744080421485, 0.0019439264747911117, 14),\n",
       "  ('access', 9.484582519602446, 0.002072057591929482, 22),\n",
       "  ('ready', 9.484582519602446, 0.002072057591929482, 22),\n",
       "  ('tests', 9.452838827838828, 0.0021082254968062372, 40),\n",
       "  ('family.', 9.390935835426038, 0.0021806086533725957, 16),\n",
       "  ('safe.', 9.390935835426038, 0.0021806086533725957, 16),\n",
       "  ('clear', 9.335707393096655, 0.0022473132332699857, 18),\n",
       "  ('stand', 9.261067988889177, 0.0023407648179953476, 27),\n",
       "  ('working', 9.252036489869313, 0.0023523368855130045, 68),\n",
       "  ('beautiful', 9.092120199194284, 0.002567131023222797, 11),\n",
       "  ('bless', 9.092120199194284, 0.002567131023222797, 11)],\n",
       " 'neg': [('shit', 50.121769997621534, 1.4449499644252812e-12, 77),\n",
       "  ('death', 38.11297551582901, 6.676466260226578e-10, 53),\n",
       "  ('crisis', 37.93108327907228, 7.32882374282373e-10, 91),\n",
       "  ('worse', 34.241585897746546, 4.867755196974476e-09, 39),\n",
       "  ('sick', 31.583915369565595, 1.9100512107919515e-08, 59),\n",
       "  ('trump', 30.22333341551943, 3.850490630014279e-08, 209),\n",
       "  ('china', 27.18874414331604, 1.8452986538606368e-07, 195),\n",
       "  ('bad', 27.133274538732117, 1.899010359581711e-07, 52),\n",
       "  ('fuck', 26.66928110662577, 2.4142948668970235e-07, 61),\n",
       "  ('hell', 24.335227732245045, 8.094510702386421e-07, 34),\n",
       "  ('americans', 23.526780302111874, 1.2318711971607855e-06, 71),\n",
       "  ('democrats', 22.26059439253008, 2.3804176115723107e-06, 79),\n",
       "  ('killed', 21.049340877001452, 4.4760680109764655e-06, 23),\n",
       "  ('infected', 21.035188999273082, 4.509250511876429e-06, 35),\n",
       "  ('coronavirus', 21.013300982950543, 4.561059112353769e-06, 557),\n",
       "  ('war', 19.869046470332446, 8.293230625580706e-06, 27),\n",
       "  ('emergency', 19.607228894381073, 9.510866684771995e-06, 47),\n",
       "  ('lying', 19.052464067544193, 1.2717345805544439e-05, 21),\n",
       "  ('block', 17.931788826123377, 2.2896469736638894e-05, 25),\n",
       "  ('hate', 17.36868283043656, 3.0785700157260604e-05, 31),\n",
       "  ('stop', 17.36402556513351, 3.086123214743026e-05, 119),\n",
       "  ('worst', 16.966880419529595, 3.8037598113543246e-05, 24),\n",
       "  ('flu', 16.56890145909126, 4.691404288149919e-05, 55),\n",
       "  ('die', 16.454940323841512, 4.982018254728917e-05, 32),\n",
       "  ('media', 16.37454214976178, 5.197870509874064e-05, 43),\n",
       "  ('olympics', 15.432495894710796, 8.550523304032724e-05, 20),\n",
       "  ('risk', 15.295992255223103, 9.191130514475599e-05, 50),\n",
       "  ('died', 14.705342216838279, 0.00012568976159479505, 26),\n",
       "  ('dangerous', 14.453500484496123, 0.00014366260486114928, 19),\n",
       "  ('wrong', 13.88898827993239, 0.00019393137310178625, 23),\n",
       "  ('fails', 13.47678494816273, 0.00024153330909565903, 18),\n",
       "  ('bill', 12.819404523679584, 0.0003430428857036092, 83),\n",
       "  ('sad', 12.502725224679635, 0.0004063588226343491, 17),\n",
       "  ('fears', 12.07347541879916, 0.0005114427009396832, 14),\n",
       "  ('warns', 11.531785709451109, 0.0006841626527607826, 16),\n",
       "  ('negative', 11.252725290697676, 0.0007950619553814742, 18),\n",
       "  ('dead', 11.078667115098135, 0.000873265485798156, 13),\n",
       "  ('stimulus', 10.42312100697751, 0.0012444740708426154, 49),\n",
       "  ('@realdonaldtrump', 10.353021711065146, 0.0012926291779106738, 152),\n",
       "  ('blaming', 9.601744080421485, 0.0019439264747911117, 14),\n",
       "  ('surgeon', 9.390935835426038, 0.0021806086533725957, 16),\n",
       "  ('forced', 9.37772542274335, 0.002196379110452023, 20),\n",
       "  ('man', 9.192843381960936, 0.0024296317698356347, 35),\n",
       "  ('kill', 8.830687320147755, 0.0029620680404698744, 23),\n",
       "  (\"'this\", 8.644322637128393, 0.0032808209161407694, 13),\n",
       "  ('unemployment', 8.47233235796408, 0.003605887910631201, 15),\n",
       "  ('clue', 8.100980985830205, 0.004424130789157448, 10),\n",
       "  ('arrested', 8.100980985830205, 0.004424130789157448, 10),\n",
       "  ('risks', 8.100980985830205, 0.004424130789157448, 10),\n",
       "  ('economy', 7.940291545374845, 0.004834604489866219, 42)]}"
      ]
     },
     "execution_count": 188,
     "metadata": {},
     "output_type": "execute_result"
    }
   ],
   "source": [
    "distinct_words_by_day[23]"
   ]
  },
  {
   "cell_type": "code",
   "execution_count": 158,
   "metadata": {
    "scrolled": false
   },
   "outputs": [
    {
     "data": {
      "text/plain": [
       "[('positive', 1882.4340378819277, 0.0),\n",
       " ('hand', 1077.815147507074, 2.1911916977234263e-236),\n",
       " ('good', 818.9305419738662, 4.133139815798582e-180),\n",
       " ('great', 730.3339309083389, 7.57859366144852e-161),\n",
       " ('amazon', 659.1384401323141, 2.2998613780958643e-145),\n",
       " ('free', 657.4063161466346, 5.4751656779412726e-145),\n",
       " ('super', 639.8910746640647, 3.528820706083418e-141),\n",
       " ('employee', 536.5947767556986, 1.0380922367896077e-118),\n",
       " ('sanitizer', 462.25142221556854, 1.5557703168176405e-102),\n",
       " ('protect', 457.20191573383806, 1.9534698999078942e-101),\n",
       " ('safe', 446.89626055884384, 3.41649118841934e-99),\n",
       " ('love', 402.91352809138556, 1.2785034143696362e-89),\n",
       " ('hope', 371.710687750589, 7.938284302718508e-83),\n",
       " ('safety', 313.55655197972095, 3.668324872434174e-70),\n",
       " ('care', 289.9467753796047, 5.106854466518821e-65),\n",
       " ('tuesday', 254.92879420950055, 2.1875556728366847e-57),\n",
       " ('support', 229.1733515655311, 9.028637249428804e-52),\n",
       " ('tests', 214.13854271510002, 1.717884483579699e-48),\n",
       " ('😂', 210.20545904007534, 1.2389123124459267e-47),\n",
       " ('save', 203.9606503308308, 2.854766353915138e-46),\n",
       " ('pretty', 197.7936760793295, 6.328695664370223e-45),\n",
       " ('clean', 187.1579091721251, 1.3265453697710318e-42),\n",
       " ('share', 179.8270401728811, 5.28669873086905e-41),\n",
       " ('lol', 170.05763568441793, 7.187507179419567e-39),\n",
       " ('united', 167.69814090787114, 2.354697401613747e-38),\n",
       " ('top', 165.4338650835618, 7.354173003255142e-38),\n",
       " ('seattle', 164.48970843326182, 1.1824507625196894e-37),\n",
       " ('interesting', 164.12604888603047, 1.4197950622747524e-37),\n",
       " ('ensure', 160.39481455135413, 9.276555719039543e-37),\n",
       " ('important', 158.7580266600184, 2.113542418715471e-36)]"
      ]
     },
     "execution_count": 158,
     "metadata": {},
     "output_type": "execute_result"
    }
   ],
   "source": [
    "sorted(pos, key = lambda x: x[1], reverse=True)[:30]\n",
    "# sorted(pos, key = lambda x: x[2])"
   ]
  },
  {
   "cell_type": "code",
   "execution_count": null,
   "metadata": {},
   "outputs": [],
   "source": [
    "most_rep = Counter()\n",
    "most_dem = Counter()\n",
    "\n",
    "def contingency_table(tag):\n",
    "    nrep = rep[tag]\n",
    "    ndem = dem[tag]\n",
    "    table = np.array([[ndem, dem_total-ndem],\n",
    "                    [nrep, rep_total-nrep]])\n",
    "    return table\n",
    "\n",
    "for tag in top200:\n",
    "    nrep = rep[tag]\n",
    "    ndem = dem[tag]\n",
    "    table = np.array([[ndem, dem_total-ndem],\n",
    "                    [nrep, rep_total-nrep]])\n",
    "    \n",
    "    chi2, p, dof, expected = chi2_contingency(table)\n",
    "    if table[0,0] > expected[0,0]:\n",
    "        most_dem[tag] = p\n",
    "    else:\n",
    "        most_rep[tag] = p"
   ]
  },
  {
   "cell_type": "markdown",
   "metadata": {},
   "source": [
    "### Process Retweets\n",
    "\n",
    "- get top retweeted accounts (count num unique users who retweet)\n",
    "- ret daily count of reetweets"
   ]
  },
  {
   "cell_type": "markdown",
   "metadata": {},
   "source": [
    "tweetId,retweet(user?)Id,userId,user_screen_name,year,month,date,day,hour,minute,utc_offset,text,hashtags,user_mentions,symbols,urls,emojis,sentiment,retweet_cont,favorite_count,state\n",
    "1243616321310355456,1243187081834348546,34662952,docpaddy,2020,3,27,4,19,10,0:00:00,,,,,,,,,,NV"
   ]
  },
  {
   "cell_type": "code",
   "execution_count": null,
   "metadata": {},
   "outputs": [],
   "source": [
    "retweets_by_day = Counter() #what about bots retweeting themselves?\n",
    "user_retweets = defaultdict(set)\n",
    "\n",
    "with open('../data/retweets.0301-0331.usa.csv', 'r') as f:\n",
    "    for line in f:\n",
    "        if line.startswith('tweetId'):\n",
    "            continue"
   ]
  },
  {
   "cell_type": "markdown",
   "metadata": {},
   "source": [
    "## Tweets and Retweets\n"
   ]
  },
  {
   "cell_type": "code",
   "execution_count": 196,
   "metadata": {},
   "outputs": [
    {
     "name": "stdout",
     "output_type": "stream",
     "text": [
      "loaded 1022819 tweets\n"
     ]
    }
   ],
   "source": [
    "tweetids = set()\n",
    "tweets_by_day = defaultdict(int)\n",
    "with open('../data/tweets.0301-0331.usa.csv', 'r') as f:\n",
    "    for line in f:\n",
    "        if line.startswith('tweetId'):\n",
    "            continue\n",
    "            \n",
    "        data = line.split(',')\n",
    "        if len(data) != 21:\n",
    "            continue\n",
    "        \n",
    "        tweetid = data[0]\n",
    "        tweetids.add(tweetid)\n",
    "        \n",
    "        tweets_by_day[int(data[6])] += 1 # date\n",
    "        \n",
    "print(\"loaded {} tweets\".format(len(tweetids)))\n",
    "\n",
    "numseen = 0\n",
    "numnew = 0\n",
    "retweets_by_day = defaultdict(int)\n",
    "with open('../data/retweets.0301-0331.usa.csv', 'r') as f:\n",
    "    for line in f:\n",
    "        if line.startswith('tweetId'):\n",
    "            continue\n",
    "            \n",
    "        data = line.split(',')\n",
    "        tweetid = data[0]\n",
    "        retweetid = data[1]\n",
    "        \n",
    "        retweets_by_day[int(data[8])] += 1 # date\n",
    "        \n",
    "        if retweetid in tweetids:\n",
    "            numseen += 1\n",
    "        else:\n",
    "            numnew += 1\n",
    "            \n",
    "\n",
    "        \n"
   ]
  },
  {
   "cell_type": "code",
   "execution_count": 197,
   "metadata": {
    "scrolled": true
   },
   "outputs": [
    {
     "name": "stdout",
     "output_type": "stream",
     "text": [
      "863536 5095965\n"
     ]
    }
   ],
   "source": [
    "print(numseen, numnew)"
   ]
  },
  {
   "cell_type": "code",
   "execution_count": 200,
   "metadata": {},
   "outputs": [],
   "source": [
    "dates = np.arange(1,32)\n",
    "total_by_day = {d: (tweets_by_day[d] + retweets_by_day[d]) for d in dates}"
   ]
  },
  {
   "cell_type": "code",
   "execution_count": 202,
   "metadata": {
    "scrolled": true
   },
   "outputs": [
    {
     "data": {
      "image/png": "[encoded data removed]",
      "text/plain": [
       "<Figure size 432x288 with 1 Axes>"
      ]
     },
     "metadata": {
      "needs_background": "light"
     },
     "output_type": "display_data"
    }
   ],
   "source": [
    "dates = np.arange(1,32)\n",
    "plt.plot(dates, [tweets_by_day[d]/total_by_day[d] for d in dates])\n",
    "plt.plot(dates, [retweets_by_day[d]/total_by_day[d] for d in dates])\n",
    "plt.show()"
   ]
  },
  {
   "cell_type": "code",
   "execution_count": 207,
   "metadata": {
    "scrolled": true
   },
   "outputs": [
    {
     "data": {
      "image/png": "[encoded data removed]",
      "text/plain": [
       "<Figure size 576x288 with 1 Axes>"
      ]
     },
     "metadata": {
      "needs_background": "light"
     },
     "output_type": "display_data"
    }
   ],
   "source": [
    "plt.subplots(figsize=(8,4))\n",
    "plt.stackplot(dates,[[tweets_by_day[d]/total_by_day[d] for d in dates],\n",
    "                     [retweets_by_day[d]/total_by_day[d] for d in dates]],\n",
    "              labels=['tweets','retweets'], colors=['b', 'm'])\n",
    "plt.show()"
   ]
  },
  {
   "cell_type": "code",
   "execution_count": 211,
   "metadata": {},
   "outputs": [
    {
     "data": {
      "text/plain": [
       "'{\"name\": \"masha\", \"age\": 30, \"likes\": [1, 2, 3], \"other\": null}'"
      ]
     },
     "execution_count": 211,
     "metadata": {},
     "output_type": "execute_result"
    }
   ],
   "source": [
    "import json\n",
    "json.dumps({'name':'masha', 'age':30, 'likes':[1,2,3], 'other':None})"
   ]
  },
  {
   "cell_type": "code",
   "execution_count": 216,
   "metadata": {},
   "outputs": [
    {
     "data": {
      "text/plain": [
       "'masha'"
      ]
     },
     "execution_count": 216,
     "metadata": {},
     "output_type": "execute_result"
    }
   ],
   "source": [
    "d = json.loads(json.dumps({'name':'masha', 'age':30, 'likes':[1,2,3], 'other':None}))\n",
    "d['name']"
   ]
  },
  {
   "cell_type": "markdown",
   "metadata": {},
   "source": [
    "## Rep Vs Democrat Hashtag Usage\n",
    "- identify hashtags that are user more by rep vs. democrat states"
   ]
  },
  {
   "cell_type": "code",
   "execution_count": 89,
   "metadata": {},
   "outputs": [],
   "source": [
    "from scipy.stats import chi2_contingency\n",
    "import numpy as np"
   ]
  },
  {
   "cell_type": "code",
   "execution_count": 58,
   "metadata": {},
   "outputs": [
    {
     "name": "stdout",
     "output_type": "stream",
     "text": [
      "loaded 1022821 tweets\n"
     ]
    }
   ],
   "source": [
    "tweets = []\n",
    "with open('../data/tweets.0301-0331.usa.csv', 'r') as f:\n",
    "    for line in f:\n",
    "        if line.startswith('tweetId'):\n",
    "            continue\n",
    "        tweets.append(line.split(','))\n",
    "\n",
    "print(f\"loaded {len(tweets)} tweets\")"
   ]
  },
  {
   "cell_type": "markdown",
   "metadata": {},
   "source": [
    "Identify top 200 hashtags overall"
   ]
  },
  {
   "cell_type": "code",
   "execution_count": 141,
   "metadata": {},
   "outputs": [],
   "source": [
    "from collections import Counter, defaultdict\n",
    "hashtags = Counter()\n",
    "hashtag_partisan = defaultdict(lambda: Counter())\n",
    "hashtag_partisan_by_date = {'republican':defaultdict(lambda: Counter()), \n",
    "                           'democrat': defaultdict(lambda: Counter())}\n",
    "# hashtag_by_date = defaultdict(lambda: Counter())\n",
    "for tw in tweets:\n",
    "    date = tw[6]\n",
    "    \n",
    "    state = tw[20].strip()\n",
    "    if state not in state_vote:\n",
    "        continue\n",
    "    vote = state_vote[state]\n",
    "    \n",
    "    for tag in tw[12].split():\n",
    "        tag = tag.lower()\n",
    "        hashtags[tag] += 1\n",
    "        hashtag_partisan[vote][tag] += 1\n",
    "        \n",
    "        hashtag_partisan_by_date[vote][date][tag] += 1\n",
    "        \n",
    "#         hashtag_by_date[date][tag] += 1"
   ]
  },
  {
   "cell_type": "code",
   "execution_count": 147,
   "metadata": {},
   "outputs": [
    {
     "data": {
      "text/plain": [
       "89"
      ]
     },
     "execution_count": 147,
     "metadata": {},
     "output_type": "execute_result"
    }
   ],
   "source": [
    "hashtag_partisan_by_date['democrat'][1']['maga']"
   ]
  },
  {
   "cell_type": "code",
   "execution_count": 155,
   "metadata": {},
   "outputs": [
    {
     "data": {
      "text/plain": [
       "['8', '1', '7', '102', '8', '8', '1', '6', '45', '0']"
      ]
     },
     "execution_count": 155,
     "metadata": {},
     "output_type": "execute_result"
    }
   ],
   "source": [
    "[str(hashtag_partisan_by_date['democrat'][str(date)][tag]) for tag in selects]"
   ]
  },
  {
   "cell_type": "code",
   "execution_count": 143,
   "metadata": {},
   "outputs": [],
   "source": [
    "selects = ['maga', 'toiletpaper', 'economy', 'stayathome', 'chinavirus', 'stayhealthy',\n",
    "           'pencedemic', 'shelterinplace', 'pandemic', 'votebluenomatterwho']"
   ]
  },
  {
   "cell_type": "code",
   "execution_count": 157,
   "metadata": {},
   "outputs": [],
   "source": [
    "with open('../data/rep_hashtags_by_date.csv', 'w') as f:\n",
    "    f.write('state,date,sentiment,total\\n')\n",
    "    f.write('date,' + ','.join(selects) + '\\n')\n",
    "    for date in range(1,32):\n",
    "        counts = [str(hashtag_partisan_by_date['republican'][str(date)][tag]) for tag in selects]\n",
    "        f.write(str(date) + ',' + ','.join(counts) + '\\n')\n",
    "        "
   ]
  },
  {
   "cell_type": "code",
   "execution_count": 68,
   "metadata": {},
   "outputs": [],
   "source": [
    "top200 = [x[0] for x in hashtags.most_common(200)]"
   ]
  },
  {
   "cell_type": "code",
   "execution_count": 71,
   "metadata": {
    "collapsed": true
   },
   "outputs": [
    {
     "data": {
      "text/plain": [
       "[('coronavirus', 42163),\n",
       " ('covid19', 18230),\n",
       " ('covidー19', 8583),\n",
       " ('covid_19', 3248),\n",
       " ('coronavirusoutbreak', 1970),\n",
       " ('covid', 1919),\n",
       " ('socialdistancing', 1793),\n",
       " ('smartnews', 1692),\n",
       " ('coronavirusupdate', 1354),\n",
       " ('coronaoutbreak', 1257),\n",
       " ('china', 1066),\n",
       " ('corona', 1015),\n",
       " ('trump', 925),\n",
       " ('foxnews', 900),\n",
       " ('stayhome', 881),\n",
       " ('quarantinelife', 879),\n",
       " ('covid2019', 858),\n",
       " ('pandemic', 748),\n",
       " ('cdc', 712),\n",
       " ('coronavirususa', 704),\n",
       " ('breaking', 636),\n",
       " ('stayathome', 632),\n",
       " ('coronaviruspandemic', 627),\n",
       " ('news', 557),\n",
       " ('health', 552),\n",
       " ('coronavirusupdates', 528),\n",
       " ('trumpvirus', 526),\n",
       " ('maga', 519),\n",
       " ('washyourhands', 515),\n",
       " ('flattenthecurve', 508),\n",
       " ('quarantine', 470),\n",
       " ('florida', 386),\n",
       " ('coronavirusireland', 373),\n",
       " ('coronapocalypse', 371),\n",
       " ('supertuesday', 366),\n",
       " ('trumpviruscoverup', 355),\n",
       " ('iran', 330),\n",
       " ('auspol', 330),\n",
       " ('chinesevirus', 328),\n",
       " ('virus', 327),\n",
       " ('lockdown', 322),\n",
       " ('publichealth', 321),\n",
       " ('usa', 308),\n",
       " ('rt', 287),\n",
       " ('fbr', 279),\n",
       " ('votebluenomatterwho', 275),\n",
       " ('flu', 274),\n",
       " ('coronaviruschallenge', 273),\n",
       " ('who', 273),\n",
       " ('wuhanvirus', 268),\n",
       " ('sxsw', 267),\n",
       " ('healthcare', 263),\n",
       " ('covid19us', 257),\n",
       " ('italy', 255),\n",
       " ('toiletpaper', 245),\n",
       " ('coronaalert', 243),\n",
       " ('business', 243),\n",
       " ('fakenews', 242),\n",
       " ('coronavirusflorida', 234),\n",
       " ('coronavirusaustralia', 232),\n",
       " ('travel', 232),\n",
       " ('trumpliesaboutcoronavirus', 228),\n",
       " ('sarscov2', 227),\n",
       " ('topbuzz', 226),\n",
       " ('chinavirus', 216),\n",
       " ('trump2020', 215),\n",
       " ('aag', 213),\n",
       " ('aag2020', 213),\n",
       " ('coronavirustexas', 209),\n",
       " ('economy', 207),\n",
       " ('wuhan', 207),\n",
       " ('coronavirusus', 205),\n",
       " ('coronavirusseattle', 202),\n",
       " ('tuesdaythoughts', 197),\n",
       " ('staysafe', 196),\n",
       " ('coronvirus', 192),\n",
       " ('coronavid19', 185),\n",
       " ('covid19ireland', 183),\n",
       " ('coronapocolypse', 182),\n",
       " ('wuhancoronavirus', 178),\n",
       " ('trumppandemic', 176),\n",
       " ('outbreak', 173),\n",
       " ('stockmarket', 173),\n",
       " ('texas', 172),\n",
       " ('covid19usa', 171),\n",
       " ('kag', 170),\n",
       " ('qanon', 167),\n",
       " ('gop', 163),\n",
       " ('medicareforall', 162),\n",
       " ('panicbuying', 160),\n",
       " ('blackhistorymonth', 158),\n",
       " ('breakingnews', 157),\n",
       " ('democrats', 157),\n",
       " ('quarentinelife', 156),\n",
       " ('coronovirius', 155),\n",
       " ('stocks', 153),\n",
       " ('tech', 152),\n",
       " ('australia', 151),\n",
       " ('podcast', 150),\n",
       " ('cnn', 148)]"
      ]
     },
     "execution_count": 71,
     "metadata": {},
     "output_type": "execute_result"
    }
   ],
   "source": [
    "hashtag_partisan['republican'].most_common(100)"
   ]
  },
  {
   "cell_type": "code",
   "execution_count": 72,
   "metadata": {
    "collapsed": true
   },
   "outputs": [
    {
     "data": {
      "text/plain": [
       "[('coronavirus', 73721),\n",
       " ('covid19', 33313),\n",
       " ('covidー19', 16227),\n",
       " ('covid_19', 5758),\n",
       " ('coronavirusoutbreak', 3921),\n",
       " ('covid', 3564),\n",
       " ('coronaoutbreak', 2702),\n",
       " ('socialdistancing', 2690),\n",
       " ('china', 2660),\n",
       " ('coronavirusupdate', 2346),\n",
       " ('covid2019', 2343),\n",
       " ('pandemic', 1981),\n",
       " ('trump', 1923),\n",
       " ('corona', 1875),\n",
       " ('stayhome', 1490),\n",
       " ('coronavirususa', 1483),\n",
       " ('coronavirusupdates', 1453),\n",
       " ('trumpvirus', 1418),\n",
       " ('smartnews', 1407),\n",
       " ('quarantinelife', 1311),\n",
       " ('news', 1263),\n",
       " ('cdc', 1248),\n",
       " ('breaking', 1225),\n",
       " ('health', 1102),\n",
       " ('coronaviruspandemic', 1027),\n",
       " ('stayathome', 1026),\n",
       " ('trumpviruscoverup', 905),\n",
       " ('usa', 905),\n",
       " ('coronavirusseattle', 858),\n",
       " ('flattenthecurve', 856),\n",
       " ('quarantine', 812),\n",
       " ('washyourhands', 773),\n",
       " ('foxnews', 762),\n",
       " ('covid19us', 722),\n",
       " ('virus', 719),\n",
       " ('nyc', 712),\n",
       " ('healthcare', 710),\n",
       " ('maga', 695),\n",
       " ('wuhan', 681),\n",
       " ('supertuesday', 652),\n",
       " ('publichealth', 638),\n",
       " ('italy', 615),\n",
       " ('iran', 612),\n",
       " ('coronapocalypse', 606),\n",
       " ('coronaalert', 565),\n",
       " ('cpac2020', 562),\n",
       " ('travel', 557),\n",
       " ('sarscov2', 553),\n",
       " ('who', 533),\n",
       " ('politics', 519),\n",
       " ('coronavirusnyc', 516),\n",
       " ('lockdown', 506),\n",
       " ('stocks', 505),\n",
       " ('coronaviruschallenge', 495),\n",
       " ('business', 476),\n",
       " ('flu', 471),\n",
       " ('seattle', 467),\n",
       " ('pencedemic', 444),\n",
       " ('economy', 442),\n",
       " ('california', 435),\n",
       " ('coronavirusus', 425),\n",
       " ('world', 406),\n",
       " ('stockmarket', 405),\n",
       " ('coronavid19', 394),\n",
       " ('wuhancoronavirus', 392),\n",
       " ('chinesevirus', 391),\n",
       " ('trumppandemic', 389),\n",
       " ('covid19usa', 377),\n",
       " ('map', 374),\n",
       " ('tech', 374),\n",
       " ('outbreak', 372),\n",
       " ('newyork', 357),\n",
       " ('breakingnews', 356),\n",
       " ('cdnpoli', 355),\n",
       " ('coronvirus', 350),\n",
       " ('staysafe', 349),\n",
       " ('trumpliesaboutcoronavirus', 346),\n",
       " ('fakenews', 339),\n",
       " ('2019ncov', 337),\n",
       " ('investing', 335),\n",
       " ('wuhanvirus', 333),\n",
       " ('dumptrump2020', 327),\n",
       " ('us', 311),\n",
       " ('coronapocolypse', 310),\n",
       " ('coronavirusuk', 309),\n",
       " ('bitcoin', 308),\n",
       " ('science', 308),\n",
       " ('fridaythoughts', 306),\n",
       " ('coronaviruswashington', 297),\n",
       " ('coronovirius', 289),\n",
       " ('ai', 288),\n",
       " ('kag', 285),\n",
       " ('topbuzz', 283),\n",
       " ('remotework', 278),\n",
       " ('coronavirusnewyork', 278),\n",
       " ('chinavirus', 274),\n",
       " ('trumpslump', 273),\n",
       " ('trump2020', 273),\n",
       " ('n95', 268),\n",
       " ('amazon', 266)]"
      ]
     },
     "execution_count": 72,
     "metadata": {},
     "output_type": "execute_result"
    }
   ],
   "source": [
    "hashtag_partisan['democrat'].most_common(100)"
   ]
  },
  {
   "cell_type": "code",
   "execution_count": 85,
   "metadata": {},
   "outputs": [
    {
     "data": {
      "text/plain": [
       "120620"
      ]
     },
     "execution_count": 85,
     "metadata": {},
     "output_type": "execute_result"
    }
   ],
   "source": [
    "sum(rep.values())"
   ]
  },
  {
   "cell_type": "code",
   "execution_count": 86,
   "metadata": {},
   "outputs": [],
   "source": [
    "rep = Counter({h:hashtag_partisan['republican'][h] for h in top200})\n",
    "dem = Counter({h:hashtag_partisan['democrat'][h] for h in top200})\n",
    "rep_total = sum(rep.values())\n",
    "dem_total = sum(dem.values())"
   ]
  },
  {
   "cell_type": "code",
   "execution_count": 113,
   "metadata": {},
   "outputs": [],
   "source": [
    "most_rep = Counter()\n",
    "most_dem = Counter()\n",
    "\n",
    "def contingency_table(tag):\n",
    "    nrep = rep[tag]\n",
    "    ndem = dem[tag]\n",
    "    table = np.array([[ndem, dem_total-ndem],\n",
    "                    [nrep, rep_total-nrep]])\n",
    "    return table\n",
    "\n",
    "for tag in top200:\n",
    "    nrep = rep[tag]\n",
    "    ndem = dem[tag]\n",
    "    table = np.array([[ndem, dem_total-ndem],\n",
    "                    [nrep, rep_total-nrep]])\n",
    "    \n",
    "    chi2, p, dof, expected = chi2_contingency(table)\n",
    "    if table[0,0] > expected[0,0]:\n",
    "        most_dem[tag] = p\n",
    "    else:\n",
    "        most_rep[tag] = p\n",
    "    "
   ]
  },
  {
   "cell_type": "code",
   "execution_count": 140,
   "metadata": {},
   "outputs": [
    {
     "data": {
      "text/plain": [
       "array([[   101, 222531],\n",
       "       [   122, 120498]])"
      ]
     },
     "execution_count": 140,
     "metadata": {},
     "output_type": "execute_result"
    }
   ],
   "source": [
    "contingency_table('toiletpapercrisis')"
   ]
  },
  {
   "cell_type": "code",
   "execution_count": 117,
   "metadata": {},
   "outputs": [
    {
     "data": {
      "text/plain": [
       "[('coronalockdown', 0.05985370793340057),\n",
       " ('socialdistancingnow', 0.04936823799419239),\n",
       " ('stayhome', 0.041078721168514465),\n",
       " ('hoax', 0.033201860240729575),\n",
       " ('lockdown', 0.026037755197373606),\n",
       " ('trumpliesaboutcoronavirus', 0.024004980089342463),\n",
       " ('gop', 0.021504428011209296),\n",
       " ('panicbuying', 0.02131599440749843),\n",
       " ('trumpisanidiot', 0.02098783947409908),\n",
       " ('trumpdemic', 0.01997222485095329),\n",
       " ('coronaviruspandemic', 0.019404786904950226),\n",
       " ('stayathome', 0.011728666920296086),\n",
       " ('staysafestayhome', 0.01041328446551814),\n",
       " ('election2020', 0.009840593445350121),\n",
       " ('trumpnotfitforoffice', 0.004840037301868495),\n",
       " ('stayhomechallenge', 0.0015240303179346333),\n",
       " ('fakenews', 0.001165752785624014),\n",
       " ('democrats', 0.0009227781605856232),\n",
       " ('trumpcrash', 0.0006829395377531717),\n",
       " ('quarentinelife', 0.000381174278609643),\n",
       " ('washyourhands', 0.00029560265304909327),\n",
       " ('trump2020', 4.4729613718110035e-05),\n",
       " ('chinavirus', 4.1065633413049625e-05),\n",
       " ('topbuzz', 1.4708184260271738e-05),\n",
       " ('cnn', 4.431517448938875e-06),\n",
       " ('wuhanvirus', 1.4708129930956395e-06),\n",
       " ('quarantinelife', 1.0025898109630255e-06),\n",
       " ('maga', 3.123943799160566e-08),\n",
       " ('chinesevirus', 4.843390960405282e-09),\n",
       " ('toiletpapercrisis', 1.4245037854952465e-09),\n",
       " ('qanon', 4.657598287665491e-10),\n",
       " ('socialdistancing', 8.007977911631958e-12),\n",
       " ('tuesdaythoughts', 6.378785119354837e-16),\n",
       " ('sxsw', 5.414144473033946e-16),\n",
       " ('coronavirustexas', 5.134065920209203e-16),\n",
       " ('foxbusiness', 5.013794331513768e-18),\n",
       " ('coronavirusflorida', 4.423800462568274e-19),\n",
       " ('toiletpaper', 2.6772322858224124e-19),\n",
       " ('australia', 1.5689244271357696e-22),\n",
       " ('coronavirus', 1.283768245600772e-27),\n",
       " ('votebluenomatterwho', 4.5831838354920536e-33),\n",
       " ('texas', 2.135882676795756e-40),\n",
       " ('rt', 1.5026618173811036e-53),\n",
       " ('foxnews', 2.304440259145913e-59),\n",
       " ('coronavirusaustralia', 4.196014282936681e-80),\n",
       " ('auspol', 9.354369457634507e-97),\n",
       " ('fbr', 1.0689794771586449e-101),\n",
       " ('florida', 5.4225500494736094e-105),\n",
       " ('smartnews', 8.441036063615134e-115),\n",
       " ('coronavirusireland', 3.3201885283160927e-131)]"
      ]
     },
     "execution_count": 117,
     "metadata": {},
     "output_type": "execute_result"
    }
   ],
   "source": [
    "most_rep.most_common()[-50:]"
   ]
  },
  {
   "cell_type": "code",
   "execution_count": 123,
   "metadata": {},
   "outputs": [
    {
     "data": {
      "text/plain": [
       "[('covid19uk', 0.32293658539852044),\n",
       " ('publichealth', 0.29389538702198714),\n",
       " ('chinese', 0.29080987351653975),\n",
       " ('pence', 0.28847637585602726),\n",
       " ('potus', 0.2842159327749406),\n",
       " ('cybersecurity', 0.2809546738259695),\n",
       " ('media', 0.26956754707735076),\n",
       " ('supplychain', 0.26312911386392035),\n",
       " ('handsanitizer', 0.2244911243567487),\n",
       " ('nba', 0.21437479900056974),\n",
       " ('shelterinplace', 0.19802546194153237),\n",
       " ('coronavirusus', 0.18457426344949115),\n",
       " ('resist', 0.17331297313572647),\n",
       " ('sundaythoughts', 0.15380129843099652),\n",
       " ('coronacrisis', 0.15380129843099652),\n",
       " ('education', 0.14790005367790848),\n",
       " ('health', 0.13811217926886812),\n",
       " ('coronavid19', 0.11758772575014184),\n",
       " ('outbreak', 0.10573351077273535),\n",
       " ('maga2020', 0.09739579028668048),\n",
       " ('economy', 0.09061535703953678),\n",
       " ('markets', 0.08372741384447108),\n",
       " ('covidー19', 0.0626782905729234),\n",
       " ('covid19usa', 0.05919407764278662),\n",
       " ('wuhancoronavirus', 0.05559253286386272),\n",
       " ('trumppandemic', 0.051885410255341706),\n",
       " ('breakingnews', 0.03508586835799929),\n",
       " ('stayhealthy', 0.032191171419464724),\n",
       " ('coronavirusuk', 0.014479791804769628),\n",
       " ('stockmarket', 0.00982077557938395),\n",
       " ('virus', 0.009349566482055283),\n",
       " ('science', 0.00887652811671233),\n",
       " ('india', 0.006244488216451103),\n",
       " ('coronavirusoutbreak', 0.006100991922094836),\n",
       " ('southkorea', 0.005673554572537137),\n",
       " ('epidemic', 0.004258765361963921),\n",
       " ('coronavirususa', 0.004019201519127502),\n",
       " ('tech', 0.0031191394127110202),\n",
       " ('trump', 0.0029997247777765594),\n",
       " ('coronaalert', 0.0028537003485021107),\n",
       " ('music', 0.0018738174935343482),\n",
       " ('love', 0.001585821313996044),\n",
       " ('ai', 0.0012436009131224003),\n",
       " ('truth', 0.0010953574989914095),\n",
       " ('travel', 0.0008333888443616614),\n",
       " ('fed', 0.0006098958261563879),\n",
       " ('uk', 0.000598868695628479),\n",
       " ('washington', 0.0005009455324666657),\n",
       " ('sarscov2', 0.000467710485580185),\n",
       " ('italy', 0.0003556435683782148),\n",
       " ('us', 0.00013100484009013658),\n",
       " ('remotework', 0.0001132581431258242),\n",
       " ('news', 5.355731950150673e-05),\n",
       " ('bitcoin', 4.367714119006784e-05),\n",
       " ('coronaoutbreak', 7.568843780790108e-06),\n",
       " ('fridaythoughts', 4.108844152580929e-06),\n",
       " ('amazon', 2.4916826892603097e-06),\n",
       " ('money', 1.7878775190827271e-06),\n",
       " ('investing', 6.411240623651211e-07),\n",
       " ('trumpviruscoverup', 2.480316771962501e-07),\n",
       " ('mondaymotivation', 2.1648259792581314e-07),\n",
       " ('healthcare', 1.3407785898604684e-07),\n",
       " ('covid19us', 6.6062520678622935e-09),\n",
       " ('canada', 5.902847766394868e-10),\n",
       " ('covid19seattle', 4.6472049593727355e-10),\n",
       " ('coronavirusnewyork', 2.7947508543210506e-10),\n",
       " ('stocks', 2.1141024020998712e-10),\n",
       " ('trading', 9.709363932003835e-11),\n",
       " ('mondaythoughts', 2.4655091194163305e-12),\n",
       " ('fridaymotivation', 1.69272346631856e-12),\n",
       " ('usa', 1.2987083538409414e-12),\n",
       " ('coronaviruscanada', 2.0910567597925536e-13),\n",
       " ('wuhan', 1.863301239271358e-13),\n",
       " ('trumpvirus', 8.509900822217195e-14),\n",
       " ('newyork', 7.850850629417169e-14),\n",
       " ('covid19canada', 6.102729245367425e-14),\n",
       " ('infectiousdisease', 3.3746025894038357e-15),\n",
       " ('coronavirusupdates', 2.536112282895819e-15),\n",
       " ('2019ncov', 3.5305489299335405e-16),\n",
       " ('china', 5.3657719874472247e-17),\n",
       " ('cdnpoli', 4.6452534514588446e-17),\n",
       " ('pandemic', 2.3851796692499888e-17),\n",
       " ('losangeles', 5.280087091593824e-18),\n",
       " ('coronaviruschina', 3.950994717066722e-18),\n",
       " ('n95', 4.841411108622709e-19),\n",
       " ('california', 3.9652798826916593e-19),\n",
       " ('pencedemic', 3.6428815864210563e-19),\n",
       " ('masks', 1.317798560974001e-19),\n",
       " ('coronaviruswashington', 5.2616807824707833e-20),\n",
       " ('dumptrump2020', 7.086968597207706e-23),\n",
       " ('covid2019', 3.8808401312024287e-23),\n",
       " ('politics', 2.5593125568996147e-24),\n",
       " ('nevertrump', 1.9880091496951352e-26),\n",
       " ('coronavirusseattle', 6.404860115773722e-28),\n",
       " ('seattle', 2.1937649979879067e-30),\n",
       " ('world', 2.7127618510445165e-35),\n",
       " ('coronavirusnyc', 5.067565914286813e-36),\n",
       " ('map', 1.8173728332016236e-42),\n",
       " ('nyc', 2.3452585536959693e-55),\n",
       " ('cpac2020', 4.534936369162776e-57)]"
      ]
     },
     "execution_count": 123,
     "metadata": {},
     "output_type": "execute_result"
    }
   ],
   "source": [
    "most_dem.most_common()[-100:]"
   ]
  },
  {
   "cell_type": "code",
   "execution_count": null,
   "metadata": {},
   "outputs": [],
   "source": [
    "def contingency(data):\n",
    "\n",
    "    allwords = set()\n",
    "    for src,words in data.items():\n",
    "        allwords.update(words)\n",
    "\n",
    "    allwords = {w:i for i,w in enumerate(list(allwords))}\n",
    "    N = len(allwords)\n",
    "    \n",
    "    table = np.zeros((len(data),N))\n",
    "    for i,(src,words) in enumerate(data.items()):\n",
    "        for w in list(words):\n",
    "            table[i][allwords[w]] += 1\n",
    "    return table\n",
    "\n",
    "    \n",
    "# For each head-relation tuple, run a chi-square test\n",
    "# to find how much word usage is contingent on the source\n",
    "hrs_different = Counter()\n",
    "for hr, counts in hr_counter.items():\n",
    "    cont = contingency(counts)\n",
    "    chi2, p, dof, expected = chi2_contingency(cont)\n",
    "    hrs_different[hr] = p\n",
    "\n",
    "print(len(hrs_different))"
   ]
  },
  {
   "cell_type": "code",
   "execution_count": null,
   "metadata": {},
   "outputs": [],
   "source": []
  },
  {
   "cell_type": "markdown",
   "metadata": {},
   "source": [
    "## Retweets"
   ]
  },
  {
   "cell_type": "code",
   "execution_count": 162,
   "metadata": {},
   "outputs": [
    {
     "name": "stdout",
     "output_type": "stream",
     "text": [
      "one two 1\n",
      "one three 1\n"
     ]
    }
   ],
   "source": [
    "edges = Counter()\n",
    "edges[('one', 'two')] += 1\n",
    "edges[('one', 'three')] += 1\n",
    "\n",
    "for (source, target), cnt in edges.items():\n",
    "    print(source, target, cnt)"
   ]
  },
  {
   "cell_type": "code",
   "execution_count": 160,
   "metadata": {
    "scrolled": true
   },
   "outputs": [
    {
     "name": "stdout",
     "output_type": "stream",
     "text": [
      "{'contributors': None, 'in_reply_to_user_id_str': None, 'display_text_range': [0, 132], 'retweet_count': 109, 'user': {'translator_type': 'none', 'profile_sidebar_border_color': 'C0DEED', 'time_zone': None, 'friends_count': 978, 'name': '🌊💙Gerard Ramos', 'profile_image_url': 'http://pbs.twimg.com/profile_images/1081757024600223744/t_2CVEER_normal.jpg', 'screen_name': 'jenningsghv2', 'contributors_enabled': False, 'entities': {'description': {'urls': []}}, 'follow_request_sent': False, 'is_translation_enabled': False, 'is_translator': False, 'geo_enabled': False, 'profile_banner_extensions_alt_text': None, 'verified': False, 'protected': False, 'utc_offset': None, 'profile_sidebar_fill_color': 'DDEEF6', 'id': 27819475, 'has_extended_profile': True, 'profile_background_image_url': 'http://abs.twimg.com/images/themes/theme1/bg.png', 'profile_background_color': 'C0DEED', 'profile_image_extensions_alt_text': None, 'lang': None, 'profile_image_url_https': 'https://pbs.twimg.com/profile_images/1081757024600223744/t_2CVEER_normal.jpg', 'id_str': '27819475', 'profile_banner_url': 'https://pbs.twimg.com/profile_banners/27819475/1388710767', 'profile_background_image_url_https': 'https://abs.twimg.com/images/themes/theme1/bg.png', 'created_at': 'Tue Mar 31 05:12:58 +0000 2009', 'profile_text_color': '333333', 'favourites_count': 131788, 'profile_background_tile': False, 'following': False, 'url': None, 'statuses_count': 149892, 'location': 'Manila', 'description': 'writer, editor, journalist, dad, occasional cynic', 'profile_use_background_image': True, 'followers_count': 1156, 'default_profile': True, 'default_profile_image': False, 'profile_link_color': '1DA1F2', 'notifications': False, 'listed_count': 19}, 'id_str': '1241198104382017538', 'in_reply_to_status_id': None, 'lang': 'en', 'source': '<a href=\"http://twitter.com/download/android\" rel=\"nofollow\">Twitter for Android</a>', 'created_at': 'Sat Mar 21 03:01:03 +0000 2020', 'favorite_count': 0, 'full_text': 'RT @CTurlington: What Coronavirus Means for Pregnancy and Other Things New and Expecting Mothers Should Know https://t.co/gZm6auPHqv', 'entities': {'hashtags': [], 'user_mentions': [{'id_str': '122258041', 'name': 'Christy Turlington', 'screen_name': 'CTurlington', 'id': 122258041, 'indices': [3, 15]}], 'urls': [{'display_url': 'propublica.org/article/corona…', 'expanded_url': 'https://www.propublica.org/article/coronavirus-and-pregnancy-expecting-mothers-q-and-a', 'indices': [109, 132], 'url': 'https://t.co/gZm6auPHqv'}], 'symbols': []}, 'possibly_sensitive': False, 'is_quote_status': False, 'in_reply_to_user_id': None, 'id': 1241198104382017538, 'geo': None, 'coordinates': None, 'in_reply_to_status_id_str': None, 'favorited': False, 'place': None, 'truncated': False, 'retweeted_status': {'contributors': None, 'in_reply_to_user_id_str': None, 'display_text_range': [0, 115], 'retweet_count': 109, 'user': {'translator_type': 'none', 'profile_sidebar_border_color': 'FFFFFF', 'time_zone': None, 'friends_count': 2496, 'name': 'Christy Turlington', 'profile_image_url': 'http://pbs.twimg.com/profile_images/1039219420135088134/k3NEPoEa_normal.jpg', 'screen_name': 'CTurlington', 'contributors_enabled': False, 'entities': {'url': {'urls': [{'display_url': 'bit.ly/2zrWLci', 'expanded_url': 'http://bit.ly/2zrWLci', 'indices': [0, 23], 'url': 'https://t.co/D5y3Fx4u3q'}]}, 'description': {'urls': []}}, 'follow_request_sent': False, 'is_translation_enabled': False, 'is_translator': False, 'geo_enabled': True, 'profile_banner_extensions_alt_text': None, 'verified': True, 'protected': False, 'utc_offset': None, 'profile_sidebar_fill_color': 'CCE4ED', 'id': 122258041, 'has_extended_profile': False, 'profile_background_image_url': 'http://abs.twimg.com/images/themes/theme1/bg.png', 'profile_background_color': '000000', 'profile_image_extensions_alt_text': None, 'lang': None, 'profile_image_url_https': 'https://pbs.twimg.com/profile_images/1039219420135088134/k3NEPoEa_normal.jpg', 'id_str': '122258041', 'profile_banner_url': 'https://pbs.twimg.com/profile_banners/122258041/1536604193', 'profile_background_image_url_https': 'https://abs.twimg.com/images/themes/theme1/bg.png', 'created_at': 'Fri Mar 12 03:41:36 +0000 2010', 'profile_text_color': '333333', 'favourites_count': 3502, 'profile_background_tile': True, 'following': False, 'url': 'https://t.co/D5y3Fx4u3q', 'statuses_count': 11433, 'location': '', 'description': 'Mom/Wife/Daughter/Yogi, 8 x Marathon Finisher/Founder @everymomcounts, Author, Living Yoga: Creating A Life Practice/Model. I tweet about Global Maternal Health', 'profile_use_background_image': True, 'followers_count': 141314, 'default_profile': False, 'default_profile_image': False, 'profile_link_color': '0084B4', 'notifications': False, 'listed_count': 2212}, 'id_str': '1240774915902640130', 'in_reply_to_status_id': None, 'source': '<a href=\"https://mobile.twitter.com\" rel=\"nofollow\">Twitter Web App</a>', 'created_at': 'Thu Mar 19 22:59:27 +0000 2020', 'favorite_count': 175, 'full_text': 'What Coronavirus Means for Pregnancy and Other Things New and Expecting Mothers Should Know https://t.co/gZm6auPHqv', 'entities': {'hashtags': [], 'user_mentions': [], 'urls': [{'display_url': 'propublica.org/article/corona…', 'expanded_url': 'https://www.propublica.org/article/coronavirus-and-pregnancy-expecting-mothers-q-and-a', 'indices': [92, 115], 'url': 'https://t.co/gZm6auPHqv'}], 'symbols': []}, 'possibly_sensitive': False, 'is_quote_status': False, 'in_reply_to_user_id': None, 'id': 1240774915902640130, 'geo': None, 'coordinates': None, 'in_reply_to_status_id_str': None, 'favorited': False, 'place': None, 'truncated': False, 'lang': 'en', 'in_reply_to_screen_name': None, 'retweeted': False}, 'in_reply_to_screen_name': None, 'retweeted': False}\n"
     ]
    }
   ],
   "source": [
    "import json\n",
    "with open('../data/coronavirus-tweet-id-2020-03-21-03.jsonl', 'r') as f:\n",
    "    for line in f:\n",
    "        data = json.loads(line.strip())\n",
    "        if 'retweeted_status' in data:\n",
    "            print(data)\n",
    "            break"
   ]
  },
  {
   "cell_type": "code",
   "execution_count": 190,
   "metadata": {},
   "outputs": [],
   "source": [
    "import gzip\n",
    "\n",
    "bad = []\n",
    "with gzip.open('../data/retweets.0301-0307.csv.gz', 'rt', encoding='utf-8') as f:\n",
    "    for line in f:\n",
    "        if line.startswith('tweetId'):\n",
    "            continue\n",
    "\n",
    "        tweet = line.split(',')\n",
    "        tweet[-1] = tweet[-1].strip() # remove the newline char\n",
    "        if len(tweet) != 16:\n",
    "            bad.append(tweet)"
   ]
  },
  {
   "cell_type": "code",
   "execution_count": 192,
   "metadata": {},
   "outputs": [
    {
     "data": {
      "text/plain": [
       "[['1234150297519284224',\n",
       "  '1233867835971121153',\n",
       "  '3302638123',\n",
       "  'Doubur1',\n",
       "  '2020',\n",
       "  '3',\n",
       "  '1',\n",
       "  '6',\n",
       "  '16',\n",
       "  '15',\n",
       "  '0:00:00',\n",
       "  '',\n",
       "  '',\n",
       "  'Edmonton alberta'],\n",
       " ['', '', ''],\n",
       " ['1235979771751915522',\n",
       "  '1235905982015954945',\n",
       "  '194940345',\n",
       "  'redsquirrel13',\n",
       "  '2020',\n",
       "  '3',\n",
       "  '6',\n",
       "  '4',\n",
       "  '17',\n",
       "  '25',\n",
       "  '0:00:00',\n",
       "  '',\n",
       "  '',\n",
       "  'Market Harborough'],\n",
       " ['', '', '']]"
      ]
     },
     "execution_count": 192,
     "metadata": {},
     "output_type": "execute_result"
    }
   ],
   "source": [
    "bad"
   ]
  }
 ],
 "metadata": {
  "kernelspec": {
   "display_name": "Python [conda env:covid]",
   "language": "python",
   "name": "conda-env-covid-py"
  },
  "language_info": {
   "codemirror_mode": {
    "name": "ipython",
    "version": 3
   },
   "file_extension": ".py",
   "mimetype": "text/x-python",
   "name": "python",
   "nbconvert_exporter": "python",
   "pygments_lexer": "ipython3",
   "version": "3.6.10"
  }
 },
 "nbformat": 4,
 "nbformat_minor": 2
}
