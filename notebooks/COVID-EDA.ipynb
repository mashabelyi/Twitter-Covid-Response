{
 "cells": [
  {
   "cell_type": "markdown",
   "metadata": {},
   "source": [
    "# COVID19 Tweets EDA\n",
    "\n",
    "- using data from Sun March 15 - Sat March 21"
   ]
  },
  {
   "cell_type": "code",
   "execution_count": 1,
   "metadata": {},
   "outputs": [
    {
     "name": "stdout",
     "output_type": "stream",
     "text": [
      "/Users/mashabelyi/UCBerkeley/courses/Spring_2020/InfoViz/project/notebooks\n"
     ]
    }
   ],
   "source": [
    "import gzip, os, re\n",
    "import json\n",
    "from datetime import datetime\n",
    "import numpy as np\n",
    "import pandas as pd\n",
    "from collections import defaultdict, Counter\n",
    "from matplotlib import pyplot as plt\n",
    "print(os.getcwd())"
   ]
  },
  {
   "cell_type": "code",
   "execution_count": 4,
   "metadata": {
    "scrolled": false
   },
   "outputs": [
    {
     "name": "stderr",
     "output_type": "stream",
     "text": [
      "b'Skipping line 19142: expected 25 fields, saw 36\\n'\n",
      "b'Skipping line 400855: expected 25 fields, saw 36\\n'\n",
      "b'Skipping line 448810: expected 25 fields, saw 36\\n'\n"
     ]
    },
    {
     "name": "stdout",
     "output_type": "stream",
     "text": [
      "(550608, 25)\n"
     ]
    },
    {
     "data": {
      "text/html": [
       "<div>\n",
       "<style scoped>\n",
       "    .dataframe tbody tr th:only-of-type {\n",
       "        vertical-align: middle;\n",
       "    }\n",
       "\n",
       "    .dataframe tbody tr th {\n",
       "        vertical-align: top;\n",
       "    }\n",
       "\n",
       "    .dataframe thead th {\n",
       "        text-align: right;\n",
       "    }\n",
       "</style>\n",
       "<table border=\"1\" class=\"dataframe\">\n",
       "  <thead>\n",
       "    <tr style=\"text-align: right;\">\n",
       "      <th></th>\n",
       "      <th>tweetId</th>\n",
       "      <th>lang</th>\n",
       "      <th>userId</th>\n",
       "      <th>user_screen_name</th>\n",
       "      <th>year</th>\n",
       "      <th>month</th>\n",
       "      <th>date</th>\n",
       "      <th>day</th>\n",
       "      <th>hour</th>\n",
       "      <th>minute</th>\n",
       "      <th>...</th>\n",
       "      <th>urls</th>\n",
       "      <th>emojis</th>\n",
       "      <th>sentiment</th>\n",
       "      <th>retweet_cont</th>\n",
       "      <th>favorite_count</th>\n",
       "      <th>lat</th>\n",
       "      <th>long</th>\n",
       "      <th>user_location</th>\n",
       "      <th>place_name</th>\n",
       "      <th>place_bbox</th>\n",
       "    </tr>\n",
       "  </thead>\n",
       "  <tbody>\n",
       "    <tr>\n",
       "      <td>0</td>\n",
       "      <td>1236758588439375872</td>\n",
       "      <td>en</td>\n",
       "      <td>2723456510</td>\n",
       "      <td>TinfoilTricorn</td>\n",
       "      <td>2020</td>\n",
       "      <td>3</td>\n",
       "      <td>8</td>\n",
       "      <td>6</td>\n",
       "      <td>21</td>\n",
       "      <td>0</td>\n",
       "      <td>...</td>\n",
       "      <td>NaN</td>\n",
       "      <td>NaN</td>\n",
       "      <td>-0.0931</td>\n",
       "      <td>0</td>\n",
       "      <td>1</td>\n",
       "      <td>NaN</td>\n",
       "      <td>NaN</td>\n",
       "      <td>Valley Forge; PA</td>\n",
       "      <td>NaN</td>\n",
       "      <td>NaN</td>\n",
       "    </tr>\n",
       "    <tr>\n",
       "      <td>1</td>\n",
       "      <td>1236758588653215745</td>\n",
       "      <td>en</td>\n",
       "      <td>470373280</td>\n",
       "      <td>ThinkingKlearly</td>\n",
       "      <td>2020</td>\n",
       "      <td>3</td>\n",
       "      <td>8</td>\n",
       "      <td>6</td>\n",
       "      <td>21</td>\n",
       "      <td>0</td>\n",
       "      <td>...</td>\n",
       "      <td>salon.com</td>\n",
       "      <td>NaN</td>\n",
       "      <td>-0.4019</td>\n",
       "      <td>0</td>\n",
       "      <td>0</td>\n",
       "      <td>NaN</td>\n",
       "      <td>NaN</td>\n",
       "      <td>End the Drug War</td>\n",
       "      <td>NaN</td>\n",
       "      <td>NaN</td>\n",
       "    </tr>\n",
       "    <tr>\n",
       "      <td>2</td>\n",
       "      <td>1236758588762267648</td>\n",
       "      <td>en</td>\n",
       "      <td>28821344</td>\n",
       "      <td>wassimz</td>\n",
       "      <td>2020</td>\n",
       "      <td>3</td>\n",
       "      <td>8</td>\n",
       "      <td>6</td>\n",
       "      <td>21</td>\n",
       "      <td>0</td>\n",
       "      <td>...</td>\n",
       "      <td>NaN</td>\n",
       "      <td>NaN</td>\n",
       "      <td>0.3182</td>\n",
       "      <td>0</td>\n",
       "      <td>0</td>\n",
       "      <td>NaN</td>\n",
       "      <td>NaN</td>\n",
       "      <td>Beirut</td>\n",
       "      <td>NaN</td>\n",
       "      <td>NaN</td>\n",
       "    </tr>\n",
       "    <tr>\n",
       "      <td>3</td>\n",
       "      <td>1236758591115153408</td>\n",
       "      <td>en</td>\n",
       "      <td>24209167</td>\n",
       "      <td>JoshShapiroPA</td>\n",
       "      <td>2020</td>\n",
       "      <td>3</td>\n",
       "      <td>8</td>\n",
       "      <td>6</td>\n",
       "      <td>21</td>\n",
       "      <td>0</td>\n",
       "      <td>...</td>\n",
       "      <td>NaN</td>\n",
       "      <td>NaN</td>\n",
       "      <td>0.8316</td>\n",
       "      <td>15</td>\n",
       "      <td>35</td>\n",
       "      <td>NaN</td>\n",
       "      <td>NaN</td>\n",
       "      <td>Pennsylvania; USA</td>\n",
       "      <td>NaN</td>\n",
       "      <td>NaN</td>\n",
       "    </tr>\n",
       "    <tr>\n",
       "      <td>4</td>\n",
       "      <td>1236758591329177603</td>\n",
       "      <td>en</td>\n",
       "      <td>16950863</td>\n",
       "      <td>KRLD</td>\n",
       "      <td>2020</td>\n",
       "      <td>3</td>\n",
       "      <td>8</td>\n",
       "      <td>6</td>\n",
       "      <td>21</td>\n",
       "      <td>0</td>\n",
       "      <td>...</td>\n",
       "      <td>krld.radio.com</td>\n",
       "      <td>NaN</td>\n",
       "      <td>0.0000</td>\n",
       "      <td>0</td>\n",
       "      <td>1</td>\n",
       "      <td>NaN</td>\n",
       "      <td>NaN</td>\n",
       "      <td>Dallas; TX</td>\n",
       "      <td>NaN</td>\n",
       "      <td>NaN</td>\n",
       "    </tr>\n",
       "  </tbody>\n",
       "</table>\n",
       "<p>5 rows × 25 columns</p>\n",
       "</div>"
      ],
      "text/plain": [
       "               tweetId lang      userId user_screen_name  year  month  date  \\\n",
       "0  1236758588439375872   en  2723456510   TinfoilTricorn  2020      3     8   \n",
       "1  1236758588653215745   en   470373280  ThinkingKlearly  2020      3     8   \n",
       "2  1236758588762267648   en    28821344          wassimz  2020      3     8   \n",
       "3  1236758591115153408   en    24209167    JoshShapiroPA  2020      3     8   \n",
       "4  1236758591329177603   en    16950863             KRLD  2020      3     8   \n",
       "\n",
       "   day  hour  minute  ...            urls emojis sentiment retweet_cont  \\\n",
       "0    6    21       0  ...             NaN    NaN   -0.0931            0   \n",
       "1    6    21       0  ...       salon.com    NaN   -0.4019            0   \n",
       "2    6    21       0  ...             NaN    NaN    0.3182            0   \n",
       "3    6    21       0  ...             NaN    NaN    0.8316           15   \n",
       "4    6    21       0  ...  krld.radio.com    NaN    0.0000            0   \n",
       "\n",
       "  favorite_count lat long      user_location  place_name  place_bbox  \n",
       "0              1 NaN  NaN   Valley Forge; PA         NaN         NaN  \n",
       "1              0 NaN  NaN   End the Drug War         NaN         NaN  \n",
       "2              0 NaN  NaN             Beirut         NaN         NaN  \n",
       "3             35 NaN  NaN  Pennsylvania; USA         NaN         NaN  \n",
       "4              1 NaN  NaN         Dallas; TX         NaN         NaN  \n",
       "\n",
       "[5 rows x 25 columns]"
      ]
     },
     "execution_count": 4,
     "metadata": {},
     "output_type": "execute_result"
    }
   ],
   "source": [
    "tweets = pd.read_csv('../data/tweets.0308-0314.csv', error_bad_lines=False, index_col=False)\n",
    "# tweets = pd.read_csv('../scripts/tweets.0301-0331.usa.csv', error_bad_lines=False, index_col=False)\n",
    "print(tweets.shape)\n",
    "tweets.head()"
   ]
  },
  {
   "cell_type": "markdown",
   "metadata": {},
   "source": [
    "**Check number of NaNs in each column**"
   ]
  },
  {
   "cell_type": "code",
   "execution_count": 9,
   "metadata": {
    "scrolled": true
   },
   "outputs": [
    {
     "data": {
      "text/plain": [
       "tweetId             100.000000\n",
       "lang                100.000000\n",
       "userId              100.000000\n",
       "user_screen_name    100.000000\n",
       "year                100.000000\n",
       "month               100.000000\n",
       "date                100.000000\n",
       "day                 100.000000\n",
       "hour                100.000000\n",
       "minute              100.000000\n",
       "utc_offset          100.000000\n",
       "text                 99.804035\n",
       "hashtags             26.161625\n",
       "user_mentions        42.786520\n",
       "symbols               0.207225\n",
       "urls                 36.335832\n",
       "emojis                9.883620\n",
       "sentiment           100.000000\n",
       "retweet_cont        100.000000\n",
       "favorite_count      100.000000\n",
       "lat                   0.129675\n",
       "long                  0.129675\n",
       "user_location        71.687480\n",
       "place_name            3.156511\n",
       "place_bbox            3.156511\n",
       "dtype: float64"
      ]
     },
     "execution_count": 9,
     "metadata": {},
     "output_type": "execute_result"
    }
   ],
   "source": [
    "100*(tweets.shape[0]-tweets.isna().sum())/tweets.shape[0]"
   ]
  },
  {
   "cell_type": "markdown",
   "metadata": {},
   "source": [
    "**Check column types**"
   ]
  },
  {
   "cell_type": "code",
   "execution_count": 156,
   "metadata": {
    "scrolled": true
   },
   "outputs": [
    {
     "data": {
      "text/plain": [
       "tweetId               int64\n",
       "lang                 object\n",
       "userId                int64\n",
       "user_screen_name     object\n",
       "year                  int64\n",
       "month                 int64\n",
       "date                  int64\n",
       "day                   int64\n",
       "hour                  int64\n",
       "minute                int64\n",
       "utc_offset           object\n",
       "text                 object\n",
       "hashtags             object\n",
       "user_mentions        object\n",
       "symbols              object\n",
       "urls                 object\n",
       "emojis               object\n",
       "sentiment           float64\n",
       "retweet_cont          int64\n",
       "favorite_count        int64\n",
       "lat                 float64\n",
       "long                float64\n",
       "user_location        object\n",
       "place_name           object\n",
       "place_bbox           object\n",
       "dtype: object"
      ]
     },
     "execution_count": 156,
     "metadata": {},
     "output_type": "execute_result"
    }
   ],
   "source": [
    "tweets.dtypes"
   ]
  },
  {
   "cell_type": "markdown",
   "metadata": {},
   "source": [
    "**<span style=\"color:red\">WARNING! Note that sentiment=0.0 when text is NaN. Remember to remove rows where text is NaN from any sentiment analysis!</span>**"
   ]
  },
  {
   "cell_type": "code",
   "execution_count": 157,
   "metadata": {},
   "outputs": [
    {
     "data": {
      "text/html": [
       "<div>\n",
       "<style scoped>\n",
       "    .dataframe tbody tr th:only-of-type {\n",
       "        vertical-align: middle;\n",
       "    }\n",
       "\n",
       "    .dataframe tbody tr th {\n",
       "        vertical-align: top;\n",
       "    }\n",
       "\n",
       "    .dataframe thead th {\n",
       "        text-align: right;\n",
       "    }\n",
       "</style>\n",
       "<table border=\"1\" class=\"dataframe\">\n",
       "  <thead>\n",
       "    <tr style=\"text-align: right;\">\n",
       "      <th></th>\n",
       "      <th>text</th>\n",
       "      <th>sentiment</th>\n",
       "    </tr>\n",
       "  </thead>\n",
       "  <tbody>\n",
       "    <tr>\n",
       "      <td>321</td>\n",
       "      <td>NaN</td>\n",
       "      <td>0.0</td>\n",
       "    </tr>\n",
       "    <tr>\n",
       "      <td>821</td>\n",
       "      <td>NaN</td>\n",
       "      <td>0.0</td>\n",
       "    </tr>\n",
       "    <tr>\n",
       "      <td>992</td>\n",
       "      <td>NaN</td>\n",
       "      <td>0.0</td>\n",
       "    </tr>\n",
       "    <tr>\n",
       "      <td>2051</td>\n",
       "      <td>NaN</td>\n",
       "      <td>0.0</td>\n",
       "    </tr>\n",
       "    <tr>\n",
       "      <td>3847</td>\n",
       "      <td>NaN</td>\n",
       "      <td>0.0</td>\n",
       "    </tr>\n",
       "  </tbody>\n",
       "</table>\n",
       "</div>"
      ],
      "text/plain": [
       "     text  sentiment\n",
       "321   NaN        0.0\n",
       "821   NaN        0.0\n",
       "992   NaN        0.0\n",
       "2051  NaN        0.0\n",
       "3847  NaN        0.0"
      ]
     },
     "execution_count": 157,
     "metadata": {},
     "output_type": "execute_result"
    }
   ],
   "source": [
    "tweets[tweets.text.isna()][['text', 'sentiment']].head()"
   ]
  },
  {
   "cell_type": "markdown",
   "metadata": {},
   "source": [
    "## Hashtags - Usage over Time"
   ]
  },
  {
   "cell_type": "code",
   "execution_count": 160,
   "metadata": {},
   "outputs": [
    {
     "name": "stdout",
     "output_type": "stream",
     "text": [
      "54137 unique hashtags in 144048 tweets\n",
      "Top hashtags:\n"
     ]
    },
    {
     "data": {
      "text/plain": [
       "[('coronavirus', 66606),\n",
       " ('covid19', 38008),\n",
       " ('covidー19', 7650),\n",
       " ('corona', 4402),\n",
       " ('covid2019', 3992),\n",
       " ('coronavirusoutbreak', 3924),\n",
       " ('covid', 3456),\n",
       " ('covid_19', 3432),\n",
       " ('coronavirusupdate', 3091),\n",
       " ('china', 2771)]"
      ]
     },
     "execution_count": 160,
     "metadata": {},
     "output_type": "execute_result"
    }
   ],
   "source": [
    "hashtags = [x.split() for x in tweets.hashtags if type(x)==str]\n",
    "hashtag_counter = Counter()\n",
    "for tags in hashtags:\n",
    "    for tag in tags:\n",
    "        hashtag_counter[tag.lower()] += 1\n",
    "        \n",
    "print(\"{} unique hashtags in {} tweets\".format(len(hashtag_counter), len(hashtags)))\n",
    "print(\"Top hashtags:\")\n",
    "hashtag_counter.most_common(10)"
   ]
  },
  {
   "cell_type": "markdown",
   "metadata": {},
   "source": [
    "Count how many times each hashtag is used every day. This takes a little bit longer to run."
   ]
  },
  {
   "cell_type": "code",
   "execution_count": 161,
   "metadata": {},
   "outputs": [],
   "source": [
    "hashtag_by_date = defaultdict(lambda: defaultdict(int))\n",
    "for idx, row in tweets[~tweets.hashtags.isnull()].iterrows():\n",
    "    date = row['date']\n",
    "    tags = row['hashtags'].split()\n",
    "    for t in tags:\n",
    "        hashtag_by_date[t][date] += 1\n",
    "    "
   ]
  },
  {
   "cell_type": "code",
   "execution_count": 176,
   "metadata": {
    "scrolled": false
   },
   "outputs": [
    {
     "data": {
      "image/png": "[encoded data removed]",
      "text/plain": [
       "<Figure size 720x360 with 1 Axes>"
      ]
     },
     "metadata": {
      "needs_background": "light"
     },
     "output_type": "display_data"
    }
   ],
   "source": [
    "fig, ax = plt.subplots(1, 1, figsize=(10,5))\n",
    "ax.spines['right'].set_visible(False)\n",
    "ax.spines['top'].set_visible(False)\n",
    "ax.set_xlabel('Date', fontsize=14)\n",
    "ax.set_ylabel('Frequency', fontsize=14)\n",
    "ax.set_title('Hashtag usage over time', fontsize=16)\n",
    "\n",
    "# dates = [15,16,17,18,19,20,21]\n",
    "dates = np.arange(8,15)\n",
    "labels = []\n",
    "for tag, freq in hashtag_counter.most_common()[500:510]:\n",
    "    counts = [hashtag_by_date[tag][date] for date in dates]\n",
    "    labels.append('#'+tag)\n",
    "#     print(tag, dates, counts)\n",
    "    ax.plot(dates, counts)\n",
    "\n",
    "ax.legend(labels)\n",
    "plt.show()\n",
    "    \n",
    "    \n",
    "    "
   ]
  },
  {
   "cell_type": "markdown",
   "metadata": {},
   "source": [
    "## Sentiment Analysis\n",
    "\n",
    "[VADER: A Parsimonious Rule-based Model for Sentiment Analysis of Social Media Text](http://comp.social.gatech.edu/papers/icwsm14.vader.hutto.pdf)\n",
    "\n",
    "Do NOT use the nltk built-in version of Vader. It doesn't hndle punctuation and emojis well (see below).\n",
    "\n",
    "Instead install vaderSentiment directly with \n",
    "```\n",
    "pip install vaderSentiment\n",
    "```"
   ]
  },
  {
   "cell_type": "code",
   "execution_count": 79,
   "metadata": {},
   "outputs": [
    {
     "name": "stdout",
     "output_type": "stream",
     "text": [
      "Requirement already satisfied: vaderSentiment in /Users/mashabelyi/anaconda3/envs/DMA/lib/python3.6/site-packages (3.3.1)\n",
      "Note: you may need to restart the kernel to use updated packages.\n"
     ]
    }
   ],
   "source": [
    "pip install vaderSentiment"
   ]
  },
  {
   "cell_type": "code",
   "execution_count": null,
   "metadata": {},
   "outputs": [],
   "source": [
    "from vaderSentiment.vaderSentiment import SentimentIntensityAnalyzer\n",
    "analyser = SentimentIntensityAnalyzer()"
   ]
  },
  {
   "cell_type": "code",
   "execution_count": 66,
   "metadata": {},
   "outputs": [
    {
     "name": "stdout",
     "output_type": "stream",
     "text": [
      "vaderSentiment:\n",
      "{'neg': 0.0, 'neu': 0.522, 'pos': 0.478, 'compound': 0.6705}\n",
      "{'neg': 0.0, 'neu': 0.362, 'pos': 0.638, 'compound': 0.7418}\n",
      "\n",
      "ltk:\n",
      "{'neg': 0.0, 'neu': 1.0, 'pos': 0.0, 'compound': 0.0}\n",
      "{'neg': 0.0, 'neu': 1.0, 'pos': 0.0, 'compound': 0.0}\n"
     ]
    }
   ],
   "source": [
    "print(\"vaderSentiment:\")\n",
    "print(analyser.polarity_scores('I am 😄  today'))\n",
    "print(analyser.polarity_scores('This is so exciting!!!!'))\n",
    "\n",
    "print('\\nltk:')\n",
    "print(sent.polarity_scores('I am 😄  today'))\n",
    "print(sent.polarity_scores('This is so exciting!!!!'))"
   ]
  },
  {
   "cell_type": "markdown",
   "metadata": {},
   "source": [
    "Create a new `sentiment` column with the compound score returned from the VADER Sentiment Analyzer tool."
   ]
  },
  {
   "cell_type": "code",
   "execution_count": 67,
   "metadata": {},
   "outputs": [],
   "source": [
    "def get_sentiment(row):\n",
    "    try:\n",
    "        return analyser.polarity_scores(row['text'])['compound']\n",
    "    except:\n",
    "        # if text is nan -> return nan\n",
    "        return np.nan\n",
    "\n",
    "tweets['sentiment'] = tweets.apply(lambda row: get_sentiment(row), axis=1)"
   ]
  },
  {
   "cell_type": "markdown",
   "metadata": {},
   "source": [
    "Count number of positive, negative, neutral tweets by date"
   ]
  },
  {
   "cell_type": "code",
   "execution_count": 179,
   "metadata": {},
   "outputs": [],
   "source": [
    "def sentiment_cat(v):\n",
    "    if v > 0.1:\n",
    "        return 'positive'\n",
    "    elif v < -0.1:\n",
    "        return 'negatvie'\n",
    "    else:\n",
    "        return 'neutral'\n",
    "    \n",
    "sentiment_by_day = defaultdict(lambda: defaultdict(int))\n",
    "for idx, row in tweets[~tweets.text.isnull()].iterrows():\n",
    "    date = row['date']\n",
    "    sentiment = row['sentiment']\n",
    "    sentiment_by_day[date][sentiment_cat(sentiment)] += 1"
   ]
  },
  {
   "cell_type": "code",
   "execution_count": 180,
   "metadata": {},
   "outputs": [
    {
     "data": {
      "text/plain": [
       "{8: 88083, 12: 74074, 10: 81460, 11: 86624, 13: 66787, 9: 92789, 14: 59712}"
      ]
     },
     "execution_count": 180,
     "metadata": {},
     "output_type": "execute_result"
    }
   ],
   "source": [
    "totals = {d:sum(sentiment_by_day[d].values()) for d in sentiment_by_day}\n",
    "totals"
   ]
  },
  {
   "cell_type": "code",
   "execution_count": 182,
   "metadata": {},
   "outputs": [
    {
     "data": {
      "image/png": "[encoded data removed]",
      "text/plain": [
       "<Figure size 720x360 with 1 Axes>"
      ]
     },
     "metadata": {
      "needs_background": "light"
     },
     "output_type": "display_data"
    }
   ],
   "source": [
    "# dates = [15,16,17,18,19,20]\n",
    "dates = sorted(sentiment_by_day.keys())\n",
    "pos = [1.0*sentiment_by_day[d]['positive']/totals[d] for d in dates]\n",
    "neg = [1.0*sentiment_by_day[d]['negatvie']/totals[d] for d in dates]\n",
    "neu = [1.0*sentiment_by_day[d]['neutral']/totals[d] for d in dates]\n",
    "\n",
    "fig, ax = plt.subplots(1, 1, figsize=(10,5))\n",
    "ax.spines['right'].set_visible(False)\n",
    "ax.spines['top'].set_visible(False)\n",
    "ax.set_xlabel('Date', fontsize=14)\n",
    "ax.set_ylabel('Frequency', fontsize=14)\n",
    "ax.set_title('Daily sentiment on twitter', fontsize=16)\n",
    "\n",
    "plt.plot(dates, pos, 'g')\n",
    "plt.plot(dates, neg, 'r')\n",
    "plt.plot(dates, neu, 'grey')\n",
    "\n",
    "plt.show()"
   ]
  },
  {
   "cell_type": "code",
   "execution_count": 183,
   "metadata": {
    "scrolled": true
   },
   "outputs": [
    {
     "data": {
      "image/png": "[encoded data removed]",
      "text/plain": [
       "<Figure size 720x360 with 1 Axes>"
      ]
     },
     "metadata": {
      "needs_background": "light"
     },
     "output_type": "display_data"
    }
   ],
   "source": [
    "import seaborn as sns\n",
    "fig, ax = plt.subplots(1, 1, figsize=(10,5))\n",
    "ax.spines['right'].set_visible(False)\n",
    "ax.spines['top'].set_visible(False)\n",
    "\n",
    "ax.stackplot(dates,[pos, neu,neg], labels=['pos','neutral','negative'], colors=['g', 'grey', 'r'])\n",
    "ax.legend(loc='upper left')\n",
    "ax.set_xlabel('Date in March', fontsize=14)\n",
    "ax.set_ylabel('Percent of Tweets', fontsize=14)\n",
    "plt.show()\n"
   ]
  },
  {
   "cell_type": "code",
   "execution_count": 91,
   "metadata": {
    "scrolled": true
   },
   "outputs": [
    {
     "name": "stdout",
     "output_type": "stream",
     "text": [
      "\n",
      " We stand by Italy during these trying times. Share your Support for our Italian friends  They are our colleagues  friends and family. Cari amici  siamo con voi. #COVID19 #WeStandWithItaly\n",
      "{'neg': 0.0, 'neu': 0.693, 'pos': 0.307, 'compound': 0.8779}\n",
      "\n",
      " Visual art students from Art 350 intermediate painting zooms in to talk about their future project with a lot of modifications due to lack of supplies. Most of these students heavily relied on campus resources like the woodshop in the Visual Arts building. #covid19\n",
      "{'neg': 0.049, 'neu': 0.897, 'pos': 0.053, 'compound': 0.0516}\n",
      "\n",
      " University of Virginia : Request To Make UVA Spring 2020 Classes Pass/Fail An Option Due to COVID-19 - Sign the Petition!\n",
      "{'neg': 0.0, 'neu': 1.0, 'pos': 0.0, 'compound': 0.0}\n",
      "\n",
      " What’s this lot gonna do when everyone has coronavirus #EastEnders\n",
      "{'neg': 0.0, 'neu': 1.0, 'pos': 0.0, 'compound': 0.0}\n",
      "\n",
      " Find city news  updates on services  facilities  schedule changes  COVID-19 information  important numbers and more at\n",
      "{'neg': 0.0, 'neu': 0.893, 'pos': 0.107, 'compound': 0.2023}\n",
      "\n",
      " @TheoKeith @FOX9 @paulgazelka They are morons. Social distancing only works if people don't congregate. With bars and restaurants open people would go out like nothing is wrong.\n",
      "{'neg': 0.073, 'neu': 0.765, 'pos': 0.161, 'compound': 0.4125}\n",
      "\n",
      " Scolded by driver  toll booth worker in China forces herself to smile\n",
      "{'neg': 0.0, 'neu': 0.815, 'pos': 0.185, 'compound': 0.3612}\n",
      "\n",
      " most shocking thing abt this pandemic is discovering a LOT of ppl dont wash their hands 🤢\n",
      "{'neg': 0.15, 'neu': 0.85, 'pos': 0.0, 'compound': -0.4576}\n",
      "\n",
      " @DebDingell @BrendaLLawrence I work in a bldg right around the corner from Traveler's Bldg  where one of 1st positive patients worked. Lots of shared restaurants  couriers  ride shares  etc. in the area. Any plans to close down these huge bldgs to conform w/ CDC recs? Thx!\n",
      "{'neg': 0.0, 'neu': 0.755, 'pos': 0.245, 'compound': 0.906}\n",
      "\n",
      " Boris Johnson: Leisure venues need to be closed by law due to the coronavirus to safeguard jobs. - Sign the Petition!\n",
      "{'neg': 0.0, 'neu': 0.874, 'pos': 0.126, 'compound': 0.4389}\n"
     ]
    }
   ],
   "source": [
    "tweet_text = tweets.text.values\n",
    "for i in range(10):\n",
    "    print('\\n',tweet_text[i])\n",
    "    print(analyser.polarity_scores(tweet_text[i]))\n",
    "    "
   ]
  },
  {
   "cell_type": "markdown",
   "metadata": {},
   "source": [
    "## Location\n",
    "\n",
    "- do we have enough tweets with location specified? Can we map location names to geo coordinates"
   ]
  },
  {
   "cell_type": "code",
   "execution_count": 188,
   "metadata": {},
   "outputs": [
    {
     "data": {
      "text/plain": [
       "(550608, 25)"
      ]
     },
     "execution_count": 188,
     "metadata": {},
     "output_type": "execute_result"
    }
   ],
   "source": [
    "tweets.shape"
   ]
  },
  {
   "cell_type": "code",
   "execution_count": 193,
   "metadata": {},
   "outputs": [
    {
     "name": "stdout",
     "output_type": "stream",
     "text": [
      "Percent null entries\n"
     ]
    },
    {
     "data": {
      "text/plain": [
       "tweetId              0.000000\n",
       "lang                 0.000000\n",
       "userId               0.000000\n",
       "user_screen_name     0.000000\n",
       "year                 0.000000\n",
       "month                0.000000\n",
       "date                 0.000000\n",
       "day                  0.000000\n",
       "hour                 0.000000\n",
       "minute               0.000000\n",
       "utc_offset           0.000000\n",
       "text                 0.195965\n",
       "hashtags            73.838375\n",
       "user_mentions       57.213480\n",
       "symbols             99.792775\n",
       "urls                63.664168\n",
       "emojis              90.116380\n",
       "sentiment            0.000000\n",
       "retweet_cont         0.000000\n",
       "favorite_count       0.000000\n",
       "lat                 99.870325\n",
       "long                99.870325\n",
       "user_location       28.312520\n",
       "place_name          96.843489\n",
       "place_bbox          96.843489\n",
       "dtype: float64"
      ]
     },
     "execution_count": 193,
     "metadata": {},
     "output_type": "execute_result"
    }
   ],
   "source": [
    "print(\"Percent null entries\")\n",
    "100*tweets.isna().sum()/tweets.shape[0]"
   ]
  },
  {
   "cell_type": "code",
   "execution_count": 245,
   "metadata": {
    "scrolled": true
   },
   "outputs": [
    {
     "name": "stdout",
     "output_type": "stream",
     "text": [
      "[connecticut|missouri|oregon|ok|wisconsin|ut|pa|nevada|arizona|id|south carolina|alaska|minnesota|wyoming|nd|ky|mt|tx|wv|vermont|ks|mo|ri|pennsylvaniarhode island|louisiana|maryland|mi|wy|ct|north dakota|de|nh|maine|il|ny|ohio|sc|nj|mississippi|co|al|ne|fl|new jersey|sd|illinoisindiana|delaware|alabama|montananebraska|wi|ga|iowa|ms|massachusetts|virginia|arkansas|la|oklahoma|tennessee|nc|colorado|north carolina|washington|ia|mn|va|in|oh|south dakota|ma|west virginia|ca|utah|michigan|me|idaho|nv|california|florida|new mexico|kansas|hi|texas|nm|md|ar|new york|ak|kentucky|hawaii|az|wa|vt|or|new hampshire|georgia|tn]\n"
     ]
    },
    {
     "data": {
      "text/plain": [
       "<_sre.SRE_Match object; span=(0, 1), match='m'>"
      ]
     },
     "execution_count": 245,
     "metadata": {},
     "output_type": "execute_result"
    }
   ],
   "source": [
    "import re\n",
    "match_str = '({})(.*)'.format('|'.join(us_states))\n",
    "print(match_str)\n",
    "re.match(match_str, 'ma')"
   ]
  },
  {
   "cell_type": "code",
   "execution_count": 282,
   "metadata": {},
   "outputs": [
    {
     "name": "stdout",
     "output_type": "stream",
     "text": [
      "Utah\n"
     ]
    }
   ],
   "source": [
    "res = re.search(r'\\b({})\\b'.format('|'.join(us_states)), 'East Millcreek; Utah🇺🇸', flags=re.IGNORECASE)\n",
    "res == None\n",
    "print(res[1])"
   ]
  },
  {
   "cell_type": "code",
   "execution_count": 451,
   "metadata": {},
   "outputs": [],
   "source": [
    "import json\n",
    "def load_us_cities():\n",
    "    with open('us_state_cities.json', 'r') as f:\n",
    "        state_cities = json.load(f)\n",
    "    return state_cities\n",
    "# load state:[cities] json\n",
    "state_cities = load_us_cities()\n",
    "# map each city to its state\n",
    "city2state = {city.lower():state.lower() for state in state_cities for city in state_cities[state]}\n",
    "# get just a list of cities\n",
    "us_cities = [x.lower() for state, cities in state_cities.items() for x in cities ]\n",
    "\n",
    "# load us state abbreviations\n",
    "with open('us_states.json', 'r') as f:\n",
    "    data = json.load(f)\n",
    "    state2code = {v.lower():k for k,v in data.items()}\n",
    "    \n",
    "# load list of countries\n",
    "with open('countries.txt', 'r') as f:\n",
    "    countries = []\n",
    "    for line in f:\n",
    "        countries.append(line.strip())"
   ]
  },
  {
   "cell_type": "code",
   "execution_count": 544,
   "metadata": {},
   "outputs": [],
   "source": [
    "s = ''\n",
    "if s:\n",
    "    print('ye')\n"
   ]
  },
  {
   "cell_type": "code",
   "execution_count": 452,
   "metadata": {},
   "outputs": [
    {
     "data": {
      "text/plain": [
       "'MA'"
      ]
     },
     "execution_count": 452,
     "metadata": {},
     "output_type": "execute_result"
    }
   ],
   "source": [
    "# check that it works\n",
    "state2code[city2state['boston']]"
   ]
  },
  {
   "cell_type": "code",
   "execution_count": 454,
   "metadata": {
    "scrolled": true
   },
   "outputs": [
    {
     "data": {
      "text/plain": [
       "{'alabama': 'AL',\n",
       " 'alaska': 'AK',\n",
       " 'american samoa': 'AS',\n",
       " 'arizona': 'AZ',\n",
       " 'arkansas': 'AR',\n",
       " 'california': 'CA',\n",
       " 'colorado': 'CO',\n",
       " 'connecticut': 'CT',\n",
       " 'delaware': 'DE',\n",
       " 'district of columbia': 'DC',\n",
       " 'federated states of micronesia': 'FM',\n",
       " 'florida': 'FL',\n",
       " 'georgia': 'GA',\n",
       " 'guam': 'GU',\n",
       " 'hawaii': 'HI',\n",
       " 'idaho': 'ID',\n",
       " 'illinois': 'IL',\n",
       " 'indiana': 'IN',\n",
       " 'iowa': 'IA',\n",
       " 'kansas': 'KS',\n",
       " 'kentucky': 'KY',\n",
       " 'louisiana': 'LA',\n",
       " 'maine': 'ME',\n",
       " 'marshall islands': 'MH',\n",
       " 'maryland': 'MD',\n",
       " 'massachusetts': 'MA',\n",
       " 'michigan': 'MI',\n",
       " 'minnesota': 'MN',\n",
       " 'mississippi': 'MS',\n",
       " 'missouri': 'MO',\n",
       " 'montana': 'MT',\n",
       " 'nebraska': 'NE',\n",
       " 'nevada': 'NV',\n",
       " 'new hampshire': 'NH',\n",
       " 'new jersey': 'NJ',\n",
       " 'new mexico': 'NM',\n",
       " 'new york': 'NY',\n",
       " 'north carolina': 'NC',\n",
       " 'north dakota': 'ND',\n",
       " 'northern mariana islands': 'MP',\n",
       " 'ohio': 'OH',\n",
       " 'oklahoma': 'OK',\n",
       " 'oregon': 'OR',\n",
       " 'palau': 'PW',\n",
       " 'pennsylvania': 'PA',\n",
       " 'puerto rico': 'PR',\n",
       " 'rhode island': 'RI',\n",
       " 'south carolina': 'SC',\n",
       " 'south dakota': 'SD',\n",
       " 'tennessee': 'TN',\n",
       " 'texas': 'TX',\n",
       " 'utah': 'UT',\n",
       " 'vermont': 'VT',\n",
       " 'virgin islands': 'VI',\n",
       " 'virginia': 'VA',\n",
       " 'washington': 'WA',\n",
       " 'west virginia': 'WV',\n",
       " 'wisconsin': 'WI',\n",
       " 'wyoming': 'WY'}"
      ]
     },
     "execution_count": 454,
     "metadata": {},
     "output_type": "execute_result"
    }
   ],
   "source": [
    "state2code"
   ]
  },
  {
   "cell_type": "code",
   "execution_count": 455,
   "metadata": {},
   "outputs": [],
   "source": [
    "state_codes = ['AL','AK','AZ','AR','CA','CO','CT','DE', 'DC', 'FL',\n",
    "             'GA','HI','ID','IL','IN','IA','KS','KY','LA',\n",
    "             'ME','MD','MA','MI','MN','MS','MO','MT','NE',\n",
    "             'NV','NH','NJ','NM','NY','NC','ND','OH','OK',\n",
    "             'OR','PA','RI','SC','SD','TN','TX','UT','VT',\n",
    "             'VA','WA','WV','WI','WY']\n",
    "state_names = ['Alabama','Alaska',\n",
    "             'Arizona','Arkansas','California','Colorado','Connecticut','Delaware','Florida','Georgia',\n",
    "             'Hawaii','Idaho','Illinois', 'Indiana','Iowa','Kansas','Kentucky','Louisiana','Maine','Maryland',\n",
    "             'Massachusetts','Michigan','Minnesota','Mississippi','Missouri','Montana', 'Nebraska','Nevada',\n",
    "             'New Hampshire','New Jersey','New Mexico','New York','North Carolina','North Dakota',\n",
    "             'Ohio','Oklahoma','Oregon','Pennsylvania', 'Rhode Island','South Carolina','South Dakota',\n",
    "             'Tennessee','Texas','Utah','Vermont','Virginia','Washington','West Virginia','Wisconsin','Wyoming']\n",
    "\n",
    "# state_codes = [s.lower() for s in state_codes]\n",
    "# state_names = [s.lower() for s in state_names]\n",
    "\n",
    "unresolved = Counter()\n",
    "def get_state(row):\n",
    "    try:\n",
    "        # state codes\n",
    "        res = re.search(r'\\b({})\\b'.format('|'.join(state_codes)), row['user_location'], flags=re.IGNORECASE)\n",
    "        if res:\n",
    "            return res[0].upper()\n",
    "        \n",
    "        # state names\n",
    "        res = re.search(r'\\b({})\\b'.format('|'.join(state_names)), row['user_location'], flags=re.IGNORECASE)\n",
    "        if res:\n",
    "            return state2code[res[0].lower()] # convert to state code (CA, MA, IL,...)\n",
    "        \n",
    "        # check cities\n",
    "        res_city = re.search(r'\\b({})\\b'.format('|'.join(us_cities)), row['user_location'], flags=re.IGNORECASE)\n",
    "        if res_city:\n",
    "            return state2code[city2state[res_city[0].lower()]] # convert to state code (CA, MA, IL,...)\n",
    "        \n",
    "        # check countries\n",
    "        res = re.search(r'\\b({})\\b'.format('|'.join(countries)), row['user_location'], flags=re.IGNORECASE)\n",
    "        if res:\n",
    "            return res[0].lower()\n",
    "        \n",
    "        unresolved[row['user_location'].lower()] += 1\n",
    "        return np.nan\n",
    "\n",
    "    except:\n",
    "        unresolved[row['user_location']] += 1\n",
    "        # if text is nan -> return nan\n",
    "        return np.nan\n",
    "\n",
    "states = tweets.apply(lambda row: get_state(row), axis=1)"
   ]
  },
  {
   "cell_type": "code",
   "execution_count": 456,
   "metadata": {},
   "outputs": [
    {
     "name": "stdout",
     "output_type": "stream",
     "text": [
      "1690685 total tweets\n",
      "97693 unresolved locations\n",
      "262 unique location names\n",
      "828698 (49.02%) tweets with null locations\n",
      "\n",
      "861987 (50.98%) tweets with non-null locations\n"
     ]
    }
   ],
   "source": [
    "print(f\"{len(states)} total tweets\")\n",
    "print(f\"{len(unresolved)} unresolved locations\")\n",
    "print(f\"{len(states.unique())} unique location names\")\n",
    "print(\"{} ({:.2%}) tweets with null locations\".format(states.isna().sum(), states.isna().sum()/tweets.shape[0]))\n",
    "print()\n",
    "print(\"{} ({:.2%}) tweets with non-null locations\".format((~states.isna()).sum(), (~states.isna()).sum()/tweets.shape[0]))"
   ]
  },
  {
   "cell_type": "code",
   "execution_count": 408,
   "metadata": {},
   "outputs": [],
   "source": [
    "tweets['state'] = states"
   ]
  },
  {
   "cell_type": "code",
   "execution_count": 457,
   "metadata": {
    "scrolled": true
   },
   "outputs": [
    {
     "data": {
      "text/plain": [
       "state\n",
       "CA                76906\n",
       "NY                52992\n",
       "WA                43631\n",
       "india             41704\n",
       "england           38292\n",
       "TX                37110\n",
       "FL                36664\n",
       "united states     36537\n",
       "usa               26569\n",
       "nigeria           19852\n",
       "IN                17179\n",
       "OH                16077\n",
       "GA                14666\n",
       "australia         14512\n",
       "MA                14278\n",
       "IL                13674\n",
       "canada            13510\n",
       "PA                13258\n",
       "united kingdom    12296\n",
       "NC                11747\n",
       "VA                10407\n",
       "NJ                10253\n",
       "CO                 9975\n",
       "OR                 9524\n",
       "MI                 8936\n",
       "south africa       8638\n",
       "AZ                 8127\n",
       "MD                 7398\n",
       "LA                 6282\n",
       "CT                 6263\n",
       "TN                 6118\n",
       "MN                 6049\n",
       "SC                 5890\n",
       "pakistan           5716\n",
       "france             5583\n",
       "china              5573\n",
       "NH                 5477\n",
       "kenya              5429\n",
       "MO                 5274\n",
       "NV                 5249\n",
       "AL                 5146\n",
       "WI                 4435\n",
       "singapore          4378\n",
       "germany            3871\n",
       "japan              3580\n",
       "KY                 3194\n",
       "UT                 3035\n",
       "ME                 2954\n",
       "philippines        2816\n",
       "IA                 2715\n",
       "KS                 2709\n",
       "netherlands        2680\n",
       "new zealand        2648\n",
       "DE                 2646\n",
       "OK                 2549\n",
       "ghana              2541\n",
       "italy              2247\n",
       "switzerland        2103\n",
       "sweden             2059\n",
       "NM                 1965\n",
       "dtype: int64"
      ]
     },
     "execution_count": 457,
     "metadata": {},
     "output_type": "execute_result"
    }
   ],
   "source": [
    "tweets.groupby(['state']).size().sort_values(ascending=False).head(60)"
   ]
  },
  {
   "cell_type": "code",
   "execution_count": 410,
   "metadata": {},
   "outputs": [
    {
     "data": {
      "text/plain": [
       "781"
      ]
     },
     "execution_count": 410,
     "metadata": {},
     "output_type": "execute_result"
    }
   ],
   "source": [
    "sum(~tweets.lat.isna()&tweets.state.isna())"
   ]
  },
  {
   "cell_type": "code",
   "execution_count": 417,
   "metadata": {},
   "outputs": [
    {
     "data": {
      "text/plain": [
       "109732"
      ]
     },
     "execution_count": 417,
     "metadata": {},
     "output_type": "execute_result"
    }
   ],
   "source": [
    "unresolved"
   ]
  },
  {
   "cell_type": "code",
   "execution_count": 458,
   "metadata": {
    "scrolled": true
   },
   "outputs": [
    {
     "data": {
      "text/plain": [
       "[(nan, 460514),\n",
       " ('london', 11982),\n",
       " ('worldwide', 6129),\n",
       " ('earth', 4411),\n",
       " ('hong kong', 4175),\n",
       " ('global', 4048),\n",
       " ('sydney; new south wales', 3068),\n",
       " ('toronto', 2335),\n",
       " ('world', 2196),\n",
       " ('new delhi', 2087),\n",
       " ('london ', 1777),\n",
       " ('planet earth', 1759),\n",
       " ('everywhere', 1691),\n",
       " ('mumbai', 1644),\n",
       " ('internet', 1521),\n",
       " ('sydney', 1485),\n",
       " ('europe', 1473),\n",
       " ('shanghai', 1294),\n",
       " ('america', 1234),\n",
       " ('she/her', 1118),\n",
       " ('lagos', 1105),\n",
       " ('asia', 1082),\n",
       " ('national capital region', 965),\n",
       " ('beijing', 943),\n",
       " ('africa', 938),\n",
       " ('bangalore', 931),\n",
       " ('nairobi', 830),\n",
       " ('online', 779),\n",
       " ('tokyo', 770),\n",
       " ('hyderabad', 764),\n",
       " ('wherever threads are written..', 738),\n",
       " ('deutschland', 712),\n",
       " ('calgary; alberta', 686),\n",
       " ('delhi', 682),\n",
       " ('dubai', 648),\n",
       " ('brisbane; queensland', 647),\n",
       " ('around the world', 640),\n",
       " ('glasgow', 635),\n",
       " ('paris', 630),\n",
       " ('johannesburg', 578),\n",
       " ('hell', 530),\n",
       " ('estados unidos', 527),\n",
       " ('chennai', 506),\n",
       " ('brussels', 506),\n",
       " ('diksmuide; belgië', 497),\n",
       " ('italia', 496),\n",
       " ('liverpool', 496),\n",
       " ('montréal; québec', 495),\n",
       " ('seoul; republic of korea', 482),\n",
       " ('mars', 471),\n",
       " ('the world', 468),\n",
       " ('canberra', 465),\n",
       " ('abuja', 457),\n",
       " ('here', 438),\n",
       " ('日本', 425),\n",
       " ('barcelona', 425),\n",
       " ('münchen; bayern', 425),\n",
       " ('world wide', 422),\n",
       " ('edinburgh', 416),\n",
       " ('berlin', 414),\n",
       " ('north america', 402),\n",
       " ('भारत', 401),\n",
       " ('nederland', 398),\n",
       " ('wales', 395),\n",
       " ('edmonton; alberta', 394),\n",
       " ('中华人民共和国', 355),\n",
       " ('belfast', 354),\n",
       " ('ottawa', 342),\n",
       " ('he/him', 341),\n",
       " ('the internet', 338),\n",
       " ('amsterdam', 337),\n",
       " ('pnw', 336),\n",
       " ('somewhere', 333),\n",
       " ('earth ', 332),\n",
       " ('on the road', 325),\n",
       " ('thinkstan', 321),\n",
       " ('yorkshire', 320),\n",
       " ('new delhi; delhi', 319),\n",
       " ('socal', 313),\n",
       " ('heaven', 311),\n",
       " ('pacific northwest', 309),\n",
       " ('montreal', 308),\n",
       " ('北京; 中华人民共和国', 308),\n",
       " (' ', 306),\n",
       " ('home', 302),\n",
       " ('saket; new delhi', 301),\n",
       " ('cape town', 298),\n",
       " ('essex', 295),\n",
       " ('jakarta', 291),\n",
       " ('silicon valley', 279),\n",
       " ('stockholm', 279),\n",
       " ('read only memory', 279),\n",
       " ('jammu and kashmir', 278),\n",
       " ('ask why?', 278),\n",
       " ('cardiff; wales', 276),\n",
       " ('city of london; london', 275),\n",
       " ('madrid', 273),\n",
       " ('jdsupra.com', 272),\n",
       " ('#dv #csa  #daniel_morgan', 272),\n",
       " ('witness protection', 269)]"
      ]
     },
     "execution_count": 458,
     "metadata": {},
     "output_type": "execute_result"
    }
   ],
   "source": [
    "unresolved.most_common()[:100]"
   ]
  },
  {
   "cell_type": "code",
   "execution_count": null,
   "metadata": {},
   "outputs": [],
   "source": []
  },
  {
   "cell_type": "code",
   "execution_count": null,
   "metadata": {},
   "outputs": [],
   "source": []
  },
  {
   "cell_type": "code",
   "execution_count": null,
   "metadata": {},
   "outputs": [],
   "source": []
  }
 ],
 "metadata": {
  "kernelspec": {
   "display_name": "Python [conda env:DMA]",
   "language": "python",
   "name": "conda-env-DMA-py"
  },
  "language_info": {
   "codemirror_mode": {
    "name": "ipython",
    "version": 3
   },
   "file_extension": ".py",
   "mimetype": "text/x-python",
   "name": "python",
   "nbconvert_exporter": "python",
   "pygments_lexer": "ipython3",
   "version": "3.6.9"
  }
 },
 "nbformat": 4,
 "nbformat_minor": 2
}
