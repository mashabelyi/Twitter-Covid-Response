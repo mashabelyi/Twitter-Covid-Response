{
 "cells": [
  {
   "cell_type": "markdown",
   "metadata": {},
   "source": [
    "# COVID19 Tweets EDA\n",
    "\n",
    "- using data from Sun March 15 - Sat March 21"
   ]
  },
  {
   "cell_type": "code",
   "execution_count": 7,
   "metadata": {},
   "outputs": [
    {
     "name": "stdout",
     "output_type": "stream",
     "text": [
      "/Users/mashabelyi/UCBerkeley/courses/Spring_2020/InfoViz/project/notebooks\n"
     ]
    }
   ],
   "source": [
    "import gzip, os, re\n",
    "import json\n",
    "from datetime import datetime\n",
    "import numpy as np\n",
    "import pandas as pd\n",
    "from collections import defaultdict, Counter\n",
    "from matplotlib import pyplot as plt\n",
    "print(os.getcwd())"
   ]
  },
  {
   "cell_type": "code",
   "execution_count": 73,
   "metadata": {
    "scrolled": false
   },
   "outputs": [
    {
     "name": "stderr",
     "output_type": "stream",
     "text": [
      "b'Skipping line 59517: expected 23 fields, saw 28\\n'\n",
      "b'Skipping line 342534: expected 23 fields, saw 32\\nSkipping line 355993: expected 23 fields, saw 30\\n'\n"
     ]
    },
    {
     "name": "stdout",
     "output_type": "stream",
     "text": [
      "(425587, 23)\n"
     ]
    },
    {
     "data": {
      "text/html": [
       "<div>\n",
       "<style scoped>\n",
       "    .dataframe tbody tr th:only-of-type {\n",
       "        vertical-align: middle;\n",
       "    }\n",
       "\n",
       "    .dataframe tbody tr th {\n",
       "        vertical-align: top;\n",
       "    }\n",
       "\n",
       "    .dataframe thead th {\n",
       "        text-align: right;\n",
       "    }\n",
       "</style>\n",
       "<table border=\"1\" class=\"dataframe\">\n",
       "  <thead>\n",
       "    <tr style=\"text-align: right;\">\n",
       "      <th></th>\n",
       "      <th>tweetId</th>\n",
       "      <th>lang</th>\n",
       "      <th>userId</th>\n",
       "      <th>user_screen_name</th>\n",
       "      <th>year</th>\n",
       "      <th>month</th>\n",
       "      <th>date</th>\n",
       "      <th>day</th>\n",
       "      <th>hour</th>\n",
       "      <th>minute</th>\n",
       "      <th>...</th>\n",
       "      <th>user_mentions</th>\n",
       "      <th>symbols</th>\n",
       "      <th>urls</th>\n",
       "      <th>retweet_cont</th>\n",
       "      <th>favorite_count</th>\n",
       "      <th>lat</th>\n",
       "      <th>long</th>\n",
       "      <th>user_location</th>\n",
       "      <th>place_name</th>\n",
       "      <th>place_bbox</th>\n",
       "    </tr>\n",
       "  </thead>\n",
       "  <tbody>\n",
       "    <tr>\n",
       "      <td>0</td>\n",
       "      <td>1240008837261910028</td>\n",
       "      <td>en</td>\n",
       "      <td>48575013</td>\n",
       "      <td>AngeHoog</td>\n",
       "      <td>2020</td>\n",
       "      <td>3</td>\n",
       "      <td>17</td>\n",
       "      <td>1</td>\n",
       "      <td>20</td>\n",
       "      <td>15</td>\n",
       "      <td>...</td>\n",
       "      <td>NaN</td>\n",
       "      <td>NaN</td>\n",
       "      <td>NaN</td>\n",
       "      <td>1</td>\n",
       "      <td>2</td>\n",
       "      <td>NaN</td>\n",
       "      <td>NaN</td>\n",
       "      <td>Zuid-Holland; Zoetermeer</td>\n",
       "      <td>NaN</td>\n",
       "      <td>NaN</td>\n",
       "    </tr>\n",
       "    <tr>\n",
       "      <td>1</td>\n",
       "      <td>1240008840751562753</td>\n",
       "      <td>en</td>\n",
       "      <td>806585567001640960</td>\n",
       "      <td>MandaThieu</td>\n",
       "      <td>2020</td>\n",
       "      <td>3</td>\n",
       "      <td>17</td>\n",
       "      <td>1</td>\n",
       "      <td>20</td>\n",
       "      <td>15</td>\n",
       "      <td>...</td>\n",
       "      <td>NaN</td>\n",
       "      <td>NaN</td>\n",
       "      <td>NaN</td>\n",
       "      <td>0</td>\n",
       "      <td>0</td>\n",
       "      <td>NaN</td>\n",
       "      <td>NaN</td>\n",
       "      <td>Philadelphia; PA</td>\n",
       "      <td>NaN</td>\n",
       "      <td>NaN</td>\n",
       "    </tr>\n",
       "    <tr>\n",
       "      <td>2</td>\n",
       "      <td>1240008841045172225</td>\n",
       "      <td>en</td>\n",
       "      <td>939246334980382720</td>\n",
       "      <td>anguwu</td>\n",
       "      <td>2020</td>\n",
       "      <td>3</td>\n",
       "      <td>17</td>\n",
       "      <td>1</td>\n",
       "      <td>20</td>\n",
       "      <td>15</td>\n",
       "      <td>...</td>\n",
       "      <td>Change</td>\n",
       "      <td>NaN</td>\n",
       "      <td>chng.it</td>\n",
       "      <td>21</td>\n",
       "      <td>34</td>\n",
       "      <td>NaN</td>\n",
       "      <td>NaN</td>\n",
       "      <td>Honeymoon Ave</td>\n",
       "      <td>NaN</td>\n",
       "      <td>NaN</td>\n",
       "    </tr>\n",
       "    <tr>\n",
       "      <td>3</td>\n",
       "      <td>1240008841279963143</td>\n",
       "      <td>en</td>\n",
       "      <td>1222795056878444544</td>\n",
       "      <td>norfldn641</td>\n",
       "      <td>2020</td>\n",
       "      <td>3</td>\n",
       "      <td>17</td>\n",
       "      <td>1</td>\n",
       "      <td>20</td>\n",
       "      <td>15</td>\n",
       "      <td>...</td>\n",
       "      <td>NaN</td>\n",
       "      <td>NaN</td>\n",
       "      <td>NaN</td>\n",
       "      <td>0</td>\n",
       "      <td>1</td>\n",
       "      <td>NaN</td>\n",
       "      <td>NaN</td>\n",
       "      <td>NaN</td>\n",
       "      <td>NaN</td>\n",
       "      <td>NaN</td>\n",
       "    </tr>\n",
       "    <tr>\n",
       "      <td>4</td>\n",
       "      <td>1240008845059121155</td>\n",
       "      <td>en</td>\n",
       "      <td>1401177481</td>\n",
       "      <td>CityofChanMN</td>\n",
       "      <td>2020</td>\n",
       "      <td>3</td>\n",
       "      <td>17</td>\n",
       "      <td>1</td>\n",
       "      <td>20</td>\n",
       "      <td>15</td>\n",
       "      <td>...</td>\n",
       "      <td>NaN</td>\n",
       "      <td>NaN</td>\n",
       "      <td>ow.ly</td>\n",
       "      <td>0</td>\n",
       "      <td>1</td>\n",
       "      <td>NaN</td>\n",
       "      <td>NaN</td>\n",
       "      <td>Chanhassen; MN</td>\n",
       "      <td>NaN</td>\n",
       "      <td>NaN</td>\n",
       "    </tr>\n",
       "  </tbody>\n",
       "</table>\n",
       "<p>5 rows × 23 columns</p>\n",
       "</div>"
      ],
      "text/plain": [
       "               tweetId lang               userId user_screen_name  year  \\\n",
       "0  1240008837261910028   en             48575013         AngeHoog  2020   \n",
       "1  1240008840751562753   en   806585567001640960       MandaThieu  2020   \n",
       "2  1240008841045172225   en   939246334980382720           anguwu  2020   \n",
       "3  1240008841279963143   en  1222795056878444544       norfldn641  2020   \n",
       "4  1240008845059121155   en           1401177481     CityofChanMN  2020   \n",
       "\n",
       "   month  date  day  hour  minute  ... user_mentions symbols     urls  \\\n",
       "0      3    17    1    20      15  ...           NaN     NaN      NaN   \n",
       "1      3    17    1    20      15  ...           NaN     NaN      NaN   \n",
       "2      3    17    1    20      15  ...        Change     NaN  chng.it   \n",
       "3      3    17    1    20      15  ...           NaN     NaN      NaN   \n",
       "4      3    17    1    20      15  ...           NaN     NaN    ow.ly   \n",
       "\n",
       "  retweet_cont favorite_count lat  long             user_location  place_name  \\\n",
       "0            1              2 NaN   NaN  Zuid-Holland; Zoetermeer         NaN   \n",
       "1            0              0 NaN   NaN          Philadelphia; PA         NaN   \n",
       "2           21             34 NaN   NaN             Honeymoon Ave         NaN   \n",
       "3            0              1 NaN   NaN                       NaN         NaN   \n",
       "4            0              1 NaN   NaN            Chanhassen; MN         NaN   \n",
       "\n",
       "   place_bbox  \n",
       "0         NaN  \n",
       "1         NaN  \n",
       "2         NaN  \n",
       "3         NaN  \n",
       "4         NaN  \n",
       "\n",
       "[5 rows x 23 columns]"
      ]
     },
     "execution_count": 73,
     "metadata": {},
     "output_type": "execute_result"
    }
   ],
   "source": [
    "tweets = pd.read_csv('../tweets.0315-0321.csv', error_bad_lines=False)\n",
    "# tweets = pd.read_csv('../tweets.csv', error_bad_lines=False)\n",
    "print(tweets.shape)\n",
    "tweets.head()"
   ]
  },
  {
   "cell_type": "markdown",
   "metadata": {},
   "source": [
    "**Check number of NaNs in each column**"
   ]
  },
  {
   "cell_type": "code",
   "execution_count": 74,
   "metadata": {
    "scrolled": true
   },
   "outputs": [
    {
     "data": {
      "text/plain": [
       "tweetId                  0\n",
       "lang                     0\n",
       "userId                   0\n",
       "user_screen_name         0\n",
       "year                     0\n",
       "month                    0\n",
       "date                     0\n",
       "day                      0\n",
       "hour                     0\n",
       "minute                   0\n",
       "utc_offset               0\n",
       "text                   815\n",
       "hashtags            303661\n",
       "user_mentions       236739\n",
       "symbols             424970\n",
       "urls                275630\n",
       "retweet_cont             0\n",
       "favorite_count           0\n",
       "lat                 424455\n",
       "long                424455\n",
       "user_location       117592\n",
       "place_name          410634\n",
       "place_bbox          410634\n",
       "dtype: int64"
      ]
     },
     "execution_count": 74,
     "metadata": {},
     "output_type": "execute_result"
    }
   ],
   "source": [
    "tweets.isna().sum()"
   ]
  },
  {
   "cell_type": "markdown",
   "metadata": {},
   "source": [
    "**Check column types**"
   ]
  },
  {
   "cell_type": "code",
   "execution_count": 478,
   "metadata": {
    "scrolled": true
   },
   "outputs": [
    {
     "data": {
      "text/plain": [
       "tweetId               int64\n",
       "lang                 object\n",
       "userId                int64\n",
       "user_screen_name     object\n",
       "year                  int64\n",
       "month                 int64\n",
       "date                  int64\n",
       "day                   int64\n",
       "hour                  int64\n",
       "minute                int64\n",
       "utc_offset           object\n",
       "text                 object\n",
       "hashtags             object\n",
       "user_mentions        object\n",
       "symbols              object\n",
       "urls                 object\n",
       "retweet_cont          int64\n",
       "favorite_count        int64\n",
       "lat                 float64\n",
       "long                float64\n",
       "user_location        object\n",
       "place_name           object\n",
       "place_bbox           object\n",
       "dtype: object"
      ]
     },
     "execution_count": 478,
     "metadata": {},
     "output_type": "execute_result"
    }
   ],
   "source": [
    "tweets.dtypes"
   ]
  },
  {
   "cell_type": "code",
   "execution_count": null,
   "metadata": {},
   "outputs": [],
   "source": []
  },
  {
   "cell_type": "code",
   "execution_count": null,
   "metadata": {},
   "outputs": [],
   "source": [
    "# tweets[tweets.text.isna()].head()"
   ]
  },
  {
   "cell_type": "markdown",
   "metadata": {},
   "source": [
    "## Hashtags - Usage over Time"
   ]
  },
  {
   "cell_type": "code",
   "execution_count": 504,
   "metadata": {},
   "outputs": [
    {
     "name": "stdout",
     "output_type": "stream",
     "text": [
      "58925 unique hashtags in 121926 tweets\n",
      "Top hashtags:\n"
     ]
    },
    {
     "data": {
      "text/plain": [
       "[('coronavirus', 39748),\n",
       " ('covid19', 33414),\n",
       " ('covidー19', 6926),\n",
       " ('socialdistancing', 4757),\n",
       " ('coronavirusoutbreak', 4044),\n",
       " ('covid', 3331),\n",
       " ('corona', 3275),\n",
       " ('covid_19', 3056),\n",
       " ('covid2019', 2448),\n",
       " ('quarantinelife', 2262)]"
      ]
     },
     "execution_count": 504,
     "metadata": {},
     "output_type": "execute_result"
    }
   ],
   "source": [
    "hashtags = [x.split() for x in tweets.hashtags if type(x)==str]\n",
    "hashtag_counter = Counter()\n",
    "for tags in hashtags:\n",
    "    for tag in tags:\n",
    "        hashtag_counter[tag.lower()] += 1\n",
    "        \n",
    "print(\"{} unique hashtags in {} tweets\".format(len(hashtag_counter), len(hashtags)))\n",
    "print(\"Top hashtags:\")\n",
    "hashtag_counter.most_common(10)"
   ]
  },
  {
   "cell_type": "markdown",
   "metadata": {},
   "source": [
    "Count how many times each hashtag is used every day. This takes a little bit longer to run."
   ]
  },
  {
   "cell_type": "code",
   "execution_count": 505,
   "metadata": {},
   "outputs": [],
   "source": [
    "hashtag_by_date = defaultdict(lambda: defaultdict(int))\n",
    "for idx, row in tweets[~tweets.hashtags.isnull()].iterrows():\n",
    "    date = row['date']\n",
    "    tags = row['hashtags'].split()\n",
    "    for t in tags:\n",
    "        hashtag_by_date[t][date] += 1\n",
    "    "
   ]
  },
  {
   "cell_type": "code",
   "execution_count": 509,
   "metadata": {
    "scrolled": true
   },
   "outputs": [
    {
     "data": {
      "image/png": "[encoded data removed]",
      "text/plain": [
       "<Figure size 720x360 with 1 Axes>"
      ]
     },
     "metadata": {
      "needs_background": "light"
     },
     "output_type": "display_data"
    }
   ],
   "source": [
    "fig, ax = plt.subplots(1, 1, figsize=(10,5))\n",
    "ax.spines['right'].set_visible(False)\n",
    "ax.spines['top'].set_visible(False)\n",
    "ax.set_xlabel('Date', fontsize=14)\n",
    "ax.set_ylabel('Frequency', fontsize=14)\n",
    "ax.set_title('Hashtag usage over time', fontsize=16)\n",
    "\n",
    "dates = [15,16,17,18,19,20,21]\n",
    "labels = []\n",
    "for tag, freq in hashtag_counter.most_common()[100:110]:\n",
    "    counts = [hashtag_by_date[tag][date] for date in dates]\n",
    "    labels.append('#'+tag)\n",
    "#     print(tag, dates, counts)\n",
    "    ax.plot(dates, counts)\n",
    "\n",
    "ax.legend(labels)\n",
    "plt.show()\n",
    "    \n",
    "    \n",
    "    "
   ]
  },
  {
   "cell_type": "markdown",
   "metadata": {},
   "source": [
    "## Sentiment Analysis\n",
    "\n",
    "[VADER: A Parsimonious Rule-based Model for Sentiment Analysis of Social Media Text](http://comp.social.gatech.edu/papers/icwsm14.vader.hutto.pdf)\n",
    "\n",
    "Do NOT use the nltk built-in version of Vader. It doesn't hndle punctuation and emojis well (see below).\n",
    "\n",
    "Instead install vaderSentiment directly with \n",
    "```\n",
    "pip install vaderSentiment\n",
    "```"
   ]
  },
  {
   "cell_type": "code",
   "execution_count": 79,
   "metadata": {},
   "outputs": [
    {
     "name": "stdout",
     "output_type": "stream",
     "text": [
      "Requirement already satisfied: vaderSentiment in /Users/mashabelyi/anaconda3/envs/DMA/lib/python3.6/site-packages (3.3.1)\n",
      "Note: you may need to restart the kernel to use updated packages.\n"
     ]
    }
   ],
   "source": [
    "pip install vaderSentiment"
   ]
  },
  {
   "cell_type": "code",
   "execution_count": null,
   "metadata": {},
   "outputs": [],
   "source": [
    "from vaderSentiment.vaderSentiment import SentimentIntensityAnalyzer\n",
    "analyser = SentimentIntensityAnalyzer()"
   ]
  },
  {
   "cell_type": "code",
   "execution_count": 66,
   "metadata": {},
   "outputs": [
    {
     "name": "stdout",
     "output_type": "stream",
     "text": [
      "vaderSentiment:\n",
      "{'neg': 0.0, 'neu': 0.522, 'pos': 0.478, 'compound': 0.6705}\n",
      "{'neg': 0.0, 'neu': 0.362, 'pos': 0.638, 'compound': 0.7418}\n",
      "\n",
      "ltk:\n",
      "{'neg': 0.0, 'neu': 1.0, 'pos': 0.0, 'compound': 0.0}\n",
      "{'neg': 0.0, 'neu': 1.0, 'pos': 0.0, 'compound': 0.0}\n"
     ]
    }
   ],
   "source": [
    "print(\"vaderSentiment:\")\n",
    "print(analyser.polarity_scores('I am 😄  today'))\n",
    "print(analyser.polarity_scores('This is so exciting!!!!'))\n",
    "\n",
    "print('\\nltk:')\n",
    "print(sent.polarity_scores('I am 😄  today'))\n",
    "print(sent.polarity_scores('This is so exciting!!!!'))"
   ]
  },
  {
   "cell_type": "markdown",
   "metadata": {},
   "source": [
    "Create a new `sentiment` column with the compound score returned from the VADER Sentiment Analyzer tool."
   ]
  },
  {
   "cell_type": "code",
   "execution_count": 67,
   "metadata": {},
   "outputs": [],
   "source": [
    "def get_sentiment(row):\n",
    "    try:\n",
    "        return analyser.polarity_scores(row['text'])['compound']\n",
    "    except:\n",
    "        # if text is nan -> return nan\n",
    "        return np.nan\n",
    "\n",
    "tweets['sentiment'] = tweets.apply(lambda row: get_sentiment(row), axis=1)"
   ]
  },
  {
   "cell_type": "markdown",
   "metadata": {},
   "source": [
    "Count number of positive, negative, neutral tweets by date"
   ]
  },
  {
   "cell_type": "code",
   "execution_count": 68,
   "metadata": {},
   "outputs": [],
   "source": [
    "def sentiment_cat(v):\n",
    "    if v > 0.1:\n",
    "        return 'positive'\n",
    "    elif v < -0.1:\n",
    "        return 'negatvie'\n",
    "    else:\n",
    "        return 'neutral'\n",
    "    \n",
    "sentiment_by_day = defaultdict(lambda: defaultdict(int))\n",
    "for idx, row in tweets[~tweets.text.isnull()].iterrows():\n",
    "    date = row['date']\n",
    "    sentiment = row['sentiment']\n",
    "    sentiment_by_day[date][sentiment_cat(sentiment)] += 1"
   ]
  },
  {
   "cell_type": "code",
   "execution_count": 69,
   "metadata": {},
   "outputs": [
    {
     "data": {
      "text/plain": [
       "{17: 67207, 18: 62817, 20: 80326, 15: 61350, 19: 71412, 16: 66463, 21: 15197}"
      ]
     },
     "execution_count": 69,
     "metadata": {},
     "output_type": "execute_result"
    }
   ],
   "source": [
    "totals = {d:sum(sentiment_by_day[d].values()) for d in sentiment_by_day}\n",
    "totals"
   ]
  },
  {
   "cell_type": "code",
   "execution_count": 70,
   "metadata": {},
   "outputs": [
    {
     "data": {
      "image/png": "[encoded data removed]",
      "text/plain": [
       "<Figure size 720x360 with 1 Axes>"
      ]
     },
     "metadata": {
      "needs_background": "light"
     },
     "output_type": "display_data"
    }
   ],
   "source": [
    "dates = [15,16,17,18,19,20]\n",
    "pos = [1.0*sentiment_by_day[d]['positive']/totals[d] for d in dates]\n",
    "neg = [1.0*sentiment_by_day[d]['negatvie']/totals[d] for d in dates]\n",
    "neu = [1.0*sentiment_by_day[d]['neutral']/totals[d] for d in dates]\n",
    "\n",
    "fig, ax = plt.subplots(1, 1, figsize=(10,5))\n",
    "ax.spines['right'].set_visible(False)\n",
    "ax.spines['top'].set_visible(False)\n",
    "ax.set_xlabel('Date', fontsize=14)\n",
    "ax.set_ylabel('Frequency', fontsize=14)\n",
    "ax.set_title('Daily sentiment on twitter', fontsize=16)\n",
    "\n",
    "plt.plot(dates, pos, 'g')\n",
    "plt.plot(dates, neg, 'r')\n",
    "plt.plot(dates, neu, 'grey')\n",
    "\n",
    "plt.show()"
   ]
  },
  {
   "cell_type": "code",
   "execution_count": 71,
   "metadata": {
    "scrolled": true
   },
   "outputs": [
    {
     "data": {
      "image/png": "[encoded data removed]",
      "text/plain": [
       "<Figure size 720x360 with 1 Axes>"
      ]
     },
     "metadata": {
      "needs_background": "light"
     },
     "output_type": "display_data"
    }
   ],
   "source": [
    "import seaborn as sns\n",
    "fig, ax = plt.subplots(1, 1, figsize=(10,5))\n",
    "ax.spines['right'].set_visible(False)\n",
    "ax.spines['top'].set_visible(False)\n",
    "\n",
    "ax.stackplot(dates,[pos, neu,neg], labels=['pos','neutral','negative'], colors=['g', 'grey', 'r'])\n",
    "ax.legend(loc='upper left')\n",
    "ax.set_xlabel('Date in March', fontsize=14)\n",
    "ax.set_ylabel('Percent of Tweets', fontsize=14)\n",
    "plt.show()\n"
   ]
  },
  {
   "cell_type": "code",
   "execution_count": 91,
   "metadata": {
    "scrolled": false
   },
   "outputs": [
    {
     "name": "stdout",
     "output_type": "stream",
     "text": [
      "\n",
      " We stand by Italy during these trying times. Share your Support for our Italian friends  They are our colleagues  friends and family. Cari amici  siamo con voi. #COVID19 #WeStandWithItaly\n",
      "{'neg': 0.0, 'neu': 0.693, 'pos': 0.307, 'compound': 0.8779}\n",
      "\n",
      " Visual art students from Art 350 intermediate painting zooms in to talk about their future project with a lot of modifications due to lack of supplies. Most of these students heavily relied on campus resources like the woodshop in the Visual Arts building. #covid19\n",
      "{'neg': 0.049, 'neu': 0.897, 'pos': 0.053, 'compound': 0.0516}\n",
      "\n",
      " University of Virginia : Request To Make UVA Spring 2020 Classes Pass/Fail An Option Due to COVID-19 - Sign the Petition!\n",
      "{'neg': 0.0, 'neu': 1.0, 'pos': 0.0, 'compound': 0.0}\n",
      "\n",
      " What’s this lot gonna do when everyone has coronavirus #EastEnders\n",
      "{'neg': 0.0, 'neu': 1.0, 'pos': 0.0, 'compound': 0.0}\n",
      "\n",
      " Find city news  updates on services  facilities  schedule changes  COVID-19 information  important numbers and more at\n",
      "{'neg': 0.0, 'neu': 0.893, 'pos': 0.107, 'compound': 0.2023}\n",
      "\n",
      " @TheoKeith @FOX9 @paulgazelka They are morons. Social distancing only works if people don't congregate. With bars and restaurants open people would go out like nothing is wrong.\n",
      "{'neg': 0.073, 'neu': 0.765, 'pos': 0.161, 'compound': 0.4125}\n",
      "\n",
      " Scolded by driver  toll booth worker in China forces herself to smile\n",
      "{'neg': 0.0, 'neu': 0.815, 'pos': 0.185, 'compound': 0.3612}\n",
      "\n",
      " most shocking thing abt this pandemic is discovering a LOT of ppl dont wash their hands 🤢\n",
      "{'neg': 0.15, 'neu': 0.85, 'pos': 0.0, 'compound': -0.4576}\n",
      "\n",
      " @DebDingell @BrendaLLawrence I work in a bldg right around the corner from Traveler's Bldg  where one of 1st positive patients worked. Lots of shared restaurants  couriers  ride shares  etc. in the area. Any plans to close down these huge bldgs to conform w/ CDC recs? Thx!\n",
      "{'neg': 0.0, 'neu': 0.755, 'pos': 0.245, 'compound': 0.906}\n",
      "\n",
      " Boris Johnson: Leisure venues need to be closed by law due to the coronavirus to safeguard jobs. - Sign the Petition!\n",
      "{'neg': 0.0, 'neu': 0.874, 'pos': 0.126, 'compound': 0.4389}\n"
     ]
    }
   ],
   "source": [
    "tweet_text = tweets.text.values\n",
    "for i in range(10):\n",
    "    print('\\n',tweet_text[i])\n",
    "    print(analyser.polarity_scores(tweet_text[i]))\n",
    "    "
   ]
  }
 ],
 "metadata": {
  "kernelspec": {
   "display_name": "Python [conda env:DMA]",
   "language": "python",
   "name": "conda-env-DMA-py"
  },
  "language_info": {
   "codemirror_mode": {
    "name": "ipython",
    "version": 3
   },
   "file_extension": ".py",
   "mimetype": "text/x-python",
   "name": "python",
   "nbconvert_exporter": "python",
   "pygments_lexer": "ipython3",
   "version": "3.6.9"
  }
 },
 "nbformat": 4,
 "nbformat_minor": 2
}
